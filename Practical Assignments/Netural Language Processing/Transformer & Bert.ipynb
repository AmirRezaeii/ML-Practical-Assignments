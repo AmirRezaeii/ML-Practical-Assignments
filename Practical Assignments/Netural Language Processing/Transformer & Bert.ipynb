{
  "cells": [
    {
      "cell_type": "markdown",
      "metadata": {
        "id": "VivaFsd3Q6cj"
      },
      "source": [
        "<br>\n",
        "<font>\n",
        "<div dir=ltr align=center>\n",
        "<img src=\"https://cdn.freebiesupply.com/logos/large/2x/sharif-logo-png-transparent.png\" width=150 height=150> <br>\n",
        "<font color=0F5298 size=7>\n",
        "    Machine learning <br>\n",
        "<font color=2565AE size=5>\n",
        "    Computer Engineering Department <br>\n",
        "    Fall 2024<br>\n",
        "<font color=3C99D size=5>\n",
        "    Practical Assignment 5 - NLP - Transformer & Bert <br>\n",
        "</div>\n",
        "<div dir=ltr align=center>\n",
        "<font color=0CBCDF size=4>\n",
        "   &#x1F349; Masoud Tahmasbi  &#x1F349;  &#x1F353; Arash Ziyaei &#x1F353;\n",
        "<br>\n",
        "<font color=0CBCDF size=4>\n",
        "   &#x1F335; Amirhossein Akbari  &#x1F335;\n",
        "</div>\n",
        "\n",
        "____"
      ]
    },
    {
      "cell_type": "markdown",
      "metadata": {
        "id": "k15QziPnmC6d"
      },
      "source": [
        "<font color=9999FF size=4>\n",
        "&#x1F388; Full Name : Amirhosein Rezaei\n",
        "<br>\n",
        "<font color=9999FF size=4>\n",
        "&#x1F388; Student Number : 401105989"
      ]
    },
    {
      "cell_type": "markdown",
      "metadata": {
        "id": "IOfpEN2xmbN8"
      },
      "source": [
        "<font color=0080FF size=3>\n",
        "This notebook covers two key topics. First, we implement a transformer model from scratch and apply it to a specific task. Second, we fine-tune the BERT model using LoRA for efficient adaptation to a downstream task.\n",
        "</font>\n",
        "<br>\n",
        "\n",
        "**Note:**\n",
        "<br>\n",
        "<font color=66B2FF size=2>In this notebook, you are free to use any function or model from PyTorch to assist with the implementation. However, TensorFlow is not permitted for this exercise. This ensures consistency and alignment with the tools being focused on.</font>\n",
        "<br>\n",
        "<font color=red size=3>**Run All Cells Before Submission**</font>: <font color=FF99CC size=2>Before saving and submitting your notebook, please ensure you run all cells from start to finish. This practice guarantees that your notebook is self-consistent and can be evaluated correctly by others.</font>"
      ]
    },
    {
      "cell_type": "markdown",
      "metadata": {
        "id": "SpvvM0995ieR"
      },
      "source": [
        "# Section 1: Transformer\n",
        "\n",
        "The transformer architecture consists of two main components: an encoder and a decoder. Each of these components is made up of multiple layers that include self-attention mechanisms and feedforward neural networks. The self-attention mechanism is central to the transformer, as it enables the model to assess the importance of different words in a sentence by considering their relationships with one another.\n",
        "\n",
        "\n",
        "In this assignment, you should design a transformer model from scratch. You are required to implement the Encoder and Decoder components of a Transformer model."
      ]
    },
    {
      "cell_type": "code",
      "execution_count": null,
      "metadata": {
        "id": "dzIob6-Gq7Lw",
        "colab": {
          "base_uri": "https://localhost:8080/"
        },
        "outputId": "31c6e99c-7fb3-4a5d-bccc-655837d9c521"
      },
      "outputs": [
        {
          "output_type": "stream",
          "name": "stdout",
          "text": [
            "Collecting datasets\n",
            "  Downloading datasets-3.2.0-py3-none-any.whl.metadata (20 kB)\n",
            "Requirement already satisfied: filelock in /usr/local/lib/python3.11/dist-packages (from datasets) (3.16.1)\n",
            "Requirement already satisfied: numpy>=1.17 in /usr/local/lib/python3.11/dist-packages (from datasets) (1.26.4)\n",
            "Requirement already satisfied: pyarrow>=15.0.0 in /usr/local/lib/python3.11/dist-packages (from datasets) (17.0.0)\n",
            "Collecting dill<0.3.9,>=0.3.0 (from datasets)\n",
            "  Downloading dill-0.3.8-py3-none-any.whl.metadata (10 kB)\n",
            "Requirement already satisfied: pandas in /usr/local/lib/python3.11/dist-packages (from datasets) (2.2.2)\n",
            "Requirement already satisfied: requests>=2.32.2 in /usr/local/lib/python3.11/dist-packages (from datasets) (2.32.3)\n",
            "Requirement already satisfied: tqdm>=4.66.3 in /usr/local/lib/python3.11/dist-packages (from datasets) (4.67.1)\n",
            "Collecting xxhash (from datasets)\n",
            "  Downloading xxhash-3.5.0-cp311-cp311-manylinux_2_17_x86_64.manylinux2014_x86_64.whl.metadata (12 kB)\n",
            "Collecting multiprocess<0.70.17 (from datasets)\n",
            "  Downloading multiprocess-0.70.16-py311-none-any.whl.metadata (7.2 kB)\n",
            "Collecting fsspec<=2024.9.0,>=2023.1.0 (from fsspec[http]<=2024.9.0,>=2023.1.0->datasets)\n",
            "  Downloading fsspec-2024.9.0-py3-none-any.whl.metadata (11 kB)\n",
            "Requirement already satisfied: aiohttp in /usr/local/lib/python3.11/dist-packages (from datasets) (3.11.11)\n",
            "Requirement already satisfied: huggingface-hub>=0.23.0 in /usr/local/lib/python3.11/dist-packages (from datasets) (0.27.1)\n",
            "Requirement already satisfied: packaging in /usr/local/lib/python3.11/dist-packages (from datasets) (24.2)\n",
            "Requirement already satisfied: pyyaml>=5.1 in /usr/local/lib/python3.11/dist-packages (from datasets) (6.0.2)\n",
            "Requirement already satisfied: aiohappyeyeballs>=2.3.0 in /usr/local/lib/python3.11/dist-packages (from aiohttp->datasets) (2.4.4)\n",
            "Requirement already satisfied: aiosignal>=1.1.2 in /usr/local/lib/python3.11/dist-packages (from aiohttp->datasets) (1.3.2)\n",
            "Requirement already satisfied: attrs>=17.3.0 in /usr/local/lib/python3.11/dist-packages (from aiohttp->datasets) (24.3.0)\n",
            "Requirement already satisfied: frozenlist>=1.1.1 in /usr/local/lib/python3.11/dist-packages (from aiohttp->datasets) (1.5.0)\n",
            "Requirement already satisfied: multidict<7.0,>=4.5 in /usr/local/lib/python3.11/dist-packages (from aiohttp->datasets) (6.1.0)\n",
            "Requirement already satisfied: propcache>=0.2.0 in /usr/local/lib/python3.11/dist-packages (from aiohttp->datasets) (0.2.1)\n",
            "Requirement already satisfied: yarl<2.0,>=1.17.0 in /usr/local/lib/python3.11/dist-packages (from aiohttp->datasets) (1.18.3)\n",
            "Requirement already satisfied: typing-extensions>=3.7.4.3 in /usr/local/lib/python3.11/dist-packages (from huggingface-hub>=0.23.0->datasets) (4.12.2)\n",
            "Requirement already satisfied: charset-normalizer<4,>=2 in /usr/local/lib/python3.11/dist-packages (from requests>=2.32.2->datasets) (3.4.1)\n",
            "Requirement already satisfied: idna<4,>=2.5 in /usr/local/lib/python3.11/dist-packages (from requests>=2.32.2->datasets) (3.10)\n",
            "Requirement already satisfied: urllib3<3,>=1.21.1 in /usr/local/lib/python3.11/dist-packages (from requests>=2.32.2->datasets) (2.3.0)\n",
            "Requirement already satisfied: certifi>=2017.4.17 in /usr/local/lib/python3.11/dist-packages (from requests>=2.32.2->datasets) (2024.12.14)\n",
            "Requirement already satisfied: python-dateutil>=2.8.2 in /usr/local/lib/python3.11/dist-packages (from pandas->datasets) (2.8.2)\n",
            "Requirement already satisfied: pytz>=2020.1 in /usr/local/lib/python3.11/dist-packages (from pandas->datasets) (2024.2)\n",
            "Requirement already satisfied: tzdata>=2022.7 in /usr/local/lib/python3.11/dist-packages (from pandas->datasets) (2024.2)\n",
            "Requirement already satisfied: six>=1.5 in /usr/local/lib/python3.11/dist-packages (from python-dateutil>=2.8.2->pandas->datasets) (1.17.0)\n",
            "Downloading datasets-3.2.0-py3-none-any.whl (480 kB)\n",
            "\u001b[2K   \u001b[90m━━━━━━━━━━━━━━━━━━━━━━━━━━━━━━━━━━━━━━━━\u001b[0m \u001b[32m480.6/480.6 kB\u001b[0m \u001b[31m13.1 MB/s\u001b[0m eta \u001b[36m0:00:00\u001b[0m\n",
            "\u001b[?25hDownloading dill-0.3.8-py3-none-any.whl (116 kB)\n",
            "\u001b[2K   \u001b[90m━━━━━━━━━━━━━━━━━━━━━━━━━━━━━━━━━━━━━━━━\u001b[0m \u001b[32m116.3/116.3 kB\u001b[0m \u001b[31m11.0 MB/s\u001b[0m eta \u001b[36m0:00:00\u001b[0m\n",
            "\u001b[?25hDownloading fsspec-2024.9.0-py3-none-any.whl (179 kB)\n",
            "\u001b[2K   \u001b[90m━━━━━━━━━━━━━━━━━━━━━━━━━━━━━━━━━━━━━━━━\u001b[0m \u001b[32m179.3/179.3 kB\u001b[0m \u001b[31m16.1 MB/s\u001b[0m eta \u001b[36m0:00:00\u001b[0m\n",
            "\u001b[?25hDownloading multiprocess-0.70.16-py311-none-any.whl (143 kB)\n",
            "\u001b[2K   \u001b[90m━━━━━━━━━━━━━━━━━━━━━━━━━━━━━━━━━━━━━━━━\u001b[0m \u001b[32m143.5/143.5 kB\u001b[0m \u001b[31m14.3 MB/s\u001b[0m eta \u001b[36m0:00:00\u001b[0m\n",
            "\u001b[?25hDownloading xxhash-3.5.0-cp311-cp311-manylinux_2_17_x86_64.manylinux2014_x86_64.whl (194 kB)\n",
            "\u001b[2K   \u001b[90m━━━━━━━━━━━━━━━━━━━━━━━━━━━━━━━━━━━━━━━━\u001b[0m \u001b[32m194.8/194.8 kB\u001b[0m \u001b[31m19.5 MB/s\u001b[0m eta \u001b[36m0:00:00\u001b[0m\n",
            "\u001b[?25hInstalling collected packages: xxhash, fsspec, dill, multiprocess, datasets\n",
            "  Attempting uninstall: fsspec\n",
            "    Found existing installation: fsspec 2024.10.0\n",
            "    Uninstalling fsspec-2024.10.0:\n",
            "      Successfully uninstalled fsspec-2024.10.0\n",
            "\u001b[31mERROR: pip's dependency resolver does not currently take into account all the packages that are installed. This behaviour is the source of the following dependency conflicts.\n",
            "gcsfs 2024.10.0 requires fsspec==2024.10.0, but you have fsspec 2024.9.0 which is incompatible.\u001b[0m\u001b[31m\n",
            "\u001b[0mSuccessfully installed datasets-3.2.0 dill-0.3.8 fsspec-2024.9.0 multiprocess-0.70.16 xxhash-3.5.0\n"
          ]
        }
      ],
      "source": [
        "!pip install datasets\n",
        "\n",
        "# Importing libraries\n",
        "\n",
        "# PyTorch\n",
        "import torch\n",
        "import torch.nn as nn\n",
        "from torch.utils.data import Dataset, DataLoader, random_split\n",
        "from torch.utils.tensorboard import SummaryWriter\n",
        "\n",
        "# Math\n",
        "import math\n",
        "\n",
        "# HuggingFace libraries\n",
        "from datasets import load_dataset\n",
        "from tokenizers import Tokenizer\n",
        "from tokenizers.models import WordLevel\n",
        "from tokenizers.trainers import WordLevelTrainer\n",
        "from tokenizers.pre_tokenizers import Whitespace\n",
        "\n",
        "# Pathlib\n",
        "from pathlib import Path\n",
        "\n",
        "# typing\n",
        "from typing import Any\n",
        "\n",
        "# Library for progress bars in loops\n",
        "from tqdm import tqdm\n",
        "\n",
        "# Importing library of warnings\n",
        "import warnings"
      ]
    },
    {
      "cell_type": "markdown",
      "metadata": {
        "id": "-71SfIAJprox"
      },
      "source": [
        "## Part 1: Input Embeddings\n",
        "<p style = \"font-family: 'Helvetica Neue', Arial, sans-serif; text-align: left; font-size: 17.5px\">When we observe the Transformer architecture image above, we can see that the Embeddings represent the first step of both blocks.</p>\n",
        "\n",
        "<p style = \"font-family: 'Helvetica Neue', Arial, sans-serif; text-align: left; font-size: 17.5px\">The <code>InputEmbedding</code> class below is responsible for converting the input text into numerical vectors of <code>d_model</code> dimensions. To prevent that our input embeddings become extremely small, we normalize them by multiplying them by the $\\sqrt{d_{model}}$.</p>\n",
        "\n",
        "<p style = \"font-family: 'Helvetica Neue', Arial, sans-serif; text-align: left; font-size: 17.5px\">In the image below, we can see how the embeddings are created. First, we have a sentence that gets split into tokens—we will explore what tokens are later on—. Then, the token IDs—identification numbers—are transformed into the embeddings, which are high-dimensional vectors.</p>"
      ]
    },
    {
      "cell_type": "code",
      "execution_count": null,
      "metadata": {
        "id": "J-pyrJlu4Nl7"
      },
      "outputs": [],
      "source": [
        "######################  TODO  ########################\n",
        "######################  TODO  ########################\n",
        "\n",
        "# - Define a class `InputEmbeddings` inheriting from `nn.Module`\n",
        "# - Initialize the class with two parameters:\n",
        "#   1. `d_model`: Dimension of the embedding vectors\n",
        "#   2. `vocab_size`: Size of the vocabulary\n",
        "# - Create an embedding layer using `nn.Embedding` to map input indices to dense vectors\n",
        "\n",
        "# - In the `forward` method:\n",
        "#   1. Pass the input `x` through the embedding layer\n",
        "#   2. Scale the embeddings by the square root of `d_model` for variance normalization\n",
        "\n",
        "######################  TODO  ########################\n",
        "######################  TODO  ########################\n",
        "\n",
        "\n",
        "class InputEmbeddings(nn.Module):\n",
        "    def __init__(self, d_model: int, vocab_size: int):\n",
        "        super().__init__()\n",
        "        self.d_model = d_model\n",
        "        self.vocab_size = vocab_size\n",
        "        self.embedding = nn.Embedding(vocab_size, d_model)\n",
        "    def forward(self, x):\n",
        "        return self.embedding(x) * math.sqrt(self.d_model)"
      ]
    },
    {
      "cell_type": "markdown",
      "metadata": {
        "id": "RWBlo2XorJGW"
      },
      "source": [
        "## Part 2: positional encoding\n",
        "<p style = \"font-family: 'Helvetica Neue', Arial, sans-serif; text-align: left; font-size: 17.5px\">In the original paper, the authors add the positional encodings to the input embeddings at the bottom of both the encoder and decoder blocks so the model can have some information about the relative or absolute position of the tokens in the sequence. The positional encodings have the same dimension $d_{model}$ as the embeddings, so that the two vectors can be summed and we can combine the semantic content from the word embeddings and positional information from the positional encodings.</p>\n",
        "\n",
        "<p style = \"font-family: 'Helvetica Neue', Arial, sans-serif; text-align: left; font-size: 17.5px\">In the <code>PositionalEncoding</code> class below, we will create a matrix of positional encodings <code>pe</code> with dimensions <code>(seq_len, d_model)</code>. We will start by filling it with $0$s.We will then apply the sine function to even indices of the positional encoding matrix while the cosine function is applied to the odd ones.</p>\n",
        "\n",
        "<p style=\"\n",
        "    margin-bottom: 5;\n",
        "    font-size: 22px;\n",
        "    font-weight: 300;\n",
        "    font-family: 'Helvetica Neue', sans-serif;\n",
        "    color: #000000;\n",
        "  \">\n",
        "    \\begin{equation}\n",
        "    \\text{Odd Indices } (2i + 1): \\quad \\text{PE(pos, } 2i + 1) = \\cos\\left(\\frac{\\text{pos}}{10000^{2i / d_{model}}}\\right)\n",
        "    \\end{equation}\n",
        "</p>\n",
        "\n",
        "<p style = \"font-family: 'Helvetica Neue', Arial, sans-serif; text-align: left; font-size: 17.5px\">We apply the sine and cosine functions because it allows the model to determine the position of a word based on the position of other words in the sequence, since for any fixed offset $k$, $PE_{pos + k}$ can be represented as a linear function of $PE_{pos}$. This happens due to the properties of sine and cosine functions, where a shift in the input results in a predictable change in the output.</p>"
      ]
    },
    {
      "cell_type": "code",
      "execution_count": null,
      "metadata": {
        "id": "4ZG5DhVcrVVm"
      },
      "outputs": [],
      "source": [
        "######################  TODO  ########################\n",
        "######################  TODO  ########################\n",
        "\n",
        "# - Create a `PositionalEncoding` class inheriting from `nn.Module`\n",
        "# - Initialize with `d_model`, `seq_len`, and `dropout`\n",
        "# - Generate a positional encoding matrix using sine and cosine functions\n",
        "# - Register the positional encoding as a non-trainable buffer\n",
        "# - In `forward`, add positional encoding to input and apply dropout\n",
        "\n",
        "######################  TODO  ########################\n",
        "######################  TODO  ########################\n",
        "\n",
        "\n",
        "class PositionalEncoding(nn.Module):\n",
        "    def __init__(self, d_model: int, seq_len: int, dropout: float) -> None:\n",
        "        super().__init__()\n",
        "        self.d_model = d_model\n",
        "        self.seq_len = seq_len\n",
        "        self.dropout = nn.Dropout(dropout)\n",
        "        pe = torch.zeros(seq_len, d_model)\n",
        "        position = torch.arange(0, seq_len, dtype = torch.float).unsqueeze(1)\n",
        "        div_term = torch.exp(torch.arange(0, d_model, 2).float() * (-math.log(10000.0) / d_model))\n",
        "        pe[:, 0::2] = torch.sin(position * div_term)\n",
        "        pe[:, 1::2] = torch.cos(position * div_term)\n",
        "        pe = pe.unsqueeze(0)\n",
        "        self.register_buffer('pe', pe)\n",
        "\n",
        "    def forward(self, x):\n",
        "        x = x + (self.pe[:, :x.shape[1], :]).requires_grad_(False)\n",
        "        return self.dropout(x)"
      ]
    },
    {
      "cell_type": "markdown",
      "metadata": {
        "id": "T92iydQErh-P"
      },
      "source": [
        "## Part 3: layer normalization\n",
        "<p style = \"font-family: 'Helvetica Neue', Arial, sans-serif; text-align: left; font-size: 17.5px\">When we look at the encoder and decoder blocks, we see several normalization layers called <b><i>Add &amp; Norm</i></b>.</p>\n",
        "\n",
        "<p style = \"font-family: 'Helvetica Neue', Arial, sans-serif; text-align: left; font-size: 17.5px\">The <code>LayerNormalization</code> class below performs layer normalization on the input data. During its forward pass, we compute the mean and standard deviation of the input data. We then normalize the input data by subtracting the mean and dividing by the standard deviation plus a small number called epsilon to avoid any divisions by zero. This process results in a normalized output with a mean 0 and a standard deviation 1.</p>\n",
        "\n",
        "<p style = \"font-family: 'Helvetica Neue', Arial, sans-serif; text-align: left; font-size: 17.5px\">We will then scale the normalized output by a learnable parameter <code>alpha</code> and add a learnable parameter called <code>bias</code>. The training process is responsible for adjusting these parameters. The final result is a layer-normalized tensor, which ensures that the scale of the inputs to layers in the network is consistent.</p>"
      ]
    },
    {
      "cell_type": "code",
      "execution_count": null,
      "metadata": {
        "id": "kVGQRsmKrwZu"
      },
      "outputs": [],
      "source": [
        "######################  TODO  ########################\n",
        "######################  TODO  ########################\n",
        "\n",
        "# - Create a `LayerNormalization` class inheriting from `nn.Module`\n",
        "# - Initialize with `eps` (small value to prevent division by zero)\n",
        "# - Define trainable parameters:\n",
        "#   1. `alpha`: Scaling factor initialized to 1\n",
        "#   2. `bias`: Offset initialized to 0\n",
        "\n",
        "# - In `forward`, perform layer normalization:\n",
        "#   1. Compute mean and standard deviation along the last dimension\n",
        "#   2. Normalize the input using the computed mean and std\n",
        "#   3. Scale and shift using `alpha` and `bias`\n",
        "\n",
        "######################  TODO  ########################\n",
        "######################  TODO  ########################\n",
        "\n",
        "class LayerNormalization(nn.Module):\n",
        "    def __init__(self, eps: float = 10**-6) -> None:\n",
        "        super().__init__()\n",
        "        self.eps = eps\n",
        "        self.alpha = nn.Parameter(torch.ones(1))\n",
        "        self.bias = nn.Parameter(torch.zeros(1))\n",
        "\n",
        "    def forward(self, x):\n",
        "        mean = x.mean(dim = -1, keepdim = True)\n",
        "        std = x.std(dim = -1, keepdim = True)\n",
        "        return self.alpha * (x - mean) / (std + self.eps) + self.bias"
      ]
    },
    {
      "cell_type": "markdown",
      "metadata": {
        "id": "U-IbSGQMr1Ye"
      },
      "source": [
        "## Part 4: Feed Forward Network\n",
        "<p style = \"font-family: 'Helvetica Neue', Arial, sans-serif; text-align: left; font-size: 17.5px\">In the fully connected feed-forward network, we apply two linear transformations with a ReLU activation in between. We can mathematically represent this operation as:</p>\n",
        "\n",
        "<p style=\"\n",
        "    margin-bottom: 5;\n",
        "    font-size: 22px;\n",
        "    font-weight: 300;\n",
        "    font-family: 'Helvetica Neue', sans-serif;\n",
        "    color: #000000;\n",
        "  \">\n",
        "    \\begin{equation}\n",
        "    \\text{FFN}(x) = \\max(0, xW_1 + b_1)W_2 + b_2\n",
        "    \\end{equation}\n",
        "</p>\n",
        "\n",
        "\n",
        "<p style = \"font-family: 'Helvetica Neue', Arial, sans-serif; text-align: left; font-size: 17.5px\">$W_1$ and $W_2$ are the weights, while $b_1$ and $b_2$ are the biases of the two linear transformations.</p>\n",
        "\n",
        "<p style = \"font-family: 'Helvetica Neue', Arial, sans-serif; text-align: left; font-size: 17.5px\">In the <code>FeedForwardBlock</code> below, we will define the two linear transformations—<code>self.linear_1</code> and <code>self.linear_2</code>—and the inner-layer <code>d_ff</code>. The input data will first pass through the <code>self.linear_1</code> transformation, which increases its dimensionality from <code>d_model</code> to <code>d_ff</code>. The output of this operation passes through the ReLU activation function, which introduces non-linearity so the network can learn more complex patterns, and the <code>self.dropout</code> layer is applied to mitigate overfitting. The final operation is the <code>self.linear_2</code> transformation to the dropout-modified tensor, which transforms it back to the original <code>d_model</code> dimension.</p>"
      ]
    },
    {
      "cell_type": "code",
      "execution_count": null,
      "metadata": {
        "id": "N3H8kyccsEUW"
      },
      "outputs": [],
      "source": [
        "######################  TODO  ########################\n",
        "######################  TODO  ########################\n",
        "\n",
        "# - Create a `FeedForwardBlock` class inheriting from `nn.Module`\n",
        "# - Initialize with `d_model`, `d_ff`, and `dropout`\n",
        "# - Define:\n",
        "#   1. `linear_1`: Linear layer projecting from `d_model` to `d_ff`\n",
        "#   2. Dropout layer for regularization\n",
        "#   3. `linear_2`: Linear layer projecting back from `d_ff` to `d_model`\n",
        "\n",
        "# - In `forward`, apply the following steps:\n",
        "#   1. Pass input through `linear_1` followed by ReLU activation\n",
        "#   2. Apply dropout\n",
        "#   3. Pass through `linear_2` to return to original dimensions\n",
        "\n",
        "######################  TODO  ########################\n",
        "######################  TODO  ########################\n",
        "\n",
        "class FeedForwardBlock(nn.Module):\n",
        "    def __init__(self, d_model: int, d_ff: int, dropout: float) -> None:\n",
        "        super().__init__()\n",
        "        self.linear_1 = nn.Linear(d_model, d_ff)\n",
        "        self.dropout = nn.Dropout(dropout)\n",
        "        self.linear_2 = nn.Linear(d_ff, d_model)\n",
        "\n",
        "    def forward(self, x):\n",
        "        return self.linear_2(self.dropout(torch.relu(self.linear_1(x))))"
      ]
    },
    {
      "cell_type": "markdown",
      "metadata": {
        "id": "YEa1kF6csIvV"
      },
      "source": [
        "## Part 5: Multi Head Attention\n",
        "<p style = \"font-family: 'Helvetica Neue', Arial, sans-serif; text-align: left; font-size: 17.5px\">The Multi-Head Attention is the most crucial component of the Transformer. It is responsible for helping the model to understand complex relationships and patterns in the data.</p>\n",
        "\n",
        "<p style = \"font-family: 'Helvetica Neue', Arial, sans-serif; text-align: left; font-size: 17.5px\">The image below displays how the Multi-Head Attention works. It doesn't include <code>batch</code> dimension because it only illustrates the process for one single sentence.</p>\n",
        "\n",
        "<p style = \"font-family: 'Helvetica Neue', Arial, sans-serif; text-align: left; font-size: 17.5px\">The Multi-Head Attention block receives the input data split into queries, keys, and values organized into matrices $Q$, $K$, and $V$. Each matrix contains different facets of the input, and they have the same dimensions as the input.</p>\n",
        "\n",
        "<p style = \"font-family: 'Helvetica Neue', Arial, sans-serif; text-align: left; font-size: 17.5px\">We then linearly transform each matrix by their respective weight matrices $W^Q$, $W^K$, and $W^V$. These transformations will result in new matrices $Q'$, $K'$, and $V'$, which will be split into smaller matrices corresponding to different heads $h$, allowing the model to attend to information from different representation subspaces in parallel. This split creates multiple sets of queries, keys, and values for each head.</p>\n",
        "\n",
        "<p style = \"font-family: 'Helvetica Neue', Arial, sans-serif; text-align: left; font-size: 17.5px\">Finally, we concatenate every head into an $H$ matrix, which is then transformed by another weight matrix $W^o$ to produce the multi-head attention output, a matrix $MH-A$ that retains the input dimensionality.</p>"
      ]
    },
    {
      "cell_type": "code",
      "execution_count": null,
      "metadata": {
        "id": "6ujcqPp1sOU9"
      },
      "outputs": [],
      "source": [
        "class MultiHeadAttentionBlock(nn.Module):\n",
        "    def __init__(self, d_model: int, h: int, dropout: float) -> None:\n",
        "        super().__init__()\n",
        "        self.d_model = d_model\n",
        "        self.h = h\n",
        "        assert d_model % h == 0, 'd_model is not divisible by h'\n",
        "        self.d_k = d_model // h\n",
        "        self.w_q = nn.Linear(d_model, d_model)\n",
        "        self.w_k = nn.Linear(d_model, d_model)\n",
        "        self.w_v = nn.Linear(d_model, d_model)\n",
        "        self.w_o = nn.Linear(d_model, d_model)\n",
        "        self.dropout = nn.Dropout(dropout)\n",
        "    @staticmethod\n",
        "    def attention(query, key, value, mask, dropout: nn.Dropout):\n",
        "        d_k = query.shape[-1]\n",
        "        attention_scores = (query @ key.transpose(-2,-1)) / math.sqrt(d_k)\n",
        "        if mask is not None:\n",
        "            attention_scores.masked_fill_(mask == 0, -1e9)\n",
        "        attention_scores = attention_scores.softmax(dim = -1)\n",
        "        if dropout is not None:\n",
        "            attention_scores = dropout(attention_scores)\n",
        "        return (attention_scores @ value), attention_scores\n",
        "\n",
        "    def forward(self, q, k, v, mask):\n",
        "        query = self.w_q(q)\n",
        "        key = self.w_k(k)\n",
        "        value = self.w_v(v)\n",
        "        query = query.view(query.shape[0], query.shape[1], self.h, self.d_k).transpose(1,2)\n",
        "        key = key.view(key.shape[0], key.shape[1], self.h, self.d_k).transpose(1,2)\n",
        "        value = value.view(value.shape[0], value.shape[1], self.h, self.d_k).transpose(1,2)\n",
        "        x, self.attention_scores = MultiHeadAttentionBlock.attention(query, key, value, mask, self.dropout)\n",
        "        x = x.transpose(1, 2).contiguous().view(x.shape[0], -1, self.h * self.d_k)\n",
        "        return self.w_o(x)"
      ]
    },
    {
      "cell_type": "markdown",
      "metadata": {
        "id": "wCaLjCVxsWIc"
      },
      "source": [
        "## Part 6: Residual Connection\n",
        "<p style = \"font-family: 'Helvetica Neue', Arial, sans-serif; text-align: left; font-size: 17.5px\">When we look at the architecture of the Transformer, we see that each sub-layer, including the <i>self-attention</i> and <i>Feed Forward</i> blocks, adds its output to its input before passing it to the <i>Add &amp; Norm</i> layer. This approach integrates the output with the original input in the <i>Add &amp; Norm</i> layer. This process is known as the skip connection, which allows the Transformer to train deep networks more effectively by providing a shortcut for the gradient to flow through during backpropagation.</p>\n",
        "\n",
        "<p style = \"font-family: 'Helvetica Neue', Arial, sans-serif; text-align: left; font-size: 17.5px\">The <code>ResidualConnection</code> class below is responsible for this process.</p>"
      ]
    },
    {
      "cell_type": "code",
      "execution_count": null,
      "metadata": {
        "id": "f-bvuGhIsdfu"
      },
      "outputs": [],
      "source": [
        "######################  TODO  ########################\n",
        "######################  TODO  ########################\n",
        "\n",
        "# - Create a `ResidualConnection` class inheriting from `nn.Module`\n",
        "# - Initialize with `dropout`:\n",
        "#   1. Add a dropout layer for regularization\n",
        "#   2. Include a layer normalization instance\n",
        "\n",
        "# - In `forward`:\n",
        "#   1. Normalize the input using the normalization layer\n",
        "#   2. Pass the normalized input through the sublayer\n",
        "#   3. Apply dropout and add the result back to the original input for residual connection\n",
        "\n",
        "######################  TODO  ########################\n",
        "######################  TODO  ########################\n",
        "\n",
        "class ResidualConnection(nn.Module):\n",
        "    def __init__(self, dropout: float) -> None:\n",
        "        super().__init__()\n",
        "        self.dropout = nn.Dropout(dropout)\n",
        "        self.norm = LayerNormalization()\n",
        "\n",
        "    def forward(self, x, sublayer):\n",
        "        return x + self.dropout(sublayer(self.norm(x)))"
      ]
    },
    {
      "cell_type": "markdown",
      "metadata": {
        "id": "9YYI5vpasdGm"
      },
      "source": [
        "## Part 7: Encoder\n",
        "<p style = \"font-family: 'Helvetica Neue', Arial, sans-serif; text-align: left; font-size: 17.5px\">We will now build the encoder. We create the <code>EncoderBlock</code> class, consisting of the Multi-Head Attention and Feed Forward layers, plus the residual connections.</p>\n",
        "\n",
        "<p style = \"font-family: 'Helvetica Neue', Arial, sans-serif; text-align: left; font-size: 17.5px\">In the original paper, the Encoder Block repeats six times. We create the <code>Encoder</code> class as an assembly of multiple <code>EncoderBlock</code>s. We also add layer normalization as a final step after processing the input through all its blocks.</p>"
      ]
    },
    {
      "cell_type": "code",
      "execution_count": null,
      "metadata": {
        "id": "fRtppwE1s0-t"
      },
      "outputs": [],
      "source": [
        "######################  TODO  ########################\n",
        "######################  TODO  ########################\n",
        "\n",
        "# - Create an `EncoderBlock` class inheriting from `nn.Module`\n",
        "# - Initialize with:\n",
        "#   1. `self_attention_block`: Multi-head attention block\n",
        "#   2. `feed_forward_block`: Feed-forward block\n",
        "#   3. `dropout`: Dropout rate for residual connections\n",
        "# - Define two residual connections for:\n",
        "#   1. Self-attention block\n",
        "#   2. Feed-forward block\n",
        "\n",
        "# - In `forward`:\n",
        "#   1. Apply the first residual connection with the self-attention block\n",
        "#   2. Apply the second residual connection with the feed-forward block\n",
        "#   3. Return the updated tensor after both layers\n",
        "\n",
        "######################  TODO  ########################\n",
        "######################  TODO  ########################\n",
        "\n",
        "class EncoderBlock(nn.Module):\n",
        "    def __init__(self, self_attention_block: MultiHeadAttentionBlock, feed_forward_block: FeedForwardBlock, dropout: float) -> None:\n",
        "        super().__init__()\n",
        "        self.self_attention_block = self_attention_block\n",
        "        self.feed_forward_block = feed_forward_block\n",
        "        self.residual_connections = nn.ModuleList([ResidualConnection(dropout) for _ in range(2)])\n",
        "\n",
        "    def forward(self, x, src_mask):\n",
        "        x = self.residual_connections[0](x, lambda x: self.self_attention_block(x, x, x, src_mask))\n",
        "        x = self.residual_connections[1](x, self.feed_forward_block)\n",
        "        return x"
      ]
    },
    {
      "cell_type": "code",
      "execution_count": null,
      "metadata": {
        "id": "eSq7BZWcs5s1"
      },
      "outputs": [],
      "source": [
        "######################  TODO  ########################\n",
        "######################  TODO  ########################\n",
        "\n",
        "# - Create an `Encoder` class inheriting from `nn.Module`\n",
        "# - Initialize with:\n",
        "#   1. `layers`: A list of `EncoderBlock` instances\n",
        "#   2. A layer normalization instance for output normalization\n",
        "\n",
        "# - In `forward`:\n",
        "#   1. Pass the input tensor `x` through each `EncoderBlock` in `self.layers`\n",
        "#   2. Apply the mask during each block's forward pass\n",
        "#   3. Normalize the final output and return it\n",
        "\n",
        "######################  TODO  ########################\n",
        "######################  TODO  ########################\n",
        "\n",
        "class Encoder(nn.Module):\n",
        "    def __init__(self, layers: nn.ModuleList) -> None:\n",
        "        super().__init__()\n",
        "        self.layers = layers\n",
        "        self.norm = LayerNormalization()\n",
        "\n",
        "    def forward(self, x, mask):\n",
        "        for layer in self.layers:\n",
        "            x = layer(x, mask)\n",
        "        return self.norm(x)"
      ]
    },
    {
      "cell_type": "markdown",
      "metadata": {
        "id": "P0HXE1fH5g0W"
      },
      "source": [
        "## Part 8: Decoder\n",
        "<p style = \"font-family: 'Helvetica Neue', Arial, sans-serif; text-align: left; font-size: 17.5px\">Similarly, the Decoder also consists of several DecoderBlocks that repeat six times in the original paper. The main difference is that it has an additional sub-layer that performs multi-head attention with a <i>cross-attention</i> component that uses the output of the Encoder as its keys and values while using the Decoder's input as queries.</p>\n",
        "\n",
        "<p style = \"font-family: 'Helvetica Neue', Arial, sans-serif; text-align: left; font-size: 17.5px\">For the Output Embedding, we can use the same <code>InputEmbeddings</code> class we use for the Encoder. You can also notice that the self-attention sub-layer is <i>masked</i>, which restricts the model from accessing future elements in the sequence.</p>\n",
        "\n",
        "<p style = \"font-family: 'Helvetica Neue', Arial, sans-serif; text-align: left; font-size: 17.5px\">We will start by building the <code>DecoderBlock</code> class, and then we will build the <code>Decoder</code> class, which will assemble multiple <code>DecoderBlock</code>s.</p>"
      ]
    },
    {
      "cell_type": "code",
      "execution_count": null,
      "metadata": {
        "id": "V9Aof9mb4PJX"
      },
      "outputs": [],
      "source": [
        "######################  TODO  ########################\n",
        "######################  TODO  ########################\n",
        "\n",
        "# - Create a `DecoderBlock` class inheriting from `nn.Module`\n",
        "# - Initialize with:\n",
        "#   1. `self_attention_block`: Multi-head self-attention block\n",
        "#   2. `cross_attention_block`: Multi-head cross-attention block\n",
        "#   3. `feed_forward_block`: Feed-forward block\n",
        "#   4. `dropout`: Dropout rate\n",
        "# - Define three residual connections for:\n",
        "#   1. Self-attention block\n",
        "#   2. Cross-attention block\n",
        "#   3. Feed-forward block\n",
        "\n",
        "# - In `forward`:\n",
        "#   1. Apply the self-attention block with target mask and residual connection\n",
        "#   2. Apply the cross-attention block with source mask and residual connection\n",
        "#   3. Apply the feed-forward block with residual connection\n",
        "#   4. Return the updated tensor\n",
        "\n",
        "######################  TODO  ########################\n",
        "######################  TODO  ########################\n",
        "\n",
        "class DecoderBlock(nn.Module):\n",
        "    def __init__(self, self_attention_block: MultiHeadAttentionBlock, cross_attention_block: MultiHeadAttentionBlock, feed_forward_block: FeedForwardBlock, dropout: float) -> None:\n",
        "        super().__init__()\n",
        "        self.self_attention_block = self_attention_block\n",
        "        self.cross_attention_block = cross_attention_block\n",
        "        self.feed_forward_block = feed_forward_block\n",
        "        self.residual_connections = nn.ModuleList([ResidualConnection(dropout) for _ in range(3)])\n",
        "\n",
        "    def forward(self, x, encoder_output, src_mask, tgt_mask):\n",
        "        x = self.residual_connections[0](x, lambda x: self.self_attention_block(x, x, x, tgt_mask))\n",
        "        x = self.residual_connections[1](x, lambda x: self.cross_attention_block(x, encoder_output, encoder_output, src_mask))\n",
        "        x = self.residual_connections[2](x, self.feed_forward_block)\n",
        "        return x"
      ]
    },
    {
      "cell_type": "code",
      "execution_count": null,
      "metadata": {
        "id": "vwdthvkrtNUM"
      },
      "outputs": [],
      "source": [
        "######################  TODO  ########################\n",
        "######################  TODO  ########################\n",
        "\n",
        "# - Create a `Decoder` class inheriting from `nn.Module`\n",
        "# - Initialize with:\n",
        "#   1. `layers`: A list of `DecoderBlock` instances\n",
        "#   2. A layer normalization instance for the final output\n",
        "\n",
        "# - In `forward`:\n",
        "#   1. Pass the input tensor `x` through each `DecoderBlock` in `self.layers`\n",
        "#   2. Provide `encoder_output`, `src_mask`, and `tgt_mask` to each block\n",
        "#   3. Normalize the final output using the layer normalization\n",
        "#   4. Return the normalized output\n",
        "\n",
        "######################  TODO  ########################\n",
        "######################  TODO  ########################\n",
        "\n",
        "class Decoder(nn.Module):\n",
        "    def __init__(self, layers: nn.ModuleList) -> None:\n",
        "        super().__init__()\n",
        "        self.layers = layers\n",
        "        self.norm = LayerNormalization()\n",
        "\n",
        "    def forward(self, x, encoder_output, src_mask, tgt_mask):\n",
        "        for layer in self.layers:\n",
        "            x = layer(x, encoder_output, src_mask, tgt_mask)\n",
        "        return self.norm(x)"
      ]
    },
    {
      "cell_type": "markdown",
      "metadata": {
        "id": "Qm4g_8O1tS3d"
      },
      "source": [
        "<p style = \"font-family: 'Helvetica Neue', Arial, sans-serif; text-align: left; font-size: 17.5px\">You can see in the Decoder image that after running a stack of <code>DecoderBlock</code>s, we have a Linear Layer and a Softmax function to the output of probabilities. The <code>ProjectionLayer</code> class below is responsible for converting the output of the model into a probability distribution over the <i>vocabulary</i>, where we select each output token from a vocabulary of possible tokens.</p>"
      ]
    },
    {
      "cell_type": "code",
      "execution_count": null,
      "metadata": {
        "id": "UbWVoNintThN"
      },
      "outputs": [],
      "source": [
        "######################  TODO  ########################\n",
        "######################  TODO  ########################\n",
        "\n",
        "# - Create a `ProjectionLayer` class inheriting from `nn.Module`\n",
        "# - Initialize with:\n",
        "#   1. `d_model`: Dimension of the model\n",
        "#   2. `vocab_size`: Size of the output vocabulary\n",
        "# - Define a linear layer to project from `d_model` to `vocab_size`\n",
        "\n",
        "# - In `forward`:\n",
        "#   1. Pass the input through the linear layer\n",
        "#   2. Apply log Softmax along the last dimension\n",
        "#   3. Return the log probabilities\n",
        "\n",
        "######################  TODO  ########################\n",
        "######################  TODO  ########################\n",
        "\n",
        "class ProjectionLayer(nn.Module):\n",
        "    def __init__(self, d_model: int, vocab_size: int) -> None:\n",
        "        super().__init__()\n",
        "        self.proj = nn.Linear(d_model, vocab_size)\n",
        "\n",
        "    def forward(self, x):\n",
        "        return torch.log_softmax(self.proj(x), dim = -1)"
      ]
    },
    {
      "cell_type": "markdown",
      "metadata": {
        "id": "waCzPEAxtaR8"
      },
      "source": [
        "## Part 9: Building the Transformer\n",
        "\n",
        "<p style = \"font-family: 'Helvetica Neue', Arial, sans-serif; text-align: left; font-size: 17.5px\">We finally have every component of the Transformer architecture ready. We may now construct the Transformer by putting it all together.</p>\n",
        "\n",
        "<p style = \"font-family: 'Helvetica Neue', Arial, sans-serif; text-align: left; font-size: 17.5px\">In the <code>Transformer</code> class below, we will bring together all the components of the model's architecture.</p>"
      ]
    },
    {
      "cell_type": "code",
      "execution_count": null,
      "metadata": {
        "id": "qXbPW4oCtk2G"
      },
      "outputs": [],
      "source": [
        "######################  TODO  ########################\n",
        "######################  TODO  ########################\n",
        "\n",
        "# - Create a `Transformer` class inheriting from `nn.Module`\n",
        "# - Initialize with:\n",
        "#   1. `encoder`: Encoder module\n",
        "#   2. `decoder`: Decoder module\n",
        "#   3. `src_embed` and `tgt_embed`: Input embeddings for source and target languages\n",
        "#   4. `src_pos` and `tgt_pos`: Positional encodings for source and target languages\n",
        "#   5. `projection_layer`: Linear projection layer for final output\n",
        "\n",
        "# - Define the `encode` method:\n",
        "#   1. Apply source embeddings to input\n",
        "#   2. Add positional encoding\n",
        "#   3. Pass through the encoder with the source mask\n",
        "#   4. Return the encoded representation\n",
        "\n",
        "# - Define the `decode` method:\n",
        "#   1. Apply target embeddings to input\n",
        "#   2. Add positional encoding\n",
        "#   3. Pass through the decoder with encoder output, source mask, and target mask\n",
        "#   4. Return the decoder's output\n",
        "\n",
        "# - Define the `project` method:\n",
        "#   1. Pass decoder output through the projection layer\n",
        "#   2. Apply log Softmax to obtain probabilities\n",
        "\n",
        "######################  TODO  ########################\n",
        "######################  TODO  ########################\n",
        "\n",
        "class Transformer(nn.Module):\n",
        "    def __init__(self, encoder: Encoder, decoder: Decoder, src_embed: InputEmbeddings, tgt_embed: InputEmbeddings, src_pos: PositionalEncoding, tgt_pos: PositionalEncoding, projection_layer: ProjectionLayer) -> None:\n",
        "        super().__init__()\n",
        "        self.encoder = encoder\n",
        "        self.decoder = decoder\n",
        "        self.src_embed = src_embed\n",
        "        self.tgt_embed = tgt_embed\n",
        "        self.src_pos = src_pos\n",
        "        self.tgt_pos = tgt_pos\n",
        "        self.projection_layer = projection_layer\n",
        "\n",
        "    def encode(self, src, src_mask):\n",
        "        src = self.src_embed(src)\n",
        "        src = self.src_pos(src)\n",
        "        return self.encoder(src, src_mask)\n",
        "\n",
        "    def decode(self, encoder_output, src_mask, tgt, tgt_mask):\n",
        "        tgt = self.tgt_embed(tgt)\n",
        "        tgt = self.tgt_pos(tgt)\n",
        "        return self.decoder(tgt, encoder_output, src_mask, tgt_mask)\n",
        "\n",
        "    def project(self, x):\n",
        "        return self.projection_layer(x)"
      ]
    },
    {
      "cell_type": "markdown",
      "metadata": {
        "id": "6znypMaetmRk"
      },
      "source": [
        "<p style = \"font-family: 'Helvetica Neue', Arial, sans-serif; text-align: left; font-size: 17.5px\">The architecture is finally ready. We now define a function called <code>build_transformer</code>, in which we define the parameters and everything we need to have a fully operational Transformer model for the task of <b>machine translation</b>.</p>\n",
        "\n",
        "<p style = \"font-family: 'Helvetica Neue', Arial, sans-serif; text-align: left; font-size: 17.5px\">We will set the same parameters as in the original paper, <a href = \"https://arxiv.org/pdf/1706.03762.pdf\"><i>Attention Is All You Need</i></a>, where $d_{model}$ = 512, $N$ = 6, $h$ = 8, dropout rate $P_{drop}$ = 0.1, and $d_{ff}$ = 2048.</p>"
      ]
    },
    {
      "cell_type": "code",
      "execution_count": null,
      "metadata": {
        "id": "bqGnJ6w2twJc"
      },
      "outputs": [],
      "source": [
        "######################  TODO  ########################\n",
        "######################  TODO  ########################\n",
        "\n",
        "# - Define a `build_transformer` function with parameters for:\n",
        "#   1. Vocabulary sizes (`src_vocab_size`, `tgt_vocab_size`)\n",
        "#   2. Sequence lengths (`src_seq_len`, `tgt_seq_len`)\n",
        "#   3. Model dimensions (`d_model`, `d_ff`)\n",
        "#   4. Number of layers (`N`) and heads (`h`)\n",
        "#   5. Dropout rate (`dropout`)\n",
        "\n",
        "# - Create:\n",
        "#   1. Source and target embedding layers\n",
        "#   2. Positional encoding layers for source and target\n",
        "#   3. Encoder blocks with self-attention and feed-forward layers\n",
        "#   4. Decoder blocks with self-attention, cross-attention, and feed-forward layers\n",
        "#   5. Encoder and Decoder modules using the blocks\n",
        "#   6. Projection layer to map decoder output to target vocabulary\n",
        "\n",
        "# - Assemble all components into a `Transformer` instance\n",
        "# - Initialize parameters with Xavier uniform initialization\n",
        "# - Return the initialized Transformer\n",
        "\n",
        "######################  TODO  ########################\n",
        "######################  TODO  ########################\n",
        "\n",
        "def build_transformer(src_vocab_size: int, tgt_vocab_size: int, src_seq_len: int, tgt_seq_len: int, d_model: int = 512, N: int = 6, h: int = 8, dropout: float = 0.1, d_ff: int = 2048) -> Transformer:\n",
        "    src_embed = InputEmbeddings(d_model, src_vocab_size)\n",
        "    tgt_embed = InputEmbeddings(d_model, tgt_vocab_size)\n",
        "    src_pos = PositionalEncoding(d_model, src_seq_len, dropout)\n",
        "    tgt_pos = PositionalEncoding(d_model, tgt_seq_len, dropout)\n",
        "    encoder_blocks = []\n",
        "    for _ in range(N):\n",
        "        encoder_self_attention_block = MultiHeadAttentionBlock(d_model, h, dropout)\n",
        "        feed_forward_block = FeedForwardBlock(d_model, d_ff, dropout)\n",
        "        encoder_block = EncoderBlock(encoder_self_attention_block, feed_forward_block, dropout)\n",
        "        encoder_blocks.append(encoder_block)\n",
        "    decoder_blocks = []\n",
        "    for _ in range(N):\n",
        "        decoder_self_attention_block = MultiHeadAttentionBlock(d_model, h, dropout)\n",
        "        decoder_cross_attention_block = MultiHeadAttentionBlock(d_model, h, dropout)\n",
        "        feed_forward_block = FeedForwardBlock(d_model, d_ff, dropout)\n",
        "        decoder_block = DecoderBlock(decoder_self_attention_block, decoder_cross_attention_block, feed_forward_block, dropout)\n",
        "        decoder_blocks.append(decoder_block)\n",
        "    encoder = Encoder(nn.ModuleList(encoder_blocks))\n",
        "    decoder = Decoder(nn.ModuleList(decoder_blocks))\n",
        "    projection_layer = ProjectionLayer(d_model, tgt_vocab_size)\n",
        "    transformer = Transformer(encoder, decoder, src_embed, tgt_embed, src_pos, tgt_pos, projection_layer)\n",
        "    for p in transformer.parameters():\n",
        "        if p.dim() > 1:\n",
        "            nn.init.xavier_uniform_(p)\n",
        "    return transformer"
      ]
    },
    {
      "cell_type": "markdown",
      "metadata": {
        "id": "Iw7CWf4bt3yr"
      },
      "source": [
        "The model is now ready to be trained!"
      ]
    },
    {
      "cell_type": "markdown",
      "metadata": {
        "id": "6_7Z3fEYuTK0"
      },
      "source": [
        "## Part 10: Tokenizer"
      ]
    },
    {
      "cell_type": "markdown",
      "metadata": {
        "id": "EDinqTghqr_Q"
      },
      "source": [
        "<p style = \"font-family: 'Helvetica Neue', Arial, sans-serif; text-align: left; font-size: 17.5px\">Tokenization is a crucial preprocessing step for our Transformer model. In this step, we convert raw text into a number format that the model can process.  </p>\n",
        "\n",
        "<p style = \"font-family: 'Helvetica Neue', Arial, sans-serif; text-align: left; font-size: 17.5px\">There are several Tokenization strategies. We will use the <i>word-level tokenization</i> to transform each word in a sentence into a token.</p>"
      ]
    },
    {
      "cell_type": "markdown",
      "metadata": {
        "id": "at-cYYjnqr_Q"
      },
      "source": [
        "<center>\n",
        "    <img src = \"https://substackcdn.com/image/fetch/f_auto,q_auto:good,fl_progressive:steep/https%3A%2F%2Fbucketeer-e05bbc84-baa3-437e-9518-adb32be77984.s3.amazonaws.com%2Fpublic%2Fimages%2F8d5e749c-b0bd-4496-85a1-9b4397ad935f_1400x787.jpeg\" width = 800, height= 800>\n",
        "<p style = \"font-size: 16px;\n",
        "            font-family: 'Georgia', serif;\n",
        "            text-align: center;\n",
        "            margin-top: 10px;\">Different tokenization strategies. Source: <a href = \"https://shaankhosla.substack.com/p/talking-tokenization\">shaankhosla.substack.com</a>.</p>\n",
        "</center>"
      ]
    },
    {
      "cell_type": "markdown",
      "metadata": {
        "id": "gjRMr2N6qr_Q"
      },
      "source": [
        "<p style = \"font-family: 'Helvetica Neue', Arial, sans-serif; text-align: left; font-size: 17.5px\">After tokenizing a sentence, we map each token to an unique integer ID based on the created vocabulary present in the training corpus during the training of the tokenizer. Each integer number represents a specific word in the vocabulary.</p>\n",
        "\n",
        "<p style = \"font-family: 'Helvetica Neue', Arial, sans-serif; text-align: left; font-size: 17.5px\">Besides the words in the training corpus, Transformers use special tokens for specific purposes. These are some that we will define right away:</p>\n",
        "\n",
        "<p style = \"font-family: 'Helvetica Neue', Arial, sans-serif; text-align: left; font-size: 17.5px\"><b>• [UNK]:</b> This token is used to identify an unknown word in the sequence.</p>\n",
        "\n",
        "<p style = \"font-family: 'Helvetica Neue', Arial, sans-serif; text-align: left; font-size: 17.5px\"><b>• [PAD]:</b> Padding token to ensure that all sequences in a batch have the same length, so we pad shorter sentences with this token. We use attention masks to <i>\"tell\"</i> the model to ignore the padded tokens during training since they don't have any real meaning to the task.</p>\n",
        "\n",
        "<p style = \"font-family: 'Helvetica Neue', Arial, sans-serif; text-align: left; font-size: 17.5px\"><b>•  [SOS]:</b> This is a token used to signal the <i>Start of Sentence</i>.</p>\n",
        "\n",
        "<p style = \"font-family: 'Helvetica Neue', Arial, sans-serif; text-align: left; font-size: 17.5px\"><b>•  [EOS]:</b> This is a token used to signal the <i>End of Sentence</i>.</p>\n",
        "\n",
        "<p style = \"font-family: 'Helvetica Neue', Arial, sans-serif; text-align: left; font-size: 17.5px\">In the <code>build_tokenizer</code> function below, we ensure a tokenizer is ready to train the model. It checks if there is an existing tokenizer, and if that is not the case, it trains a new tokenizer.</p>"
      ]
    },
    {
      "cell_type": "code",
      "execution_count": null,
      "metadata": {
        "id": "Zh9pOItduxHq"
      },
      "outputs": [],
      "source": [
        "######################  TODO  ########################\n",
        "######################  TODO  ########################\n",
        "\n",
        "# - Define a `build_tokenizer` function with parameters for:\n",
        "#   1. `config`: Configuration containing tokenizer file path\n",
        "#   2. `ds`: Dataset to train the tokenizer\n",
        "#   3. `lang`: Language for which the tokenizer is built\n",
        "\n",
        "# - Check if the tokenizer file exists:\n",
        "#   1. If not, create a new tokenizer:\n",
        "#      - Initialize a word-level tokenizer with an unknown token (`[UNK]`)\n",
        "#      - Set the pre-tokenizer to split text by whitespace\n",
        "#      - Define a trainer with special tokens and minimum frequency\n",
        "#      - Train the tokenizer on all sentences in the dataset\n",
        "#      - Save the trained tokenizer to the specified file path\n",
        "#   2. If the file exists, load the tokenizer from the file\n",
        "\n",
        "# - Return the loaded or trained tokenizer\n",
        "\n",
        "######################  TODO  ########################\n",
        "######################  TODO  ########################\n",
        "\n",
        "\n",
        "def build_tokenizer(config, ds, lang):\n",
        "    tokenizer_path = Path(config['tokenizer_file'].format(lang))\n",
        "    if not Path.exists(tokenizer_path):\n",
        "        tokenizer = Tokenizer(WordLevel(unk_token = '[UNK]'))\n",
        "        tokenizer.pre_tokenizer = Whitespace()\n",
        "        trainer = WordLevelTrainer(special_tokens = [\"[UNK]\", \"[PAD]\",\n",
        "                                                     \"[SOS]\", \"[EOS]\"], min_frequency = 2)\n",
        "        tokenizer.train_from_iterator(get_all_sentences(ds, lang), trainer = trainer)\n",
        "        tokenizer.save(str(tokenizer_path))\n",
        "    else:\n",
        "        tokenizer = Tokenizer.from_file(str(tokenizer_path))\n",
        "    return tokenizer"
      ]
    },
    {
      "cell_type": "markdown",
      "metadata": {
        "id": "oodlr4eouxTU"
      },
      "source": [
        "## Part 11: Load Dataset"
      ]
    },
    {
      "cell_type": "markdown",
      "metadata": {
        "id": "YdVFowgUqr_Q"
      },
      "source": [
        "<p style = \"font-family: 'Helvetica Neue', Arial, sans-serif; text-align: left; font-size: 17.5px\">For this task, we will use the <a href = \"opus_books · Datasets at Hugging Face\">OpusBooks dataset</a>, available on 🤗Hugging Face. This dataset consists of two features, <code>id</code> and <code>translation</code>. The <code>translation</code> feature contains pairs of sentences in different languages, such as Spanish and Portuguese, English and French, and so forth.</p>\n",
        "\n",
        "<p style = \"font-family: 'Helvetica Neue', Arial, sans-serif; text-align: left; font-size: 17.5px\">I first tried translating sentences from English to Portuguese—my native tongue — but there are only 1.4k examples for this pair, so the results were not satisfying in the current configurations for this model. I then tried to use the English-French pair due to its higher number of examples—127k—but it would take too long to train with the current configurations. I then opted to train the model on the English-Italian pair, the same one used in the <a href = \"https://youtu.be/ISNdQcPhsts?si=253J39cose6IdsLv\">Coding a Transformer from scratch on PyTorch, with full explanation, training and inference\n",
        "</a> video, as that was a good balance between performance and time of training.</p>\n",
        "\n",
        "<p style = \"font-family: 'Helvetica Neue', Arial, sans-serif; text-align: left; font-size: 17.5px\">We start by defining the <code>get_all_sentences</code> function to iterate over the dataset and extract the sentences according to the language pair defined—we will do that later.</p>"
      ]
    },
    {
      "cell_type": "code",
      "execution_count": null,
      "metadata": {
        "id": "xvRuuTpIveZS"
      },
      "outputs": [],
      "source": [
        "######################  TODO  ########################\n",
        "######################  TODO  ########################\n",
        "\n",
        "# - Define a `get_all_sentences` function to extract sentences from a dataset\n",
        "# - Accept parameters:\n",
        "#   1. `ds`: The dataset containing translation pairs\n",
        "#   2. `lang`: The language key to extract translations\n",
        "\n",
        "# - Iterate through the dataset:\n",
        "#   1. Access the 'translation' field of each pair\n",
        "#   2. Yield the sentence corresponding to the specified language key\n",
        "\n",
        "######################  TODO  ########################\n",
        "######################  TODO  ########################\n",
        "\n",
        "def get_all_sentences(ds, lang):\n",
        "    for pair in ds:\n",
        "        yield pair['translation'][lang]"
      ]
    },
    {
      "cell_type": "markdown",
      "metadata": {
        "id": "EA13IRYEqr_R"
      },
      "source": [
        "<p style = \"font-family: 'Helvetica Neue', Arial, sans-serif; text-align: left; font-size: 17.5px\">The <code>get_ds</code> function is defined to load and prepare the dataset for training and validation. In this function, we build or load the tokenizer, split the dataset, and create DataLoaders, so the model can successfully iterate over the dataset in batches. The result of these functions is tokenizers for the source and target languages plus the DataLoader objects.</p>"
      ]
    },
    {
      "cell_type": "code",
      "execution_count": null,
      "metadata": {
        "id": "IkTRqP8LvpVy"
      },
      "outputs": [],
      "source": [
        "######################  TODO  ########################\n",
        "######################  TODO  ########################\n",
        "\n",
        "# - Define a `get_ds` function to process and prepare the dataset for training\n",
        "# - Load the `OpusBooks` dataset using:\n",
        "#   1. Source and target languages from `config`\n",
        "#   2. Train split of the dataset\n",
        "\n",
        "# - Build or load tokenizers for source and target languages using `build_tokenizer`\n",
        "\n",
        "# - Split the dataset into training and validation sets:\n",
        "#   1. Allocate 90% for training and 10% for validation\n",
        "#   2. Use `random_split` for randomized splitting\n",
        "\n",
        "# - Process the splits using a `BilingualDataset` class:\n",
        "#   1. Convert sentences to tokenized representations\n",
        "#   2. Apply source and target tokenizers\n",
        "#   3. Ensure sequence lengths conform to `config`\n",
        "\n",
        "# - Compute and print the maximum sentence lengths for both source and target languages\n",
        "\n",
        "# - Create DataLoader objects for training and validation:\n",
        "#   1. Define batch sizes from `config`\n",
        "#   2. Enable shuffling for training DataLoader\n",
        "\n",
        "# - Return:\n",
        "#   1. Training DataLoader\n",
        "#   2. Validation DataLoader\n",
        "#   3. Tokenizer for source language\n",
        "#   4. Tokenizer for target language\n",
        "\n",
        "######################  TODO  ########################\n",
        "######################  TODO  ########################\n",
        "\n",
        "def get_ds(config):\n",
        "    ds_raw = load_dataset('opus_books', f'{config[\"lang_src\"]}-{config[\"lang_tgt\"]}', split = 'train')\n",
        "    reduced_size = int(0.1 * len(ds_raw))\n",
        "    ds_raw = ds_raw.select(range(reduced_size))\n",
        "    tokenizer_src = build_tokenizer(config, ds_raw, config['lang_src'])\n",
        "    tokenizer_tgt = build_tokenizer(config, ds_raw, config['lang_tgt'])\n",
        "    train_ds_size = int(0.9 * len(ds_raw))\n",
        "    val_ds_size = len(ds_raw) - train_ds_size\n",
        "    train_ds_raw, val_ds_raw = random_split(ds_raw, [train_ds_size, val_ds_size])\n",
        "    train_ds = BilingualDataset(train_ds_raw, tokenizer_src, tokenizer_tgt, config['lang_src'], config['lang_tgt'], config['seq_len'])\n",
        "    val_ds = BilingualDataset(val_ds_raw, tokenizer_src, tokenizer_tgt, config['lang_src'], config['lang_tgt'], config['seq_len'])\n",
        "    max_len_src = 0\n",
        "    max_len_tgt = 0\n",
        "    for pair in ds_raw:\n",
        "        src_ids = tokenizer_src.encode(pair['translation'][config['lang_src']]).ids\n",
        "        tgt_ids = tokenizer_src.encode(pair['translation'][config['lang_tgt']]).ids\n",
        "        max_len_src = max(max_len_src, len(src_ids))\n",
        "        max_len_tgt = max(max_len_tgt, len(tgt_ids))\n",
        "    print(f'Max length of source sentence: {max_len_src}')\n",
        "    print(f'Max length of target sentence: {max_len_tgt}')\n",
        "    train_dataloader = DataLoader(train_ds, batch_size = config['batch_size'], shuffle = True)\n",
        "    val_dataloader = DataLoader(val_ds, batch_size = 1, shuffle = True)\n",
        "    return train_dataloader, val_dataloader, tokenizer_src, tokenizer_tgt"
      ]
    },
    {
      "cell_type": "markdown",
      "metadata": {
        "id": "VK3d2-AVqr_R"
      },
      "source": [
        "<p style = \"font-family: 'Helvetica Neue', Arial, sans-serif; text-align: left; font-size: 17.5px\">We define the <code>casual_mask</code> function to create a mask for the attention mechanism of the decoder. This mask prevents the model from having information about future elements in the sequence. </p>\n",
        "\n",
        "<p style = \"font-family: 'Helvetica Neue', Arial, sans-serif; text-align: left; font-size: 17.5px\">We start by making a square grid filled with ones. We determine the grid size with the <code>size</code> parameter. Then, we change all the numbers above the main diagonal line to zeros. Every number on one side becomes a zero, while the rest remain ones. The function then flips all these values, turning ones into zeros and zeros into ones. This process is crucial for models that predict future tokens in a sequence.</p>"
      ]
    },
    {
      "cell_type": "code",
      "execution_count": null,
      "metadata": {
        "id": "kTgMYaY2vvWq"
      },
      "outputs": [],
      "source": [
        "######################  TODO  ########################\n",
        "######################  TODO  ########################\n",
        "\n",
        "# - Define a `casual_mask` function to create an upper triangular mask\n",
        "# - Accept `size` as the dimension of the square matrix\n",
        "# - Steps:\n",
        "#   1. Create a square matrix of size `size x size` filled with ones\n",
        "#   2. Use `torch.triu` to make it upper triangular, with zeros below the diagonal\n",
        "#   3. Convert the matrix to integer type\n",
        "#   4. Return the mask where zeros represent the causal positions\n",
        "\n",
        "######################  TODO  ########################\n",
        "######################  TODO  ########################\n",
        "\n",
        "def casual_mask(size):\n",
        "    mask = torch.triu(torch.ones(1, size, size), diagonal = 1).type(torch.int)\n",
        "    return mask == 0"
      ]
    },
    {
      "cell_type": "markdown",
      "metadata": {
        "id": "ccdK5XnMqr_R"
      },
      "source": [
        "<p style = \"font-family: 'Helvetica Neue', Arial, sans-serif; text-align: left; font-size: 17.5px\">The <code>BilingualDataset</code> class processes the texts of the target and source languages in the dataset by tokenizing them and adding all the necessary special tokens. This class also certifies that the sentences are within a maximum sequence length for both languages and pads all necessary sentences.</p>"
      ]
    },
    {
      "cell_type": "code",
      "execution_count": null,
      "metadata": {
        "id": "x9v94mdgv3y6"
      },
      "outputs": [],
      "source": [
        "class BilingualDataset(Dataset):\n",
        "\n",
        "    # This takes in the dataset contaning sentence pairs, the tokenizers for target and source languages, and the strings of source and target languages\n",
        "    # 'seq_len' defines the sequence length for both languages\n",
        "    def __init__(self, ds, tokenizer_src, tokenizer_tgt, src_lang, tgt_lang, seq_len) -> None:\n",
        "        super().__init__()\n",
        "\n",
        "        self.seq_len = seq_len\n",
        "        self.ds = ds\n",
        "        self.tokenizer_src = tokenizer_src\n",
        "        self.tokenizer_tgt = tokenizer_tgt\n",
        "        self.src_lang = src_lang\n",
        "        self.tgt_lang = tgt_lang\n",
        "\n",
        "        # Defining special tokens by using the target language tokenizer\n",
        "        self.sos_token = torch.tensor([tokenizer_tgt.token_to_id(\"[SOS]\")], dtype=torch.int64)\n",
        "        self.eos_token = torch.tensor([tokenizer_tgt.token_to_id(\"[EOS]\")], dtype=torch.int64)\n",
        "        self.pad_token = torch.tensor([tokenizer_tgt.token_to_id(\"[PAD]\")], dtype=torch.int64)\n",
        "\n",
        "\n",
        "    # Total number of instances in the dataset (some pairs are larger than others)\n",
        "    def __len__(self):\n",
        "        return len(self.ds)\n",
        "\n",
        "    # Using the index to retrive source and target texts\n",
        "    def __getitem__(self, index: Any) -> Any:\n",
        "        src_target_pair = self.ds[index]\n",
        "        src_text = src_target_pair['translation'][self.src_lang]\n",
        "        tgt_text = src_target_pair['translation'][self.tgt_lang]\n",
        "\n",
        "        # Tokenizing source and target texts\n",
        "        enc_input_tokens = self.tokenizer_src.encode(src_text).ids\n",
        "        dec_input_tokens = self.tokenizer_tgt.encode(tgt_text).ids\n",
        "\n",
        "        # Computing how many padding tokens need to be added to the tokenized texts\n",
        "        # Source tokens\n",
        "        enc_num_padding_tokens = self.seq_len - len(enc_input_tokens) - 2 # Subtracting the two '[EOS]' and '[SOS]' special tokens\n",
        "        # Target tokens\n",
        "        dec_num_padding_tokens = self.seq_len - len(dec_input_tokens) - 1 # Subtracting the '[SOS]' special token\n",
        "\n",
        "        # If the texts exceed the 'seq_len' allowed, it will raise an error. This means that one of the sentences in the pair is too long to be processed\n",
        "        # given the current sequence length limit (this will be defined in the config dictionary below)\n",
        "        if enc_num_padding_tokens < 0 or dec_num_padding_tokens < 0:\n",
        "            raise ValueError('Sentence is too long')\n",
        "\n",
        "        # Building the encoder input tensor by combining several elements\n",
        "        encoder_input = torch.cat(\n",
        "            [\n",
        "            self.sos_token, # inserting the '[SOS]' token\n",
        "            torch.tensor(enc_input_tokens, dtype = torch.int64), # Inserting the tokenized source text\n",
        "            self.eos_token, # Inserting the '[EOS]' token\n",
        "            torch.tensor([self.pad_token] * enc_num_padding_tokens, dtype = torch.int64) # Addind padding tokens\n",
        "            ]\n",
        "        )\n",
        "\n",
        "        # Building the decoder input tensor by combining several elements\n",
        "        decoder_input = torch.cat(\n",
        "            [\n",
        "                self.sos_token, # inserting the '[SOS]' token\n",
        "                torch.tensor(dec_input_tokens, dtype = torch.int64), # Inserting the tokenized target text\n",
        "                torch.tensor([self.pad_token] * dec_num_padding_tokens, dtype = torch.int64) # Addind padding tokens\n",
        "            ]\n",
        "\n",
        "        )\n",
        "\n",
        "        # Creating a label tensor, the expected output for training the model\n",
        "        label = torch.cat(\n",
        "            [\n",
        "                torch.tensor(dec_input_tokens, dtype = torch.int64), # Inserting the tokenized target text\n",
        "                self.eos_token, # Inserting the '[EOS]' token\n",
        "                torch.tensor([self.pad_token] * dec_num_padding_tokens, dtype = torch.int64) # Adding padding tokens\n",
        "\n",
        "            ]\n",
        "        )\n",
        "\n",
        "        # Ensuring that the length of each tensor above is equal to the defined 'seq_len'\n",
        "        assert encoder_input.size(0) == self.seq_len\n",
        "        assert decoder_input.size(0) == self.seq_len\n",
        "        assert label.size(0) == self.seq_len\n",
        "\n",
        "        return {\n",
        "            'encoder_input': encoder_input,\n",
        "            'decoder_input': decoder_input,\n",
        "            'encoder_mask': (encoder_input != self.pad_token).unsqueeze(0).unsqueeze(0).int(),\n",
        "            'decoder_mask': (decoder_input != self.pad_token).unsqueeze(0).unsqueeze(0).int() & casual_mask(decoder_input.size(0)),\n",
        "            'label': label,\n",
        "            'src_text': src_text,\n",
        "            'tgt_text': tgt_text\n",
        "        }"
      ]
    },
    {
      "cell_type": "markdown",
      "metadata": {
        "id": "B7cXlNUfv5uL"
      },
      "source": [
        "## Part 12: Validation Loop"
      ]
    },
    {
      "cell_type": "markdown",
      "metadata": {
        "id": "tf8Wt860qr_R"
      },
      "source": [
        "<p style = \"font-family: 'Helvetica Neue', Arial, sans-serif; text-align: left; font-size: 17.5px\">We will now create two functions for the validation loop. The validation loop is crucial to evaluate model performance in translating sentences from data it has not seen during training.</p>\n",
        "\n",
        "<p style = \"font-family: 'Helvetica Neue', Arial, sans-serif; text-align: left; font-size: 17.5px\">We will define two functions. The first function, <code>greedy_decode</code>, gives us the model's output by obtaining the most probable next token. The second function, <code>run_validation</code>, is responsible for running the validation process in which we decode the model's output and compare it with the reference text for the target sentence.</p>"
      ]
    },
    {
      "cell_type": "code",
      "execution_count": null,
      "metadata": {
        "id": "z1rzcAkpv8Ew"
      },
      "outputs": [],
      "source": [
        "# Define function to obtain the most probable next token\n",
        "def greedy_decode(model, source, source_mask, tokenizer_src, tokenizer_tgt, max_len, device):\n",
        "    # Retrieving the indices from the start and end of sequences of the target tokens\n",
        "    sos_idx = tokenizer_tgt.token_to_id('[SOS]')\n",
        "    eos_idx = tokenizer_tgt.token_to_id('[EOS]')\n",
        "\n",
        "    # Computing the output of the encoder for the source sequence\n",
        "    encoder_output = model.encode(source, source_mask)\n",
        "    # Initializing the decoder input with the Start of Sentence token\n",
        "    decoder_input = torch.empty(1,1).fill_(sos_idx).type_as(source).to(device)\n",
        "\n",
        "    # Looping until the 'max_len', maximum length, is reached\n",
        "    while True:\n",
        "        if decoder_input.size(1) == max_len:\n",
        "            break\n",
        "\n",
        "        # Building a mask for the decoder input\n",
        "        decoder_mask = casual_mask(decoder_input.size(1)).type_as(source_mask).to(device)\n",
        "\n",
        "        # Calculating the output of the decoder\n",
        "        out = model.decode(encoder_output, source_mask, decoder_input, decoder_mask)\n",
        "\n",
        "        # Applying the projection layer to get the probabilities for the next token\n",
        "        prob = model.project(out[:, -1])\n",
        "\n",
        "        # Selecting token with the highest probability\n",
        "        _, next_word = torch.max(prob, dim=1)\n",
        "        decoder_input = torch.cat([decoder_input, torch.empty(1,1). type_as(source).fill_(next_word.item()).to(device)], dim=1)\n",
        "\n",
        "        # If the next token is an End of Sentence token, we finish the loop\n",
        "        if next_word == eos_idx:\n",
        "            break\n",
        "\n",
        "    return decoder_input.squeeze(0) # Sequence of tokens generated by the decoder"
      ]
    },
    {
      "cell_type": "code",
      "execution_count": null,
      "metadata": {
        "id": "iF7v9L0owcLT"
      },
      "outputs": [],
      "source": [
        "# Defining function to evaluate the model on the validation dataset\n",
        "# num_examples = 2, two examples per run\n",
        "def run_validation(model, validation_ds, tokenizer_src, tokenizer_tgt, max_len, device, print_msg, global_state, writer, num_examples=2):\n",
        "    model.eval() # Setting model to evaluation mode\n",
        "    count = 0 # Initializing counter to keep track of how many examples have been processed\n",
        "\n",
        "    console_width = 80 # Fixed witdh for printed messages\n",
        "\n",
        "    # Creating evaluation loop\n",
        "    with torch.no_grad(): # Ensuring that no gradients are computed during this process\n",
        "        for batch in validation_ds:\n",
        "            count += 1\n",
        "            encoder_input = batch['encoder_input'].to(device)\n",
        "            encoder_mask = batch['encoder_mask'].to(device)\n",
        "\n",
        "            # Ensuring that the batch_size of the validation set is 1\n",
        "            assert encoder_input.size(0) ==  1, 'Batch size must be 1 for validation.'\n",
        "\n",
        "            # Applying the 'greedy_decode' function to get the model's output for the source text of the input batch\n",
        "            model_out = greedy_decode(model, encoder_input, encoder_mask, tokenizer_src, tokenizer_tgt, max_len, device)\n",
        "\n",
        "            # Retrieving source and target texts from the batch\n",
        "            source_text = batch['src_text'][0]\n",
        "            target_text = batch['tgt_text'][0] # True translation\n",
        "            model_out_text = tokenizer_tgt.decode(model_out.detach().cpu().numpy()) # Decoded, human-readable model output\n",
        "\n",
        "            # Printing results\n",
        "            print_msg('-'*console_width)\n",
        "            print_msg(f'SOURCE: {source_text}')\n",
        "            print_msg(f'TARGET: {target_text}')\n",
        "            print_msg(f'PREDICTED: {model_out_text}')\n",
        "\n",
        "            # After two examples, we break the loop\n",
        "            if count == num_examples:\n",
        "                break"
      ]
    },
    {
      "cell_type": "markdown",
      "metadata": {
        "id": "qw3nykKxwkIh"
      },
      "source": [
        "## Part 13: Training Loop"
      ]
    },
    {
      "cell_type": "markdown",
      "metadata": {
        "id": "az_Kwq4Zqr_S"
      },
      "source": [
        "<p style = \"font-family: 'Helvetica Neue', Arial, sans-serif; text-align: left; font-size: 17.5px\">We are ready to train our Transformer model on the OpusBook dataset for the English to Italian translation task.</p>\n",
        "\n",
        "<p style = \"font-family: 'Helvetica Neue', Arial, sans-serif; text-align: left; font-size: 17.5px\">We first start by defining the <code>get_model</code> function to load the model by calling the <code>build_transformer</code> function we have previously defined. This function uses the <code>config</code> dictionary to set a few parameters.</p>"
      ]
    },
    {
      "cell_type": "code",
      "execution_count": null,
      "metadata": {
        "id": "7QMn1BULwnBl"
      },
      "outputs": [],
      "source": [
        "######################  TODO  ########################\n",
        "######################  TODO  ########################\n",
        "\n",
        "# - Define a `get_model` function to initialize a Transformer model\n",
        "# - Accept parameters:\n",
        "#   1. `config`: Configuration dictionary with model settings\n",
        "#   2. `vocab_src_len`: Length of the source language vocabulary\n",
        "#   3. `vocab_tgt_len`: Length of the target language vocabulary\n",
        "\n",
        "# - Use the `build_transformer` function to:\n",
        "#   1. Create a Transformer model\n",
        "#   2. Pass the source and target vocabulary lengths\n",
        "#   3. Set sequence length (`seq_len`) and embedding dimensionality (`d_model`) from `config`\n",
        "\n",
        "# - Return the initialized model\n",
        "\n",
        "######################  TODO  ########################\n",
        "######################  TODO  ########################\n",
        "\n",
        "def get_model(config, vocab_src_len, vocab_tgt_len):\n",
        "    model = build_transformer(vocab_src_len, vocab_tgt_len, config['seq_len'], config['seq_len'], config['d_model'])\n",
        "    return model"
      ]
    },
    {
      "cell_type": "markdown",
      "metadata": {
        "id": "Ord2DlVkqr_S"
      },
      "source": [
        "<p style = \"font-family: 'Helvetica Neue', Arial, sans-serif; text-align: left; font-size: 17.5px\">I have mentioned the <code>config</code> dictionary several times throughout this notebook. Now, it is time to create it.</p>\n",
        "\n",
        "<p style = \"font-family: 'Helvetica Neue', Arial, sans-serif; text-align: left; font-size: 17.5px\">In the following cell, we will define two functions to configure our model and the training process.</p>\n",
        "\n",
        "<p style = \"font-family: 'Helvetica Neue', Arial, sans-serif; text-align: left; font-size: 17.5px\">In the <code>get_config</code> function, we define crucial parameters for the training process. <code>batch_size</code> for the number of training examples used in one iteration, <code>num_epochs</code> as the number of times the entire dataset is passed forward and backward through the Transformer, <code>lr</code> as the learning rate for the optimizer, etc. We will also finally define the pairs from the OpusBook dataset, <code>'lang_src': 'en'</code> for selecting English as the source language and <code>'lang_tgt': 'it'</code> for selecting Italian as the target language.</p>\n",
        "\n",
        "<p style = \"font-family: 'Helvetica Neue', Arial, sans-serif; text-align: left; font-size: 17.5px\">The <code>get_weights_file_path</code> function constructs the file path for saving or loading model weights for any specific epoch.</p>"
      ]
    },
    {
      "cell_type": "code",
      "execution_count": null,
      "metadata": {
        "id": "gXt82CejxeHZ"
      },
      "outputs": [],
      "source": [
        "######################  TODO  ########################\n",
        "######################  TODO  ########################\n",
        "\n",
        "# - Define a `get_config` function to return a dictionary of settings for building and training the Transformer model:\n",
        "#   1. `batch_size`: Number of samples per training batch\n",
        "#   2. `num_epochs`: Total training epochs\n",
        "#   3. `lr`: Learning rate for optimization\n",
        "#   4. `seq_len`: Maximum sequence length for tokens\n",
        "#   5. `d_model`: Dimensionality of embeddings (e.g., 512)\n",
        "#   6. `lang_src` and `lang_tgt`: Source and target languages\n",
        "#   7. `model_folder`: Folder to save model weights\n",
        "#   8. `model_basename`: Base name for model files\n",
        "#   9. `preload`: Option to preload a model (default: None)\n",
        "#   10. `tokenizer_file`: Filename pattern for saving tokenizers\n",
        "#   11. `experiment_name`: Name of the experiment for logging\n",
        "\n",
        "# - Define `get_weights_file_path` to construct a file path for saving/retrieving model weights:\n",
        "#   1. Accept `config` dictionary and `epoch` string as parameters\n",
        "#   2. Retrieve `model_folder` and `model_basename` from `config`\n",
        "#   3. Construct the filename with the base name and epoch\n",
        "#   4. Combine the current directory, model folder, and filename to return the full path\n",
        "\n",
        "######################  TODO  ########################\n",
        "######################  TODO  ########################\n",
        "\n",
        "def get_config():\n",
        "    return{\n",
        "        'batch_size': 8,\n",
        "        'num_epochs': 40,\n",
        "        'lr': 10**-4,\n",
        "        'seq_len': 350,\n",
        "        'd_model': 512,\n",
        "        'lang_src': 'en',\n",
        "        'lang_tgt': 'it',\n",
        "        'model_folder': 'weights',\n",
        "        'model_basename': 'tmodel_',\n",
        "        'preload': None,\n",
        "        'tokenizer_file': 'tokenizer_{0}.json',\n",
        "        'experiment_name': 'runs/tmodel'\n",
        "    }\n",
        "\n",
        "def get_weights_file_path(config, epoch: str):\n",
        "    model_folder = config['model_folder']\n",
        "    model_basename = config['model_basename']\n",
        "    model_filename = f\"{model_basename}{epoch}.pt\"\n",
        "    return str(Path('.')/ model_folder/ model_filename)"
      ]
    },
    {
      "cell_type": "markdown",
      "metadata": {
        "id": "Qw7SjmrDqr_S"
      },
      "source": [
        "<p style = \"font-family: 'Helvetica Neue', Arial, sans-serif; text-align: left; font-size: 17.5px\">We finally define our last function, <code>train_model</code>, which takes the <code>config</code> arguments as input. </p>\n",
        "\n",
        "<p style = \"font-family: 'Helvetica Neue', Arial, sans-serif; text-align: left; font-size: 17.5px\">In this function, we will set everything up for the training. We will load the model and its necessary components onto the GPU for faster training, set the <code>Adam</code> optimizer, and configure the <code>CrossEntropyLoss</code> function to compute the differences between the translations output by the model and the reference translations from the dataset. </p>\n",
        "\n",
        "<p style = \"font-family: 'Helvetica Neue', Arial, sans-serif; text-align: left; font-size: 17.5px\">Every loop necessary for iterating over the training batches, performing backpropagation, and computing the gradients is in this function. We will also use it to run the validation function and save the current state of the model.</p>"
      ]
    },
    {
      "cell_type": "code",
      "execution_count": null,
      "metadata": {
        "id": "2qK9wAjRxoDQ"
      },
      "outputs": [],
      "source": [
        "######################  TODO  ########################\n",
        "######################  TODO  ########################\n",
        "\n",
        "# - Define a `train_model` function to train a Transformer model\n",
        "# - Steps:\n",
        "#   1. Set up the device (GPU or CPU) for training\n",
        "#   2. Create a directory to store model weights\n",
        "#   3. Retrieve dataloaders and tokenizers for source and target languages using `get_ds`\n",
        "#   4. Initialize the Transformer model using `get_model` and move it to the specified device\n",
        "#   5. Set up TensorBoard for logging training metrics\n",
        "#   6. Configure the Adam optimizer with learning rate and epsilon from `config`\n",
        "#   7. If a pre-trained model exists:\n",
        "#      - Load the model, optimizer state, and global step\n",
        "#      - Set the starting epoch for resuming training\n",
        "#   8. Define a cross-entropy loss function:\n",
        "#      - Ignore padding tokens\n",
        "#      - Apply label smoothing to prevent overfitting\n",
        "#   9. Start training loop:\n",
        "#      - Iterate over epochs from the initial epoch to `config['num_epochs']`\n",
        "#      - For each batch in the training dataloader:\n",
        "#         - Set model to training mode\n",
        "#         - Move input data, masks, and labels to the device\n",
        "#         - Pass data through the encoder, decoder, and projection layer\n",
        "#         - Compute loss between model predictions and labels\n",
        "#         - Log training loss to TensorBoard\n",
        "#         - Perform backpropagation and update model parameters\n",
        "#         - Clear gradients for the next batch\n",
        "#         - Increment global step counter\n",
        "#      - After each epoch, run validation using `run_validation`\n",
        "#      - Save the current model state, optimizer state, and global step\n",
        "#   10. Save model weights after each epoch\n",
        "\n",
        "######################  TODO  ########################\n",
        "######################  TODO  ########################\n",
        "\n",
        "def train_model(config):\n",
        "    device = torch.device('cuda' if torch.cuda.is_available() else 'cpu')\n",
        "    print(f\"Using device {device}\")\n",
        "    Path(config['model_folder']).mkdir(parents=True, exist_ok=True)\n",
        "    train_dataloader, val_dataloader, tokenizer_src, tokenizer_tgt = get_ds(config)\n",
        "    model = get_model(config,tokenizer_src.get_vocab_size(), tokenizer_tgt.get_vocab_size()).to(device)\n",
        "    writer = SummaryWriter(config['experiment_name'])\n",
        "    optimizer = torch.optim.Adam(model.parameters(), lr=config['lr'], eps = 1e-9)\n",
        "    initial_epoch = 0\n",
        "    global_step = 0\n",
        "    if config['preload']:\n",
        "        model_filename = get_weights_file_path(config, config['preload'])\n",
        "        print(f'Preloading model {model_filename}')\n",
        "        state = torch.load(model_filename)\n",
        "        initial_epoch = state['epoch'] + 1\n",
        "        optimizer.load_state_dict(state['optimizer_state_dict'])\n",
        "        global_step = state['global_step']\n",
        "    loss_fn = nn.CrossEntropyLoss(ignore_index = tokenizer_src.token_to_id('[PAD]'), label_smoothing = 0.1).to(device)\n",
        "    for epoch in range(initial_epoch, config['num_epochs']):\n",
        "        batch_iterator = tqdm(train_dataloader, desc = f'Processing epoch {epoch:02d}')\n",
        "        for batch in batch_iterator:\n",
        "            model.train()\n",
        "            encoder_input = batch['encoder_input'].to(device)\n",
        "            decoder_input = batch['decoder_input'].to(device)\n",
        "            encoder_mask = batch['encoder_mask'].to(device)\n",
        "            decoder_mask = batch['decoder_mask'].to(device)\n",
        "            encoder_output = model.encode(encoder_input, encoder_mask)\n",
        "            decoder_output = model.decode(encoder_output, encoder_mask, decoder_input, decoder_mask)\n",
        "            proj_output = model.project(decoder_output)\n",
        "            label = batch['label'].to(device)\n",
        "            loss = loss_fn(proj_output.view(-1, tokenizer_tgt.get_vocab_size()), label.view(-1))\n",
        "            batch_iterator.set_postfix({f\"loss\": f\"{loss.item():6.3f}\"})\n",
        "            writer.add_scalar('train loss', loss.item(), global_step)\n",
        "            writer.flush()\n",
        "            loss.backward()\n",
        "            optimizer.step()\n",
        "            optimizer.zero_grad()\n",
        "            global_step += 1\n",
        "        run_validation(model, val_dataloader, tokenizer_src, tokenizer_tgt, config['seq_len'], device, lambda msg: batch_iterator.write(msg), global_step, writer)\n",
        "        model_filename = get_weights_file_path(config, f'{epoch:02d}')\n",
        "        torch.save({\n",
        "            'epoch': epoch,\n",
        "            'model_state_dict': model.state_dict(),\n",
        "            'optimizer_state_dict': optimizer.state_dict(),\n",
        "            'global_step': global_step\n",
        "        }, model_filename)"
      ]
    },
    {
      "cell_type": "markdown",
      "metadata": {
        "id": "nrMmfyi8xrXw"
      },
      "source": [
        "We can now train the model!"
      ]
    },
    {
      "cell_type": "code",
      "execution_count": null,
      "metadata": {
        "id": "28425EYaxrsi",
        "colab": {
          "base_uri": "https://localhost:8080/",
          "height": 1000,
          "referenced_widgets": [
            "32c1fbc7ce624c40a5b405b728728588",
            "7f816f0ef75e4219b5b2419de3d6669c",
            "5b889950210f4a7a9b8bad142a8e8399",
            "b7f8ce3c28c94f85bee4a1cb757a295d",
            "e18f5f99536e4cdb98fddb171cece343",
            "8529a071a1ec4b59aaa9b5e144f7665b",
            "30bf898d3ac2420f999de9c49d83d7f3",
            "26e11bf178964abc9d64fba0fcef46d1",
            "d3fea6881dfb4d0e8525f7d2466886ce",
            "9380cc53292b4771b29b23790cdb2187",
            "69bc5a9178bc4f7985dc06a94f24f98e",
            "8165508d0dba4dbf81a0486d3730ce95",
            "24d0dd1f71dd454cbb0039f656abfec9",
            "317071d6356e4442b4d437ecb1cd0f31",
            "908300d037464cee8c44d016b9e8c361",
            "686ee09cc35d46ac86288eeb3d5eb744",
            "ee7711955eb2425db4b239c1c380ad88",
            "af36e8ec0bb545d4ba0ed23164eb8957",
            "999a3153bcde45b3910a651f1c4d3a3d",
            "c78c2642962f4bd086f894144393b25b",
            "d44d3d6c64b74b06ad0d3b4c1b229016",
            "fce54c57d40c494c9b1118ad91da6eb1",
            "abbec884679e446f8046d7800206c7fa",
            "2d046a3d16ed409a87126ab82494b228",
            "697bcc46cefd4ff09f6ae52e3fd771eb",
            "dd50ce36238b4bc3b7045cb734a70d0f",
            "d73f669d3ed442e3b52575a944b50a59",
            "a9ce6c571c9f4f14a3c1e7bb93b63463",
            "2fe1e98232ff4b499f69414c7b88e287",
            "bc9fffd3597746a69045b63b5f4b89de",
            "24a8510e06704f10be432c6a640b3882",
            "6602d00d3b6b4d5fac7712f2b8a62e38",
            "41fc9f46908a4cbc90d7a4dd0d7187d2"
          ]
        },
        "outputId": "3bbfc36b-7d03-4016-ccea-443ba9cc416f"
      },
      "outputs": [
        {
          "output_type": "stream",
          "name": "stdout",
          "text": [
            "Using device cuda\n"
          ]
        },
        {
          "output_type": "display_data",
          "data": {
            "text/plain": [
              "README.md:   0%|          | 0.00/28.1k [00:00<?, ?B/s]"
            ],
            "application/vnd.jupyter.widget-view+json": {
              "version_major": 2,
              "version_minor": 0,
              "model_id": "32c1fbc7ce624c40a5b405b728728588"
            }
          },
          "metadata": {}
        },
        {
          "output_type": "display_data",
          "data": {
            "text/plain": [
              "train-00000-of-00001.parquet:   0%|          | 0.00/5.73M [00:00<?, ?B/s]"
            ],
            "application/vnd.jupyter.widget-view+json": {
              "version_major": 2,
              "version_minor": 0,
              "model_id": "8165508d0dba4dbf81a0486d3730ce95"
            }
          },
          "metadata": {}
        },
        {
          "output_type": "display_data",
          "data": {
            "text/plain": [
              "Generating train split:   0%|          | 0/32332 [00:00<?, ? examples/s]"
            ],
            "application/vnd.jupyter.widget-view+json": {
              "version_major": 2,
              "version_minor": 0,
              "model_id": "abbec884679e446f8046d7800206c7fa"
            }
          },
          "metadata": {}
        },
        {
          "output_type": "stream",
          "name": "stdout",
          "text": [
            "Max length of source sentence: 190\n",
            "Max length of target sentence: 159\n"
          ]
        },
        {
          "output_type": "stream",
          "name": "stderr",
          "text": [
            "Processing epoch 00: 100%|██████████| 364/364 [02:07<00:00,  2.85it/s, loss=5.615]\n"
          ]
        },
        {
          "output_type": "stream",
          "name": "stdout",
          "text": [
            "--------------------------------------------------------------------------------\n",
            "SOURCE: \"Yes; he said that from mere politeness: I need not go, I am sure,\" I answered.\n",
            "TARGET: — L'ha detto per semplice cortesia, ma non vi andrò, — risposi.\n",
            "PREDICTED: — Non è , — — — — — — — — — — — — — — — .\n",
            "--------------------------------------------------------------------------------\n",
            "SOURCE: Sometimes I think I am in Northumberland, and that the noises I hear round me are the bubbling of a little brook which runs through Deepden, near our house;--then, when it comes to my turn to reply, I have to be awakened; and having heard nothing of what was read for listening to the visionary brook, I have no answer ready.\"\n",
            "TARGET: Penso di essere nel Northumberland, scambio il rumore che sento intorno a me per il mormorio di un ruscello, che scorreva accanto a casa nostra. Quando viene la mia volta, debbo uscir dal sogno, ma siccome non ho ascoltato, non trovo la risposta.\n",
            "PREDICTED: — Non , ma , ma , ma , ma , ma , ma , ma , ma , ma , ma , ma , ma , ma , ma .\n"
          ]
        },
        {
          "output_type": "stream",
          "name": "stderr",
          "text": [
            "Processing epoch 01: 100%|██████████| 364/364 [02:10<00:00,  2.80it/s, loss=5.575]\n"
          ]
        },
        {
          "output_type": "stream",
          "name": "stdout",
          "text": [
            "--------------------------------------------------------------------------------\n",
            "SOURCE: I knew my traveller with his broad and jetty eyebrows; his square forehead, made squarer by the horizontal sweep of his black hair.\n",
            "TARGET: Riconobbi in lui il viaggiatore dalle sopracciglia corvine, dalla fronte quadrata posta in rilievo, dal taglio orizzontale dei capelli.\n",
            "PREDICTED: , , , , , , .\n",
            "--------------------------------------------------------------------------------\n",
            "SOURCE: His shape, now divested of cloak, I perceived harmonised in squareness with his physiognomy: I suppose it was a good figure in the athletic sense of the term--broad chested and thin flanked, though neither tall nor graceful.\n",
            "TARGET: Ora che non era più avvolto nella pelliccia, mi accorsi che le membra erano in armonia con i tratti, membra di atleta, dal petto largo e i fianchi raccolti, un insieme senza imponenza e senza grazia.\n",
            "PREDICTED: Non , ma non , ma non , ma , ma , , , , , .\n"
          ]
        },
        {
          "output_type": "stream",
          "name": "stderr",
          "text": [
            "Processing epoch 02: 100%|██████████| 364/364 [02:10<00:00,  2.80it/s, loss=4.697]\n"
          ]
        },
        {
          "output_type": "stream",
          "name": "stdout",
          "text": [
            "--------------------------------------------------------------------------------\n",
            "SOURCE: I slowly descended.\n",
            "TARGET: Scesi lentamente.\n",
            "PREDICTED: .\n",
            "--------------------------------------------------------------------------------\n",
            "SOURCE: \"Elles changent de toilettes,\" said Adele; who, listening attentively, had followed every movement; and she sighed.\n",
            "TARGET: — Si vestono, — disse Adele, che ascoltava ogni movimento, e sospirò:\n",
            "PREDICTED: — Non mi disse , — disse , — disse , — disse , — disse , — disse .\n"
          ]
        },
        {
          "output_type": "stream",
          "name": "stderr",
          "text": [
            "Processing epoch 03: 100%|██████████| 364/364 [02:10<00:00,  2.80it/s, loss=5.041]\n"
          ]
        },
        {
          "output_type": "stream",
          "name": "stdout",
          "text": [
            "--------------------------------------------------------------------------------\n",
            "SOURCE: \"No, Bessie: she came to my crib last night when you were gone down to supper, and said I need not disturb her in the morning, or my cousins either; and she told me to remember that she had always been my best friend, and to speak of her and be grateful to her accordingly.\"\n",
            "TARGET: — No, Bessie, — risposi. — Ieri sera quando scendeste per la cena, ella si avvicinò al mio letto e mi dichiarò che partendo non aveva bisogno di disturbare né lei né le mie cugine; mi disse pure che era stata sempre la mia migliore amica e che non lo dimenticassi. Poi mi pregò di parlar bene di lei e di esserle grata.\n",
            "PREDICTED: — Non è la signorina Temple , — disse , — disse , — disse , — mi disse , — mi disse , — mi disse , — mi disse , — mi disse , — disse , — mi disse , — mi disse , — mi disse , — disse , — mi disse , — mi disse , — mi disse , — mi disse , — mi disse , — mi disse , — mi disse , — mi disse , — mi disse , — mi disse , — mi disse , — mi disse , — mi disse , — mi disse , — mi disse , — mi disse , — mi disse , — disse , — mi disse , — , — mi disse , — , — mi disse , — mi disse , — mi disse , — mi disse , — disse , — disse , — , — mi disse , — disse , — disse , — disse , — disse , — disse , — mi disse , — rispose , — mi disse , — , — , — , — mi disse , — mi disse , — mi disse , — , — mi disse , — , — , — mi disse , — , — , — , — , — , — , — , — mi disse , — mi disse , — , — mi disse , — , — , — mi disse , — mi disse , — mi disse , — , — , — , — mi disse , — , — , — , — , — , — mi disse , — , — , — , — , — , — , — , — mi disse , — mi disse , —\n",
            "--------------------------------------------------------------------------------\n",
            "SOURCE: \"I will indeed send her to school soon,\" murmured Mrs. Reed _sotto voce_; and gathering up her work, she abruptly quitted the apartment.\n",
            "TARGET: — Sì, sì, voglio mandartici più presto che posso, — disse sottovoce; e prendendo il lavoro, uscì precipitosamente dalla stanza.\n",
            "PREDICTED: — Non è la signorina Temple , — disse , — disse , — disse , — disse , — disse , — e .\n"
          ]
        },
        {
          "output_type": "stream",
          "name": "stderr",
          "text": [
            "Processing epoch 04: 100%|██████████| 364/364 [02:09<00:00,  2.80it/s, loss=4.160]\n"
          ]
        },
        {
          "output_type": "stream",
          "name": "stdout",
          "text": [
            "--------------------------------------------------------------------------------\n",
            "SOURCE: Besides this earth, and besides the race of men, there is an invisible world and a kingdom of spirits: that world is round us, for it is everywhere; and those spirits watch us, for they are commissioned to guard us; and if we were dying in pain and shame, if scorn smote us on all sides, and hatred crushed us, angels see our tortures, recognise our innocence (if innocent we be: as I know you are of this charge which Mr. Brocklehurst has weakly and pompously repeated at second-hand from Mrs. Reed; for I read a sincere nature in your ardent eyes and on your clear front), and God waits only the separation of spirit from flesh to crown us with a full reward.\n",
            "TARGET: Al di là di questa terra vi è un regno invisibile; al disopra di questo mondo abitato dagli uomini, ve n'è uno abitato dagli spiriti, e questi spiriti vegliano su di noi, e se moriamo oppressi dalla vergogna e dal disprezzo, ci riconoscono innocenti, se tali siamo. Io so che siete innocente delle colpe attribuitevi dal direttore, perché ho riconosciuto nei vostri occhi ardenti e sulla vostra fronte pura, un'anima sincera.\n",
            "PREDICTED: Non è una , ma non è , ma non è , ma non è , ma non di , ma non , ma non , ma non , ma non , ma non , ma non , ma non di di , ma non di , , ma non , ma , ma non , ma non , ma non , ma non , ma non , , ma non , ma la mia , ma la sua , ma non , , , , ma la sua , di , , , ma non , ma non , ma non , , ma non , ma non , , , , , , , , , , , , , , , , , , , , ma non , , , e , , , , , , e e che , ma non e , ma non , , di , , , e e , e e , , , , e e , , , e , , , , , , ma non , , , , , , , , , , , e , , , , , , , , , , , , , , , , , , , ,\n",
            "--------------------------------------------------------------------------------\n",
            "SOURCE: They set out early in the forenoon, some on horseback, the rest in carriages; I witnessed both the departure and the return.\n",
            "TARGET: La comitiva partì presto; chi era a cavallo, chi in carrozza. Vidi la partenza e il ritorno.\n",
            "PREDICTED: La signora Fairfax era una e , e , e .\n"
          ]
        },
        {
          "output_type": "stream",
          "name": "stderr",
          "text": [
            "Processing epoch 05: 100%|██████████| 364/364 [02:10<00:00,  2.80it/s, loss=4.500]\n"
          ]
        },
        {
          "output_type": "stream",
          "name": "stdout",
          "text": [
            "--------------------------------------------------------------------------------\n",
            "SOURCE: CHAPTER XVI\n",
            "TARGET: XVI.\n",
            "PREDICTED: .\n",
            "--------------------------------------------------------------------------------\n",
            "SOURCE: He bent his head a little towards me, and with a single hasty glance seemed to dive into my eyes.\n",
            "TARGET: Egli chinò la testa verso di me e mi gettò negli occhi uno sguardo rapido.\n",
            "PREDICTED: La signora Fairfax mi di la porta , e mi il mio giorno mi .\n"
          ]
        },
        {
          "output_type": "stream",
          "name": "stderr",
          "text": [
            "Processing epoch 06: 100%|██████████| 364/364 [02:10<00:00,  2.80it/s, loss=4.873]\n"
          ]
        },
        {
          "output_type": "stream",
          "name": "stdout",
          "text": [
            "--------------------------------------------------------------------------------\n",
            "SOURCE: \"Who could want me?\" I asked inwardly, as with both hands I turned the stiff door-handle, which, for a second or two, resisted my efforts.\n",
            "TARGET: — Chi può aspettarmi? — dicevo fra me, mentre con tutte e due le mani giravo la maniglia, che resisteva ai miei sforzi.\n",
            "PREDICTED: — E che cosa mi disse , — mi disse , — mi disse , — mi disse . — E mi domandò il mio mio sguardo di .\n",
            "--------------------------------------------------------------------------------\n",
            "SOURCE: \"Do we pay no money? Do they keep us for nothing?\"\n",
            "TARGET: — Paghiamo, o siamo educate gratuitamente?\n",
            "PREDICTED: — , signore ?\n"
          ]
        },
        {
          "output_type": "stream",
          "name": "stderr",
          "text": [
            "Processing epoch 07: 100%|██████████| 364/364 [02:10<00:00,  2.80it/s, loss=4.376]\n"
          ]
        },
        {
          "output_type": "stream",
          "name": "stdout",
          "text": [
            "--------------------------------------------------------------------------------\n",
            "SOURCE: I sat up in bed by way of arousing this said brain: it was a chilly night; I covered my shoulders with a shawl, and then I proceeded _to think_ again with all my might.\n",
            "TARGET: Mi sedei sul letto sperando di aiutare il mio povero cervello. La notte era fredda; mi gettai uno scialle sulle spalle e mi rimisi a pensare.\n",
            "PREDICTED: Mi alzai e mi accorsi che mi accorsi che mi accorsi che mi accorsi che mi accorsi che mi accorsi che mi accorsi che mi accorsi che mi avevano , ma il suo volto era , mi accorsi che mi aveva .\n",
            "--------------------------------------------------------------------------------\n",
            "SOURCE: Adele sang the canzonette tunefully enough, and with the _naivete_ of her age.\n",
            "TARGET: Adele aveva cantato la romanza con giusto tono e con l'ingenuità propria della sua età.\n",
            "PREDICTED: la e i di , i e i .\n"
          ]
        },
        {
          "output_type": "stream",
          "name": "stderr",
          "text": [
            "Processing epoch 08: 100%|██████████| 364/364 [02:10<00:00,  2.80it/s, loss=4.057]\n"
          ]
        },
        {
          "output_type": "stream",
          "name": "stdout",
          "text": [
            "--------------------------------------------------------------------------------\n",
            "SOURCE: Adele sang the canzonette tunefully enough, and with the _naivete_ of her age.\n",
            "TARGET: Adele aveva cantato la romanza con giusto tono e con l'ingenuità propria della sua età.\n",
            "PREDICTED: La signorina Temple la e i e i .\n",
            "--------------------------------------------------------------------------------\n",
            "SOURCE: \"What about?\" \"Family troubles, for one thing.\" \"But he has no family.\"\n",
            "TARGET: — Da quali pensieri dunque? — Dalle lotte di famiglia.\n",
            "PREDICTED: — Che cosa sono qui ? — mi domandò .\n"
          ]
        },
        {
          "output_type": "stream",
          "name": "stderr",
          "text": [
            "Processing epoch 09: 100%|██████████| 364/364 [02:10<00:00,  2.80it/s, loss=4.200]\n"
          ]
        },
        {
          "output_type": "stream",
          "name": "stdout",
          "text": [
            "--------------------------------------------------------------------------------\n",
            "SOURCE: Sometimes I think I am in Northumberland, and that the noises I hear round me are the bubbling of a little brook which runs through Deepden, near our house;--then, when it comes to my turn to reply, I have to be awakened; and having heard nothing of what was read for listening to the visionary brook, I have no answer ready.\"\n",
            "TARGET: Penso di essere nel Northumberland, scambio il rumore che sento intorno a me per il mormorio di un ruscello, che scorreva accanto a casa nostra. Quando viene la mia volta, debbo uscir dal sogno, ma siccome non ho ascoltato, non trovo la risposta.\n",
            "PREDICTED: Non mi che il mio spirito del cuore , ma il mio cuore era che un ' altra era in camera mia , e che mi la mia , ma non mi la mia .\n",
            "--------------------------------------------------------------------------------\n",
            "SOURCE: \"I wish I could forget it,\" was the answer.\n",
            "TARGET: — Vorrei dimenticare, ma non posso.\n",
            "PREDICTED: — No , signore .\n"
          ]
        },
        {
          "output_type": "stream",
          "name": "stderr",
          "text": [
            "Processing epoch 10: 100%|██████████| 364/364 [02:10<00:00,  2.80it/s, loss=4.135]\n"
          ]
        },
        {
          "output_type": "stream",
          "name": "stdout",
          "text": [
            "--------------------------------------------------------------------------------\n",
            "SOURCE: \"Decidedly he has had too much wine,\" I thought; and I did not know what answer to make to his queer question: how could I tell whether he was capable of being re-transformed?\n",
            "TARGET: — Deve aver bevuto davvero troppo vino, — pensavo, non sapendo qual risposta dargli.\n",
            "PREDICTED: — La signorina Temple è qui ? — domandò il signor Rochester con me , — ma che non ha fatto , ma che ha fatto di lui .\n",
            "--------------------------------------------------------------------------------\n",
            "SOURCE: And dangerous he looked: his black eyes darted sparks. Calming himself by an effort, he added--\n",
            "TARGET: Infatti aveva negli occhi uno sguardo terribile, e, facendo uno sforzo per calmarsi, aggiunse:\n",
            "PREDICTED: E se lo , e il suo volto , che si a voce .\n"
          ]
        },
        {
          "output_type": "stream",
          "name": "stderr",
          "text": [
            "Processing epoch 11: 100%|██████████| 364/364 [02:09<00:00,  2.80it/s, loss=3.532]\n"
          ]
        },
        {
          "output_type": "stream",
          "name": "stdout",
          "text": [
            "--------------------------------------------------------------------------------\n",
            "SOURCE: \"Mason!--the West Indies!\" he said, in the tone one might fancy a speaking automaton to enounce its single words; \"Mason!--the West Indies!\" he reiterated; and he went over the syllables three times, growing, in the intervals of speaking, whiter than ashes: he hardly seemed to know what he was doing.\n",
            "TARGET: — Mason, le Indie occidentali! — disse automaticamente e lo ripetè tre volte. Nel pronunziare quelle parole si faceva sempre più pallido.\n",
            "PREDICTED: — È la mia parte di una donna di , — disse il signor Bockelhurst . La signora Fairfax è di Millcote , di questa bimba e di non ha potuto un un di di un un di di di , di , di di di .\n",
            "--------------------------------------------------------------------------------\n",
            "SOURCE: She paused, and then added, with a sort of assumed indifference, but still in a marked and significant tone--\"But you are young, Miss; and I should say a light sleeper: perhaps you may have heard a noise?\"\n",
            "TARGET: Si fermò e poi aggiunse con finta indifferenza e in tono particolare: — Ma voi, signorina, voi siete giovane e avete il sonno leggero: avete forse sentito qualche rumore?\n",
            "PREDICTED: La vostra alunna è una donna dolce e , se ne ha i suoi occhi con voi , se , se ne , una cosa che di voi ?\n"
          ]
        },
        {
          "output_type": "stream",
          "name": "stderr",
          "text": [
            "Processing epoch 12: 100%|██████████| 364/364 [02:09<00:00,  2.80it/s, loss=3.499]\n"
          ]
        },
        {
          "output_type": "stream",
          "name": "stdout",
          "text": [
            "--------------------------------------------------------------------------------\n",
            "SOURCE: \"Is there a little girl called Jane Eyre here?\" she asked.\n",
            "TARGET: — C'è qui una bimba, che si chiama Jane Eyre? — domandò.\n",
            "PREDICTED: — È vero , — disse Bessie Bessie Bessie ? — domandò la voce .\n",
            "--------------------------------------------------------------------------------\n",
            "SOURCE: I suppose you are an orphan: are not either your father or your mother dead?\"\n",
            "TARGET: Voi, io e tutte le altre siamo figlie della carità. Dovete essere orfana.\n",
            "PREDICTED: — Non avete mai la vostra alunna ; non è vero ?\n"
          ]
        },
        {
          "output_type": "stream",
          "name": "stderr",
          "text": [
            "Processing epoch 13: 100%|██████████| 364/364 [02:10<00:00,  2.80it/s, loss=3.233]\n"
          ]
        },
        {
          "output_type": "stream",
          "name": "stdout",
          "text": [
            "--------------------------------------------------------------------------------\n",
            "SOURCE: The strangest thing of all was, that not a soul in the house, except me, noticed her habits, or seemed to marvel at them: no one discussed her position or employment; no one pitied her solitude or isolation.\n",
            "TARGET: Ciò che sopratutto mi stupiva, si era che in casa nessuno pareva badare alle consuetudini di Grace, nessuno domandava che cosa facesse lassù, nessuno compiangevala della solitudine e dell'isolamento.\n",
            "PREDICTED: La mia madre aveva lasciato in una donna dolce , di , di non poteva di nuovo . Non era né mai veduto la mia mente .\n",
            "--------------------------------------------------------------------------------\n",
            "SOURCE: What my sensations were no language can describe; but just as they all rose, stifling my breath and constricting my throat, a girl came up and passed me: in passing, she lifted her eyes.\n",
            "TARGET: Nessuna parola può esprimere i miei sentimenti, ma intanto che mi gonfiavano il cuore, una ragazza mi passò vicino e alzò su me lo sguardo.\n",
            "PREDICTED: Quale impressione che mi aveva fatto per il giorno e mi avevano fatto .\n"
          ]
        },
        {
          "output_type": "stream",
          "name": "stderr",
          "text": [
            "Processing epoch 14: 100%|██████████| 364/364 [02:09<00:00,  2.80it/s, loss=3.030]\n"
          ]
        },
        {
          "output_type": "stream",
          "name": "stdout",
          "text": [
            "--------------------------------------------------------------------------------\n",
            "SOURCE: \"No, Bessie: she came to my crib last night when you were gone down to supper, and said I need not disturb her in the morning, or my cousins either; and she told me to remember that she had always been my best friend, and to speak of her and be grateful to her accordingly.\"\n",
            "TARGET: — No, Bessie, — risposi. — Ieri sera quando scendeste per la cena, ella si avvicinò al mio letto e mi dichiarò che partendo non aveva bisogno di disturbare né lei né le mie cugine; mi disse pure che era stata sempre la mia migliore amica e che non lo dimenticassi. Poi mi pregò di parlar bene di lei e di esserle grata.\n",
            "PREDICTED: — No , certo ; ho dimenticato di la servitù , e mi ha detto che ho fatto il mio zio ; ma non mi sono così buona che e il mio zio ; e che mi sono così poco dopo l ' ho fatto molto di più .\n",
            "--------------------------------------------------------------------------------\n",
            "SOURCE: I knew my traveller with his broad and jetty eyebrows; his square forehead, made squarer by the horizontal sweep of his black hair.\n",
            "TARGET: Riconobbi in lui il viaggiatore dalle sopracciglia corvine, dalla fronte quadrata posta in rilievo, dal taglio orizzontale dei capelli.\n",
            "PREDICTED: Mi aspettavo di aver sentito i tratti di un ' acqua e l ' acqua che mi pareva un di sogno d ' acqua e lo .\n"
          ]
        },
        {
          "output_type": "stream",
          "name": "stderr",
          "text": [
            "Processing epoch 15: 100%|██████████| 364/364 [02:09<00:00,  2.80it/s, loss=2.720]\n"
          ]
        },
        {
          "output_type": "stream",
          "name": "stdout",
          "text": [
            "--------------------------------------------------------------------------------\n",
            "SOURCE: This testimonial I accordingly received in about a month, forwarded a copy of it to Mrs. Fairfax, and got that lady's reply, stating that she was satisfied, and fixing that day fortnight as the period for my assuming the post of governess in her house.\n",
            "TARGET: Ne mandai copia alla signora Fairfax e ricevei la risposta. Ella era soddisfatta e mi diceva che fra quindici giorni dovevo trovarmi al mio nuovo posto.\n",
            "PREDICTED: Aveva i lineamenti e l ' ordine di quella bambina , perché era in una casa , perché la signora Fairfax non vi era nulla .\n",
            "--------------------------------------------------------------------------------\n",
            "SOURCE: By what instinct do you pretend to distinguish between a fallen seraph of the abyss and a messenger from the eternal throne--between a guide and a seducer?\"\n",
            "TARGET: In forza di quale istinto pretendete di conoscere l'angiolo caduto dal messaggero dell'Eterno? La guida dal seduttore?\n",
            "PREDICTED: Come siete stata sola e tutte le sue ragazze , e poi in una casa come tutte le sue qualità .\n"
          ]
        },
        {
          "output_type": "stream",
          "name": "stderr",
          "text": [
            "Processing epoch 16: 100%|██████████| 364/364 [02:09<00:00,  2.80it/s, loss=2.742]\n"
          ]
        },
        {
          "output_type": "stream",
          "name": "stdout",
          "text": [
            "--------------------------------------------------------------------------------\n",
            "SOURCE: But, as I was saying: sitting in that window-seat, do you think of nothing but your future school?\n",
            "TARGET: Ma quando state alla finestra, pensate forse alla vostra futura scuola?\n",
            "PREDICTED: Ma non che cosa avete fatto con la vostra alunna . Non avete mai veduto ?\n",
            "--------------------------------------------------------------------------------\n",
            "SOURCE: \"Nothing at all, sir.\"\n",
            "TARGET: — Non ho niente, signore.\n",
            "PREDICTED: — Niente , signore , signore .\n"
          ]
        },
        {
          "output_type": "stream",
          "name": "stderr",
          "text": [
            "Processing epoch 17: 100%|██████████| 364/364 [02:10<00:00,  2.80it/s, loss=2.580]\n"
          ]
        },
        {
          "output_type": "stream",
          "name": "stdout",
          "text": [
            "--------------------------------------------------------------------------------\n",
            "SOURCE: There are many others who have no friends, who must look about for themselves and be their own helpers; and what is their resource?\"\n",
            "TARGET: Ma vi sono tanti che non hanno amici, che debbono cavarsela da sé; quale è dunque la loro risorsa?\n",
            "PREDICTED: Credete che tutta questa gente e che possa vivere in quella e le altre che per le altre e della mamma ?\n",
            "--------------------------------------------------------------------------------\n",
            "SOURCE: \"Well,\" I asked impatiently, \"is not Mrs. Reed a hard-hearted, bad woman?\"\n",
            "TARGET: — Ebbene, — le domandai, — la signora Reed non è forse una donna dura e senza cuore?\n",
            "PREDICTED: — Ebbene , — risposi , — la signora Reed . — Sì , vi prego .\n"
          ]
        },
        {
          "output_type": "stream",
          "name": "stderr",
          "text": [
            "Processing epoch 18: 100%|██████████| 364/364 [02:09<00:00,  2.80it/s, loss=2.070]\n"
          ]
        },
        {
          "output_type": "stream",
          "name": "stdout",
          "text": [
            "--------------------------------------------------------------------------------\n",
            "SOURCE: Miss Temple seemed to remonstrate.\n",
            "TARGET: La direttrice cercò di fare un'osservazione.\n",
            "PREDICTED: La signorina Temple era terminata , e la direttrice è la direttrice .\n",
            "--------------------------------------------------------------------------------\n",
            "SOURCE: Besides, I know what sort of a mind I have placed in communication with my own: I know it is one not liable to take infection: it is a peculiar mind: it is a unique one.\n",
            "TARGET: Del resto so con quale spirito, il mio è entrato in comunione; è uno spirito a parte, sul quale il contagio del male non avrà presa.\n",
            "PREDICTED: Non so se è mia vita mi di una vita vita vita per me , ma io non posso dire di vedere se fosse stata buona .\n"
          ]
        },
        {
          "output_type": "stream",
          "name": "stderr",
          "text": [
            "Processing epoch 19: 100%|██████████| 364/364 [02:10<00:00,  2.80it/s, loss=1.957]\n"
          ]
        },
        {
          "output_type": "stream",
          "name": "stdout",
          "text": [
            "--------------------------------------------------------------------------------\n",
            "SOURCE: \"Well,\" I asked impatiently, \"is not Mrs. Reed a hard-hearted, bad woman?\"\n",
            "TARGET: — Ebbene, — le domandai, — la signora Reed non è forse una donna dura e senza cuore?\n",
            "PREDICTED: — E che cosa vuole ? — domandò la signora Reed .\n",
            "--------------------------------------------------------------------------------\n",
            "SOURCE: \"What awful event has taken place?\" said she.\n",
            "TARGET: — Che cosa è accaduto?\n",
            "PREDICTED: — Come è il vostro nome di vedere ?\n"
          ]
        },
        {
          "output_type": "stream",
          "name": "stderr",
          "text": [
            "Processing epoch 20: 100%|██████████| 364/364 [02:10<00:00,  2.80it/s, loss=1.888]\n"
          ]
        },
        {
          "output_type": "stream",
          "name": "stdout",
          "text": [
            "--------------------------------------------------------------------------------\n",
            "SOURCE: Mr. Rochester lay down on a sofa in a pretty room called the salon, and Sophie and I had little beds in another place.\n",
            "TARGET: Mi sentivo male e anche Sofia, anche il signor Rochester.\n",
            "PREDICTED: Il signor Rochester , dopo aver posato il lume in cucina e mentre io si in silenzio .\n",
            "--------------------------------------------------------------------------------\n",
            "SOURCE: \"Elles changent de toilettes,\" said Adele; who, listening attentively, had followed every movement; and she sighed.\n",
            "TARGET: — Si vestono, — disse Adele, che ascoltava ogni movimento, e sospirò:\n",
            "PREDICTED: — , — disse , — e prendendo un gatto in ginocchio . — Vi andrà bene di andare in silenzio .\n"
          ]
        },
        {
          "output_type": "stream",
          "name": "stderr",
          "text": [
            "Processing epoch 21: 100%|██████████| 364/364 [02:10<00:00,  2.80it/s, loss=1.864]\n"
          ]
        },
        {
          "output_type": "stream",
          "name": "stdout",
          "text": [
            "--------------------------------------------------------------------------------\n",
            "SOURCE: \"Why,\" thought I, \"does she not explain that she could neither clean her nails nor wash her face, as the water was frozen?\"\n",
            "TARGET: — Perché, — pensavo, — non le dice che non ha potuto lavarsi stamani, essendo l'acqua gelata?\n",
            "PREDICTED: — Perché torna in carrozza ? — disse Bianca — è partito a e voi . — Sì , avrebbe un ' aria d ' aria nelle ore che .\n",
            "--------------------------------------------------------------------------------\n",
            "SOURCE: \"Here is to your health, ministrant spirit!\" he said.\n",
            "TARGET: — Alla vostra salute, spirito benefico!\n",
            "PREDICTED: — , signorina , — disse il — che sia morta .\n"
          ]
        },
        {
          "output_type": "stream",
          "name": "stderr",
          "text": [
            "Processing epoch 22: 100%|██████████| 364/364 [02:09<00:00,  2.80it/s, loss=1.893]\n"
          ]
        },
        {
          "output_type": "stream",
          "name": "stdout",
          "text": [
            "--------------------------------------------------------------------------------\n",
            "SOURCE: \"You are not a servant at the hall, of course.\n",
            "TARGET: — Non siete certo una delle donne di servizio della villa, siete....\n",
            "PREDICTED: — Non avete mai , tanto triste .\n",
            "--------------------------------------------------------------------------------\n",
            "SOURCE: In this room, too, there was a cabinet piano, quite new and of superior tone; also an easel for painting and a pair of globes.\n",
            "TARGET: Da un lato vi era un pianoforte nuovo e di eccellente fabbrica, due cavalletti e le sfere.\n",
            "PREDICTED: Mi parve alto e mi parve che una piccola piccola piccola nuova , ma siccome era , una donna si andava a visitare le , i mobili , e incominciò a sé .\n"
          ]
        },
        {
          "output_type": "stream",
          "name": "stderr",
          "text": [
            "Processing epoch 23: 100%|██████████| 364/364 [02:09<00:00,  2.80it/s, loss=1.695]\n"
          ]
        },
        {
          "output_type": "stream",
          "name": "stdout",
          "text": [
            "--------------------------------------------------------------------------------\n",
            "SOURCE: \"Vos doigts tremblent comme la feuille, et vos joues sont rouges: mais, rouges comme des cerises!\"\n",
            "TARGET: le dita vi tremano e avete le guance rosse come ciliege.\n",
            "PREDICTED: — le mie dita per , — rispose egli . — La della dei giovani e , — benché non sia pena .\n",
            "--------------------------------------------------------------------------------\n",
            "SOURCE: Merry days were these at Thornfield Hall; and busy days too: how different from the first three months of stillness, monotony, and solitude I had passed beneath its roof!\n",
            "TARGET: La giornata passava allegramente a Thornfield e l'attività regnava ormai al castello; quale differenza fra quella quindicina e i tre mesi di tranquillità, di monotonia e di solitudine, che avevo passati fra quelle mura!\n",
            "PREDICTED: L ' campana suonò per la quarta volta ; le alunne si di nuovo e si al refettorio .\n"
          ]
        },
        {
          "output_type": "stream",
          "name": "stderr",
          "text": [
            "Processing epoch 24: 100%|██████████| 364/364 [02:09<00:00,  2.80it/s, loss=1.579]\n"
          ]
        },
        {
          "output_type": "stream",
          "name": "stdout",
          "text": [
            "--------------------------------------------------------------------------------\n",
            "SOURCE: \"Decidedly he has had too much wine,\" I thought; and I did not know what answer to make to his queer question: how could I tell whether he was capable of being re-transformed?\n",
            "TARGET: — Deve aver bevuto davvero troppo vino, — pensavo, non sapendo qual risposta dargli.\n",
            "PREDICTED: — Il mio tono di , — rispose lentamente lord Ingram . — E la mia fronte avrebbe dovuto vedere le vostre consuetudini .\n",
            "--------------------------------------------------------------------------------\n",
            "SOURCE: I remained an inmate of its walls, after its regeneration, for eight years: six as pupil, and two as teacher; and in both capacities I bear my testimony to its value and importance.\n",
            "TARGET: Dopo questa rigenerazione io vi rimasi otto anni, sei come alunna e due come maestra. Nell'una e nell'altra posizione potei render giustizia al valore e all'importanza dell'Istituto.\n",
            "PREDICTED: Avevamo un solo pezzetto di candela e tremavo al pensiero che terminasse prima che la mia compagna avesse cessato di ciarlare . Per fortuna la cena produsse su di lei un effetto .\n"
          ]
        },
        {
          "output_type": "stream",
          "name": "stderr",
          "text": [
            "Processing epoch 25: 100%|██████████| 364/364 [02:09<00:00,  2.80it/s, loss=1.611]\n"
          ]
        },
        {
          "output_type": "stream",
          "name": "stdout",
          "text": [
            "--------------------------------------------------------------------------------\n",
            "SOURCE: I hurried on my frock and a shawl; I withdrew the bolt and opened the door with a trembling hand.\n",
            "TARGET: M'infilai un vestito, mi ravvolsi in uno scialle, e, tirando il chiavistello, aprii la porta, tremando.\n",
            "PREDICTED: La porta a voce bassa , quando c ' era portato il fuoco .\n",
            "--------------------------------------------------------------------------------\n",
            "SOURCE: Breakfast-time came at last, and this morning the porridge was not burnt; the quality was eatable, the quantity small.\n",
            "TARGET: La colazione giunse in fine e la mia parte parvemi scarsa; ne avrei mangiato il doppio.\n",
            "PREDICTED: la colazione fu terminata , si rese grazie di ciò che non si aveva avuto e si cantò un secondo inno .\n"
          ]
        },
        {
          "output_type": "stream",
          "name": "stderr",
          "text": [
            "Processing epoch 26: 100%|██████████| 364/364 [02:10<00:00,  2.80it/s, loss=1.608]\n"
          ]
        },
        {
          "output_type": "stream",
          "name": "stdout",
          "text": [
            "--------------------------------------------------------------------------------\n",
            "SOURCE: \"Is Mr. Rochester an exacting, fastidious sort of man?\"\n",
            "TARGET: — È forse esigente e tirannico il signor Rochester?\n",
            "PREDICTED: — Signor Rochester , il signor Rochester ?\n",
            "--------------------------------------------------------------------------------\n",
            "SOURCE: His shape, now divested of cloak, I perceived harmonised in squareness with his physiognomy: I suppose it was a good figure in the athletic sense of the term--broad chested and thin flanked, though neither tall nor graceful.\n",
            "TARGET: Ora che non era più avvolto nella pelliccia, mi accorsi che le membra erano in armonia con i tratti, membra di atleta, dal petto largo e i fianchi raccolti, un insieme senza imponenza e senza grazia.\n",
            "PREDICTED: La sua voce era meno , ma la sua presenza e mi accorsi che pareva . Il mio spirito si fosse ad alzarmi di .\n"
          ]
        },
        {
          "output_type": "stream",
          "name": "stderr",
          "text": [
            "Processing epoch 27: 100%|██████████| 364/364 [02:10<00:00,  2.80it/s, loss=1.582]\n"
          ]
        },
        {
          "output_type": "stream",
          "name": "stdout",
          "text": [
            "--------------------------------------------------------------------------------\n",
            "SOURCE: \"Don't trouble yourself to give her a character,\" returned Mr. Rochester: \"eulogiums will not bias me; I shall judge for myself.\n",
            "TARGET: — Non vi date la pena d'analizzare il carattere di lei — disse il signor Rochester. — Gli elogi non hanno nessuna influenza sulla mia opinione; la giudicherò da me.\n",
            "PREDICTED: — Non mi parlate mai ; John , — diss ' egli , — non voglio bene , — quella .\n",
            "--------------------------------------------------------------------------------\n",
            "SOURCE: \"No.\"\n",
            "TARGET: — No.\n",
            "PREDICTED: — No .\n"
          ]
        },
        {
          "output_type": "stream",
          "name": "stderr",
          "text": [
            "Processing epoch 28: 100%|██████████| 364/364 [02:10<00:00,  2.80it/s, loss=1.507]\n"
          ]
        },
        {
          "output_type": "stream",
          "name": "stdout",
          "text": [
            "--------------------------------------------------------------------------------\n",
            "SOURCE: \"What is it about?\" I continued.\n",
            "TARGET: — Di che cosa parla?\n",
            "PREDICTED: — Quale è il mio ? — domandarono le domandai .\n",
            "--------------------------------------------------------------------------------\n",
            "SOURCE: \"A great deal: you are good to those who are good to you. It is all I ever desire to be.\n",
            "TARGET: — Ce n'è uno grande, al contrario; siete buona per quelli che sono buoni per voi; è stato sempre quello che ho desiderato.\n",
            "PREDICTED: — che avete ragione , ve ne prego .\n"
          ]
        },
        {
          "output_type": "stream",
          "name": "stderr",
          "text": [
            "Processing epoch 29: 100%|██████████| 364/364 [02:09<00:00,  2.80it/s, loss=1.549]\n"
          ]
        },
        {
          "output_type": "stream",
          "name": "stdout",
          "text": [
            "--------------------------------------------------------------------------------\n",
            "SOURCE: It depends on yourself to stretch out your hand, and take it up: but whether you will do so, is the problem I study.\n",
            "TARGET: Dipende da voi di stender la mano e prenderla e studio il vostro volto per sapere se lo farete.\n",
            "PREDICTED: il bicchiere di vedere se ne , è , avrei fatto un poco , mi la morte .\n",
            "--------------------------------------------------------------------------------\n",
            "SOURCE: We now slowly ascended a drive, and came upon the long front of a house: candlelight gleamed from one curtained bow-window; all the rest were dark.\n",
            "TARGET: Salimmo lentamente una collina e giungemmo davanti alla casa. Si vedevano brillare i lumi dietro la tenda di una finestra bifora; tutto il resto era nel buio.\n",
            "PREDICTED: Ero dunque rinchiusa di notte in un campo deserto , perché le grandi si più dolci , che non aveva più nulla .\n"
          ]
        },
        {
          "output_type": "stream",
          "name": "stderr",
          "text": [
            "Processing epoch 30: 100%|██████████| 364/364 [02:10<00:00,  2.80it/s, loss=1.570]\n"
          ]
        },
        {
          "output_type": "stream",
          "name": "stdout",
          "text": [
            "--------------------------------------------------------------------------------\n",
            "SOURCE: \"You are not a servant at the hall, of course.\n",
            "TARGET: — Non siete certo una delle donne di servizio della villa, siete....\n",
            "PREDICTED: — Non avete mai la tenda ,\n",
            "--------------------------------------------------------------------------------\n",
            "SOURCE: \"Missis looks stout and well enough in the face, but I think she's not quite easy in her mind: Mr. John's conduct does not please her--he spends a deal of money.\"\n",
            "TARGET: — La padrona sta abbastanza bene, ma credo che sia inquieta. La condotta del signor John non le va a genio; egli spende troppo denaro.\n",
            "PREDICTED: — La signora vuole che via fra un poco di padrone , e la signora Reed è da padrone . Non ha detto che subito ....\n"
          ]
        },
        {
          "output_type": "stream",
          "name": "stderr",
          "text": [
            "Processing epoch 31: 100%|██████████| 364/364 [02:10<00:00,  2.80it/s, loss=1.524]\n"
          ]
        },
        {
          "output_type": "stream",
          "name": "stdout",
          "text": [
            "--------------------------------------------------------------------------------\n",
            "SOURCE: It emboldened me to ask a question.\n",
            "TARGET: Essa mi dette animo a rivolgerle una domanda:\n",
            "PREDICTED: Mi di far la sua domanda .\n",
            "--------------------------------------------------------------------------------\n",
            "SOURCE: The want of his animating influence appeared to be peculiarly felt one day that he had been summoned to Millcote on business, and was not likely to return till late.\n",
            "TARGET: Il bisogno della presenza di lui si fece sentire specialmente un giorno in cui i suoi affari lo chiamarono a Millcote, di dove non avrebbe potuto tornare se non che tardi.\n",
            "PREDICTED: La madre del suo nome , lo sguardo di vedere una lunga delle sorelle . In quella non lo , e tutte queste cose ; ma i servi non posso dire di Millcote insieme .\n"
          ]
        },
        {
          "output_type": "stream",
          "name": "stderr",
          "text": [
            "Processing epoch 32: 100%|██████████| 364/364 [02:10<00:00,  2.80it/s, loss=1.436]\n"
          ]
        },
        {
          "output_type": "stream",
          "name": "stdout",
          "text": [
            "--------------------------------------------------------------------------------\n",
            "SOURCE: Well, our ship stopped in the morning, before it was quite daylight, at a great city--a huge city, with very dark houses and all smoky; not at all like the pretty clean town I came from; and Mr. Rochester carried me in his arms over a plank to the land, and Sophie came after, and we all got into a coach, which took us to a beautiful large house, larger than this and finer, called an hotel.\n",
            "TARGET: Ebbene, il bastimento si fermò la mattina, prima che il sole fosse alzato, in una grande grande città, nera nera, tutta coperta di fumo. Non somigliava punto alla città che avevo lasciata.\n",
            "PREDICTED: Ella invitò e me lo alla tavola , collocò dinanzi a noi le tazze e i crostini , poi tolse da un cassetto un pan pepato , ravvolto con cura , e la sua mano ne ne delle grosse .\n",
            "--------------------------------------------------------------------------------\n",
            "SOURCE: The lesson had comprised part of the reign of Charles I., and there were sundry questions about tonnage and poundage and ship- money, which most of them appeared unable to answer; still, every little difficulty was solved instantly when it reached Burns: her memory seemed to have retained the substance of the whole lesson, and she was ready with answers on every point.\n",
            "TARGET: La lezione comprendeva una parte del regno di Carlo I; vi furono diverse domande sul tonnellaggio, sull'imposta e il diritto pagato dai bastimenti, alle quali molte alunne non sapevano rispondere; ma tutte quelle piccole difficoltà erano subito risolte appena era interrogata la Burns; pareva che la sua mente avesse ritenuta tutta la lezione, e sapeva rispondere ad ogni domanda.\n",
            "PREDICTED: La sera avanti c ' era stato un cambiamento di , e il vento di nord - est , tutta la notte attraverso le delle finestre , ci aveva fatto tremare nei nostri letti e aveva gelato l ' acqua .\n"
          ]
        },
        {
          "output_type": "stream",
          "name": "stderr",
          "text": [
            "Processing epoch 33: 100%|██████████| 364/364 [02:10<00:00,  2.80it/s, loss=1.513]\n"
          ]
        },
        {
          "output_type": "stream",
          "name": "stdout",
          "text": [
            "--------------------------------------------------------------------------------\n",
            "SOURCE: \"Here is to your health, ministrant spirit!\" he said.\n",
            "TARGET: — Alla vostra salute, spirito benefico!\n",
            "PREDICTED: — , cara che è accaduto ; mi avete .\n",
            "--------------------------------------------------------------------------------\n",
            "SOURCE: \"What about?\" \"Family troubles, for one thing.\" \"But he has no family.\"\n",
            "TARGET: — Da quali pensieri dunque? — Dalle lotte di famiglia.\n",
            "PREDICTED: — Allora , che cosa sia così , — non è vero per me ?\n"
          ]
        },
        {
          "output_type": "stream",
          "name": "stderr",
          "text": [
            "Processing epoch 34: 100%|██████████| 364/364 [02:10<00:00,  2.80it/s, loss=1.424]\n"
          ]
        },
        {
          "output_type": "stream",
          "name": "stdout",
          "text": [
            "--------------------------------------------------------------------------------\n",
            "SOURCE: I slowly descended.\n",
            "TARGET: Scesi lentamente.\n",
            "PREDICTED: poi attorno al cavaliere .\n",
            "--------------------------------------------------------------------------------\n",
            "SOURCE: I say scarcely voluntary, for it seemed as if my tongue pronounced words without my will consenting to their utterance: something spoke out of me over which I had no control.\n",
            "TARGET: Vi era in me una forza che mi spingeva a parlare, nonostante la volontà di tacere.\n",
            "PREDICTED: L ' argomento era stranamente scelto per una bambina , ma io che l ' originalità stava appunto nell ' udire in bocca di una creaturina accenti d ' amore e di gelosia .\n"
          ]
        },
        {
          "output_type": "stream",
          "name": "stderr",
          "text": [
            "Processing epoch 35: 100%|██████████| 364/364 [02:10<00:00,  2.80it/s, loss=1.471]\n"
          ]
        },
        {
          "output_type": "stream",
          "name": "stdout",
          "text": [
            "--------------------------------------------------------------------------------\n",
            "SOURCE: The next day commenced as before, getting up and dressing by rushlight; but this morning we were obliged to dispense with the ceremony of washing; the water in the pitchers was frozen.\n",
            "TARGET: Il giorno seguente incominciò nella stessa maniera che il primo; ci levammo, ci vestimmo senza lume, ma quella mattina fummo dispensate dal lavarci, perché l'acqua era gelata nelle catinelle.\n",
            "PREDICTED: Il giorno dopo splendeva un sole raggiante , e fu a una escursione nei dintorni .\n",
            "--------------------------------------------------------------------------------\n",
            "SOURCE: \"I am afraid I never shall do that.\"\n",
            "TARGET: — Credo di non potermi consolare mai.\n",
            "PREDICTED: — Sono stanca , perché non .\n"
          ]
        },
        {
          "output_type": "stream",
          "name": "stderr",
          "text": [
            "Processing epoch 36: 100%|██████████| 364/364 [02:10<00:00,  2.80it/s, loss=1.454]\n"
          ]
        },
        {
          "output_type": "stream",
          "name": "stdout",
          "text": [
            "--------------------------------------------------------------------------------\n",
            "SOURCE: \"Yes--'after life's fitful fever they sleep well,'\" I muttered.\n",
            "TARGET: — Sì, dopo la febbre della vita, dormono tranquilli, — mormorai.\n",
            "PREDICTED: — Sì , da nove anni ; perché è padrone di questo .\n",
            "--------------------------------------------------------------------------------\n",
            "SOURCE: \"Burns, you poke your chin most unpleasantly; draw it in.\" \"Burns, I insist on your holding your head up; I will not have you before me in that attitude,\" &c. &c.\n",
            "TARGET: Burns, vi ho detto di tener la testa diritta; non voglio vedervi davanti a me in quell'atteggiamento.\n",
            "PREDICTED: — Come voi , — continuò il viso di , — che siate stato così buona , per me il mio cassetto , e non lo sono ancora sicuro .\n"
          ]
        },
        {
          "output_type": "stream",
          "name": "stderr",
          "text": [
            "Processing epoch 37: 100%|██████████| 364/364 [02:09<00:00,  2.80it/s, loss=1.438]\n"
          ]
        },
        {
          "output_type": "stream",
          "name": "stdout",
          "text": [
            "--------------------------------------------------------------------------------\n",
            "SOURCE: Adele, indeed, no sooner saw Mrs. Fairfax, than she summoned her to her sofa, and there quickly filled her lap with the porcelain, the ivory, the waxen contents of her \"boite;\" pouring out, meantime, explanations and raptures in such broken English as she was mistress of.\n",
            "TARGET: Infatti Adele appena ebbe veduto la vedova, la chiamò e le mise in grembo l'avorio, la porcellana e tutto ciò che conteneva la scatola, esprimendo la sua gioia con frasi monche, perché parlava male inglese.\n",
            "PREDICTED: Adele era sempre solenne . Si sedè su un panchettino che le ; io non le altre che ; aveva rotto le altre e con un grido d ' oro , si sarebbe .\n",
            "--------------------------------------------------------------------------------\n",
            "SOURCE: \"But John Reed knocked me down, and my aunt shut me up in the red-room.\"\n",
            "TARGET: — John Reed mi buttò in terra e la zia mi rinchiuse nella sala rossa.\n",
            "PREDICTED: — Ho troppa sete per poter mangiare ; fatemi il piacere di darmi un ' altra condotta .\n"
          ]
        },
        {
          "output_type": "stream",
          "name": "stderr",
          "text": [
            "Processing epoch 38: 100%|██████████| 364/364 [02:09<00:00,  2.80it/s, loss=1.428]\n"
          ]
        },
        {
          "output_type": "stream",
          "name": "stdout",
          "text": [
            "--------------------------------------------------------------------------------\n",
            "SOURCE: Next day, by noon, I was up and dressed, and sat wrapped in a shawl by the nursery hearth.\n",
            "TARGET: La mattina dopo, verso mezzogiorno, ero alzata e vestita, e, dopo essermi rinvoltata in uno scialle, mi ero seduta accanto al fuoco.\n",
            "PREDICTED: Il giorno dopo splendeva un sole raggiante , e mi sedei tranquillamente in un canto .\n",
            "--------------------------------------------------------------------------------\n",
            "SOURCE: \"Yes; he did not stay many minutes in the house: Missis was very high with him; she called him afterwards a 'sneaking tradesman.'\n",
            "TARGET: — Sì, non rimase molto in casa. La signora gli parlava in tono imperioso, e dietro le spalle lo trattò di vile commerciante.\n",
            "PREDICTED: — Sì , certo , ma non è responsabile delle colpe di sua madre né delle vostre ; poiché sua madre l ' ha abbandonata e la , ebbene ?\n"
          ]
        },
        {
          "output_type": "stream",
          "name": "stderr",
          "text": [
            "Processing epoch 39: 100%|██████████| 364/364 [02:09<00:00,  2.80it/s, loss=1.467]\n"
          ]
        },
        {
          "output_type": "stream",
          "name": "stdout",
          "text": [
            "--------------------------------------------------------------------------------\n",
            "SOURCE: It was Miss Reed that found them out: I believe she was envious; and now she and her sister lead a cat and dog life together; they are always quarrelling--\"\n",
            "TARGET: Miss Elisa li scoperse: io credo che sia invidiosa, e ora lei e la sorella vivono insieme come cani e gatti, e si leticano sempre.\n",
            "PREDICTED: Un ' altra cosa Reed era nella mia mente , e sapevo o piuttosto l ' originalità di studio . Non era né tenerezza nel ; nel cervello , e anche là , e anche più piccolo al castello , e che è stato anche di Lowood .\n",
            "--------------------------------------------------------------------------------\n",
            "SOURCE: One evening, in the beginning of June, I had stayed out very late with Mary Ann in the wood; we had, as usual, separated ourselves from the others, and had wandered far; so far that we lost our way, and had to ask it at a lonely cottage, where a man and woman lived, who looked after a herd of half-wild swine that fed on the mast in the wood.\n",
            "TARGET: Una sera, al principio di giugno, mi ero indugiata nel bosco con Anna; dopo esserci separate dalle altre avevamo errato lungamente, e ci eravamo sperse. Bisognò chiedere indicazioni sulla via da tenere a un uomo e una donna che facevano pascere i maiali.\n",
            "PREDICTED: Si nella sala di studio ; io vi ; avevo per una dozzina di , le altre e ; la , la per prendere un amore d ' ora ci doveva .\n"
          ]
        }
      ],
      "source": [
        "if __name__ == '__main__':\n",
        "    warnings.filterwarnings('ignore')\n",
        "    config = get_config()\n",
        "    train_model(config)"
      ]
    },
    {
      "cell_type": "markdown",
      "metadata": {
        "id": "v3axMN7QWiVH"
      },
      "source": [
        "# Section 2: BERT and LoRA\n",
        "\n",
        "Welcome to Section 2 of our Machine Learning assignment! I hope you've been enjoying the journey so far! 😊\n",
        "\n",
        " In this section, you will gain hands-on experience with [BERT](https://arxiv.org/abs/1810.04805) (Bidirectional Encoder Representations from Transformers) and [LoRA](https://arxiv.org/abs/2106.09685) (Low-Rank Adaptation) for text classification tasks. The section is divided into three main parts, each focusing on different aspects of NLP techniques.\n",
        "\n",
        "## Assignment Structure\n",
        "\n",
        "### Part 1: Data Preparation and Preprocessing\n",
        "In this part, you will work with a text classification dataset. You will learn how to:\n",
        "- Download and load the dataset\n",
        "- Perform necessary preprocessing steps\n",
        "- Implement data cleaning and transformation techniques\n",
        "- Prepare the data in a format suitable for BERT training\n",
        "\n",
        "### Part 2: Building a Small BERT Model\n",
        "You will create and train a small BERT model from scratch using the Hugging Face [Transformers](https://huggingface.co/docs/transformers/en/index) library. This part will help you understand:\n",
        "- The architecture of BERT\n",
        "- How to configure and initialize a BERT model\n",
        "- Training process and optimization\n",
        "- Model evaluation and performance analysis\n",
        "\n",
        "### Part 3: Fine-tuning with LoRA\n",
        "In the final part, you will work with a pre-trained [TinyBERT](https://arxiv.org/abs/1909.10351) model and use LoRA for efficient fine-tuning. You will:\n",
        "- Load a pre-trained TinyBERT model\n",
        "- Implement LoRA adaptation and fine-tune the model on our classification task\n",
        "- Compare the results with the previous approach"
      ]
    },
    {
      "cell_type": "markdown",
      "metadata": {
        "id": "M6FKcSFbOTMd"
      },
      "source": [
        "---\n",
        "\n",
        "> **NOTE**:  \n",
        "> Throughout this notebook, make an effort to include sufficient visualizations to enhance understanding:  \n",
        "> - In the data processing section, display the results of your operations (e.g., show data samples or distributions after preprocessing).  \n",
        "> - In the classification section, report various evaluation metrics such as accuracy, precision, recall, and F1-score to thoroughly assess your model's performance.  \n",
        "> - Additionally, take a moment to compare the sizes of the models discussed in this notebook with today’s enormous models. This will help you appreciate the challenges and computational demands associated with training such massive models. 😵‍💫\n",
        "\n",
        "---\n"
      ]
    },
    {
      "cell_type": "markdown",
      "metadata": {
        "id": "GHKw2r6yYV7n"
      },
      "source": [
        "## Part 1: Data Preparation and Preprocessing\n",
        "We'll be working with the [Consumer Complaint](https://catalog.data.gov/dataset/consumer-complaint-database) dataset, which contains ***complaints*** submitted by consumers about financial products and services. Our goal is to build a classifier that can automatically identify the type of complaint based on the consumer's text description. For this task, we will work with a smaller subset of the dataset, available for download through this [link](https://drive.google.com/file/d/1SpIHksR-WzruEgUjp1SQKGG8bZPnJJoN/view?usp=sharing)."
      ]
    },
    {
      "cell_type": "code",
      "execution_count": 1,
      "metadata": {
        "id": "7ELMR8kXUh3o"
      },
      "outputs": [],
      "source": [
        "import torch\n",
        "from torch.utils.data import Dataset, DataLoader\n",
        "from transformers import BertTokenizer, BertForSequenceClassification, AdamW, BertConfig\n",
        "from sklearn.model_selection import train_test_split\n",
        "import numpy as np\n",
        "import pandas as pd\n",
        "from sklearn.preprocessing import LabelEncoder\n",
        "from tqdm import tqdm"
      ]
    },
    {
      "cell_type": "markdown",
      "metadata": {
        "id": "9oJXlKLYeymq"
      },
      "source": [
        "### 1.2 Loading the Data"
      ]
    },
    {
      "cell_type": "code",
      "source": [
        "!pip install gdown\n",
        "!gdown --id 1SpIHksR-WzruEgUjp1SQKGG8bZPnJJoN\n",
        "!unzip complaints_small.zip"
      ],
      "metadata": {
        "colab": {
          "base_uri": "https://localhost:8080/"
        },
        "id": "lDRZRzTtzNMY",
        "outputId": "c5fbabd6-9914-44df-e98a-488d9f473983"
      },
      "execution_count": 2,
      "outputs": [
        {
          "output_type": "stream",
          "name": "stdout",
          "text": [
            "Requirement already satisfied: gdown in /usr/local/lib/python3.11/dist-packages (5.2.0)\n",
            "Requirement already satisfied: beautifulsoup4 in /usr/local/lib/python3.11/dist-packages (from gdown) (4.12.3)\n",
            "Requirement already satisfied: filelock in /usr/local/lib/python3.11/dist-packages (from gdown) (3.16.1)\n",
            "Requirement already satisfied: requests[socks] in /usr/local/lib/python3.11/dist-packages (from gdown) (2.32.3)\n",
            "Requirement already satisfied: tqdm in /usr/local/lib/python3.11/dist-packages (from gdown) (4.67.1)\n",
            "Requirement already satisfied: soupsieve>1.2 in /usr/local/lib/python3.11/dist-packages (from beautifulsoup4->gdown) (2.6)\n",
            "Requirement already satisfied: charset-normalizer<4,>=2 in /usr/local/lib/python3.11/dist-packages (from requests[socks]->gdown) (3.4.1)\n",
            "Requirement already satisfied: idna<4,>=2.5 in /usr/local/lib/python3.11/dist-packages (from requests[socks]->gdown) (3.10)\n",
            "Requirement already satisfied: urllib3<3,>=1.21.1 in /usr/local/lib/python3.11/dist-packages (from requests[socks]->gdown) (2.3.0)\n",
            "Requirement already satisfied: certifi>=2017.4.17 in /usr/local/lib/python3.11/dist-packages (from requests[socks]->gdown) (2024.12.14)\n",
            "Requirement already satisfied: PySocks!=1.5.7,>=1.5.6 in /usr/local/lib/python3.11/dist-packages (from requests[socks]->gdown) (1.7.1)\n",
            "/usr/local/lib/python3.11/dist-packages/gdown/__main__.py:140: FutureWarning: Option `--id` was deprecated in version 4.3.1 and will be removed in 5.0. You don't need to pass it anymore to use a file ID.\n",
            "  warnings.warn(\n",
            "Downloading...\n",
            "From (original): https://drive.google.com/uc?id=1SpIHksR-WzruEgUjp1SQKGG8bZPnJJoN\n",
            "From (redirected): https://drive.google.com/uc?id=1SpIHksR-WzruEgUjp1SQKGG8bZPnJJoN&confirm=t&uuid=a5dd8e12-5774-4521-8a42-3f3c1e9577b7\n",
            "To: /content/complaints_small.zip\n",
            "100% 290M/290M [00:01<00:00, 195MB/s]\n",
            "Archive:  complaints_small.zip\n",
            "  inflating: complaints_small.csv    \n"
          ]
        }
      ]
    },
    {
      "cell_type": "code",
      "execution_count": 14,
      "metadata": {
        "id": "mGga8BmnUcl0"
      },
      "outputs": [],
      "source": [
        "######################  TODO  ########################\n",
        "######################  TODO  ########################\n",
        "# Load the dataset\n",
        "df = pd.read_csv(\"complaints_small.csv\")\n",
        "######################  TODO  ########################\n",
        "######################  TODO  ########################"
      ]
    },
    {
      "cell_type": "markdown",
      "metadata": {
        "id": "L9hr8-FNgpVO"
      },
      "source": [
        "### 1.3 Data Sampling and Class Distribution Analysis\n",
        "\n",
        "Working with large datasets can be computationally intensive during development. Additionally, imbalanced class distribution can affect model performance. In this section, you'll sample the data and analyze class distributions to make informed decisions about your training dataset."
      ]
    },
    {
      "cell_type": "markdown",
      "metadata": {
        "id": "Cl_g_ZU4h5RG"
      },
      "source": [
        "---\n",
        "\n",
        "We'll work with a manageable portion of the data to develop and test our approach. While using the complete dataset would likely yield better results, a smaller sample allows us to prototype our solution more efficiently.\n"
      ]
    },
    {
      "cell_type": "code",
      "execution_count": 15,
      "metadata": {
        "id": "QAJUXNCFhYsf",
        "colab": {
          "base_uri": "https://localhost:8080/"
        },
        "outputId": "e968fcd6-e452-4d44-86e7-46ac0d04e550"
      },
      "outputs": [
        {
          "output_type": "stream",
          "name": "stdout",
          "text": [
            "                                                  Product  \\\n",
            "335123  Credit reporting or other personal consumer re...   \n",
            "601718                                           Mortgage   \n",
            "847752  Credit reporting, credit repair services, or o...   \n",
            "765316  Credit reporting or other personal consumer re...   \n",
            "798300  Credit reporting, credit repair services, or o...   \n",
            "\n",
            "                             Consumer complaint narrative  \n",
            "335123  Upon reviewing my credit report, I have identi...  \n",
            "601718  I was doing a rate check to refinance. The age...  \n",
            "847752  This is my 2nd request that I have been a vict...  \n",
            "765316  I'm sending this compliant to inform credit bu...  \n",
            "798300  Im submitting a complaint to you today to info...  \n",
            "Original dataset shape: (94113, 2)\n"
          ]
        }
      ],
      "source": [
        "######################  TODO  ########################\n",
        "######################  TODO  ########################\n",
        "\n",
        "# - Sample a portion of the complete dataset\n",
        "# - Display the first few rows of your sampled dataset\n",
        "# - Print the shape of your original and sampled datasets\n",
        "\n",
        "df = df.sample(frac=0.1, random_state=42)\n",
        "print(df.head())\n",
        "print(f\"Original dataset shape: {df.shape}\")\n",
        "\n",
        "######################  TODO  ########################\n",
        "######################  TODO  ########################"
      ]
    },
    {
      "cell_type": "markdown",
      "metadata": {
        "id": "50a4NJeMiBb6"
      },
      "source": [
        "---\n",
        "\n",
        "Let's examine the distribution of ***complaints*** types in our dataset. You'll notice that some products have significantly more instances than others, and some categories are quite similar. For example:\n",
        "\n",
        "- Multiple categories might refer to similar financial products\n",
        "- Some categories might have very few examples\n",
        "- Certain categories might be subcategories of others\n",
        "\n",
        "You have two main approaches to handle this situation:\n",
        "\n",
        "1. **Merging Similar Classes:** Identify categories that represent similar products/services and Combine them to create more robust, general categories\n",
        "\n",
        "2. **Selecting Major Classes:** Only select the categories with sufficient representation\n",
        "\n",
        "\n",
        "\n",
        "> You may choose any approach, but after this step, your data must include **at least five** distinct classes.\n",
        "\n"
      ]
    },
    {
      "cell_type": "code",
      "execution_count": 16,
      "metadata": {
        "id": "nby2Hrwwjd46",
        "colab": {
          "base_uri": "https://localhost:8080/"
        },
        "outputId": "79a6502e-8a70-4c74-f623-65181a8aacbe"
      },
      "outputs": [
        {
          "output_type": "stream",
          "name": "stdout",
          "text": [
            "Class distribution:\n",
            "Product\n",
            "Credit reporting, credit repair services, or other personal consumer reports    32262\n",
            "Credit reporting or other personal consumer reports                             25121\n",
            "Debt collection                                                                 11727\n",
            "Mortgage                                                                         4941\n",
            "Checking or savings account                                                      4566\n",
            "Credit card or prepaid card                                                      4269\n",
            "Credit card                                                                      2504\n",
            "Student loan                                                                     1880\n",
            "Money transfer, virtual currency, or money service                               1829\n",
            "Vehicle loan or lease                                                            1439\n",
            "Credit reporting                                                                 1231\n",
            "Payday loan, title loan, or personal loan                                         704\n",
            "Bank account or service                                                           601\n",
            "Consumer Loan                                                                     358\n",
            "Prepaid card                                                                      256\n",
            "Payday loan, title loan, personal loan, or advance loan                           227\n",
            "Debt or credit management                                                          70\n",
            "Payday loan                                                                        69\n",
            "Money transfers                                                                    49\n",
            "Other financial service                                                             8\n",
            "Virtual currency                                                                    2\n",
            "Name: count, dtype: int64\n"
          ]
        }
      ],
      "source": [
        "######################  TODO  ########################\n",
        "######################  TODO  ########################\n",
        "\n",
        "# - Display the number of complaints in each product category\n",
        "# - Identify which classes are under-represented\n",
        "class_counts = df['Product'].value_counts()\n",
        "print(f\"Class distribution:\\n{class_counts}\")\n",
        "\n",
        "# - Handle class imbalance by choosing and implementing one of these approaches:\n",
        "#   1. Merge similar product categories (e.g., combining related categories)\n",
        "#   2. Keep only the major classes with sufficient examples\n",
        "df['Product'] = df['Product'].replace({\n",
        "    'Credit card': 'Credit services',\n",
        "    'Credit reporting': 'Credit services'\n",
        "})\n",
        "\n",
        "######################  TODO  ########################\n",
        "######################  TODO  ########################"
      ]
    },
    {
      "cell_type": "markdown",
      "metadata": {
        "id": "lD3oISsijt1P"
      },
      "source": [
        "---\n",
        "### 1.4 Data Encoding and Text Preprocessing\n",
        "\n",
        "Before training our model, we need to prepare both our target labels and text data. This involves converting categorical labels into numerical format and cleaning our text data to improve model performance."
      ]
    },
    {
      "cell_type": "code",
      "execution_count": 17,
      "metadata": {
        "id": "pAmaRU92mGyT",
        "colab": {
          "base_uri": "https://localhost:8080/"
        },
        "outputId": "71329940-ed7e-48e9-9864-1a5cccf3c9d3"
      },
      "outputs": [
        {
          "output_type": "stream",
          "name": "stdout",
          "text": [
            "Dataset shape after preprocessing: (92436, 2)\n"
          ]
        }
      ],
      "source": [
        "######################  TODO  ########################\n",
        "######################  TODO  ########################\n",
        "\n",
        "# Label Encoding\n",
        "# - Apply label encoding to convert product categories into numeric values\n",
        "label_encoder = LabelEncoder()\n",
        "df['Product'] = label_encoder.fit_transform(df['Product'])\n",
        "\n",
        "# Text Preprocessing\n",
        "# Choose and implement preprocessing steps that you think will improve the quality of your text data.\n",
        "# Here are some suggestions:\n",
        "def preprocess_text(text):\n",
        "    text = text.lower()\n",
        "    text = ''.join(c for c in text if c.isalnum() or c.isspace())\n",
        "    text = ' '.join(word for word in text.split() if len(word) > 2)\n",
        "    return text\n",
        "\n",
        "df['Consumer complaint narrative'] = df['Consumer complaint narrative'].apply(preprocess_text)\n",
        "# - Remove special characters and punctuation\n",
        "# - Remove very short complaints (e.g., less than 10 words)\n",
        "# - Remove HTML tags if present\n",
        "df = df[df['Consumer complaint narrative'].str.split().apply(len) >= 10]\n",
        "print(f\"Dataset shape after preprocessing: {df.shape}\")\n",
        "\n",
        "######################  TODO  ########################\n",
        "######################  TODO  ########################"
      ]
    },
    {
      "cell_type": "markdown",
      "metadata": {
        "id": "j4jVvN4oopUU"
      },
      "source": [
        "## 1.5 Dataset Creation and Tokenization\n",
        "\n",
        "For training our BERT model, we need to:\n",
        "1. Create a custom Dataset class that will handle tokenization\n",
        "2. Split the data into training and testing sets\n",
        "3. Use BERT's tokenizer to convert text into a format suitable for the model"
      ]
    },
    {
      "cell_type": "code",
      "execution_count": 18,
      "metadata": {
        "id": "yHLQgJhopEh5"
      },
      "outputs": [],
      "source": [
        "######################  TODO  ########################\n",
        "######################  TODO  ########################\n",
        "\n",
        "class ComplaintDataset(Dataset):\n",
        "    \"\"\"A custom Dataset class for handling consumer complaints text data with BERT tokenization.\n",
        "\n",
        "    Parameters:\n",
        "        texts (List[str]): List of complaint texts to be processed\n",
        "        labels (List[int]): List of encoded labels corresponding to each text\n",
        "        tokenizer (BertTokenizer): A BERT tokenizer instance for text processing\n",
        "        max_len (int, optional): Maximum length for padding/truncating texts. Defaults to 512\n",
        "\n",
        "    Returns:\n",
        "        dict: For each item, returns a dictionary containing:\n",
        "            - input_ids (torch.Tensor): Encoded token ids of the text\n",
        "            - attention_mask (torch.Tensor): Attention mask for the padded sequence\n",
        "            - labels (torch.Tensor): Encoded label as a tensor\n",
        "    \"\"\"\n",
        "    def __init__(self, texts, labels, tokenizer, max_len=512):\n",
        "        self.texts = texts\n",
        "        self.labels = labels\n",
        "        self.tokenizer = tokenizer\n",
        "        self.max_len = max_len\n",
        "\n",
        "    def __len__(self):\n",
        "        return len(self.texts)\n",
        "\n",
        "    def __getitem__(self, idx):\n",
        "        text = self.texts.iloc[idx]\n",
        "        label = self.labels.iloc[idx]\n",
        "        encoding = self.tokenizer.encode_plus(\n",
        "            text,\n",
        "            add_special_tokens=True,\n",
        "            max_length=self.max_len,\n",
        "            return_token_type_ids=False,\n",
        "            padding='max_length',\n",
        "            truncation=True,\n",
        "            return_attention_mask=True,\n",
        "            return_tensors='pt'\n",
        "        )\n",
        "        return {\n",
        "            'input_ids': encoding['input_ids'].flatten(),\n",
        "            'attention_mask': encoding['attention_mask'].flatten(),\n",
        "            'labels': torch.tensor(label, dtype=torch.long)\n",
        "        }\n",
        "\n",
        "######################  TODO  ########################\n",
        "######################  TODO  ########################"
      ]
    },
    {
      "cell_type": "code",
      "execution_count": 8,
      "metadata": {
        "id": "-js5x8M5mksA",
        "colab": {
          "base_uri": "https://localhost:8080/",
          "height": 310,
          "referenced_widgets": [
            "68abfae9184048fea832ace3973c7d8c",
            "60f660ca812b4ad4ba182d2c59086c9b",
            "c0536c90c76b4f1caa6b0a5de10ca997",
            "f80ec74d08534b889ab647a6736ac859",
            "f0fa3247c48b4fd3934babeee0f220e6",
            "457aded721fb494b8c55a01a060c433d",
            "f05103856c0e42d6b46299c450970dc9",
            "14c50264ff7b48e2b61cd4353ef981d7",
            "8f47991b71804a86af75c43807f51661",
            "cf9477f8a4f644b5bbac49690d7c2a85",
            "2438908c21d4431bb7f23b35c37c104c",
            "0c2ad63660644d6e8ee46c5ed6321fb6",
            "038fc014b2444fc3a6448f7012b14356",
            "2eb68f4053954acd9345b486fde93129",
            "c0a2654367c5415891f173e5f5519448",
            "86a62d7b52864aa0a3dc5d88528084f3",
            "3eee8fed024941db9031bbe5a72f1e56",
            "b02d1ab001fa461c9305080b44a982c9",
            "8ed94825e30a492c8f9fdac483dfb535",
            "b670b1cbf1c14d5485941cb65b42626d",
            "a3ad2659fd564f8fb860178596174497",
            "b30228e5b7e042baa2908f9a7a1e296b",
            "13d176697c35414b997c6d523a3e0e7b",
            "7a691a8cf899407db21126656fe0b477",
            "71f4281517ae41dfaf6c2c0aaed1df9c",
            "b0304a44362a4e5aa7a874fca80dcf1b",
            "7b43bcd4302047e9b5fb81a5b6bc901d",
            "a454319a57c84c5ab6245c49d744963a",
            "28e6f467fa9f46b3b3a342b32da761a7",
            "e8f5fce74bc74b60ad7fac72a3ce496a",
            "a01335f0850b4ca7bb8fc5ae9bebdad2",
            "25dd0cf72e1847c8be96ef69fda2a765",
            "2cf0aba962814c53945397708b0ccbff",
            "071a48d14d4348a7a3a480fad97e66d8",
            "96efc1f761dd49feb6ca95a20828c463",
            "632fda77c5f04291808aabd34f7267d7",
            "e6ab0e06640a4d63bd8406bfb1fe26ef",
            "f7f0e59760a84910b3aca3f5bd6b7467",
            "54ed302206144fe49dcf6ed88289cb9c",
            "015330b7a8fe4b5da93908e39cfa2791",
            "5c5b36dc27ca42a4b45c42e6d3837ef0",
            "740a2261e7154657a77e718a0eee63e3",
            "06cb70d2b1d34b77a869fce2db729d2a",
            "f93a76f2fc7b4aecb93f88bfe9687f06"
          ]
        },
        "outputId": "45dd6862-d373-47ae-c566-69b3aceb6d43"
      },
      "outputs": [
        {
          "output_type": "stream",
          "name": "stderr",
          "text": [
            "/usr/local/lib/python3.11/dist-packages/huggingface_hub/utils/_auth.py:94: UserWarning: \n",
            "The secret `HF_TOKEN` does not exist in your Colab secrets.\n",
            "To authenticate with the Hugging Face Hub, create a token in your settings tab (https://huggingface.co/settings/tokens), set it as secret in your Google Colab and restart your session.\n",
            "You will be able to reuse this secret in all of your notebooks.\n",
            "Please note that authentication is recommended but still optional to access public models or datasets.\n",
            "  warnings.warn(\n"
          ]
        },
        {
          "output_type": "display_data",
          "data": {
            "text/plain": [
              "tokenizer_config.json:   0%|          | 0.00/48.0 [00:00<?, ?B/s]"
            ],
            "application/vnd.jupyter.widget-view+json": {
              "version_major": 2,
              "version_minor": 0,
              "model_id": "68abfae9184048fea832ace3973c7d8c"
            }
          },
          "metadata": {}
        },
        {
          "output_type": "display_data",
          "data": {
            "text/plain": [
              "vocab.txt:   0%|          | 0.00/232k [00:00<?, ?B/s]"
            ],
            "application/vnd.jupyter.widget-view+json": {
              "version_major": 2,
              "version_minor": 0,
              "model_id": "0c2ad63660644d6e8ee46c5ed6321fb6"
            }
          },
          "metadata": {}
        },
        {
          "output_type": "display_data",
          "data": {
            "text/plain": [
              "tokenizer.json:   0%|          | 0.00/466k [00:00<?, ?B/s]"
            ],
            "application/vnd.jupyter.widget-view+json": {
              "version_major": 2,
              "version_minor": 0,
              "model_id": "13d176697c35414b997c6d523a3e0e7b"
            }
          },
          "metadata": {}
        },
        {
          "output_type": "display_data",
          "data": {
            "text/plain": [
              "config.json:   0%|          | 0.00/570 [00:00<?, ?B/s]"
            ],
            "application/vnd.jupyter.widget-view+json": {
              "version_major": 2,
              "version_minor": 0,
              "model_id": "071a48d14d4348a7a3a480fad97e66d8"
            }
          },
          "metadata": {}
        },
        {
          "output_type": "stream",
          "name": "stderr",
          "text": [
            "/usr/local/lib/python3.11/dist-packages/torch/utils/data/dataloader.py:617: UserWarning: This DataLoader will create 4 worker processes in total. Our suggested max number of worker in current system is 2, which is smaller than what this DataLoader is going to create. Please be aware that excessive worker creation might get DataLoader running slow or even freeze, lower the worker number to avoid potential slowness/freeze if necessary.\n",
            "  warnings.warn(\n"
          ]
        }
      ],
      "source": [
        "######################  TODO  ########################\n",
        "######################  TODO  ########################\n",
        "\n",
        "# Split the data\n",
        "X_train, X_test, y_train, y_test = train_test_split(\n",
        "    df['Consumer complaint narrative'],\n",
        "    df['Product'],\n",
        "    test_size=0.2,\n",
        "    random_state=42\n",
        ")\n",
        "\n",
        "# Initialize tokenizer and create datasets\n",
        "tokenizer = BertTokenizer.from_pretrained(\"bert-base-uncased\")\n",
        "train_dataset = ComplaintDataset(X_train, y_train, tokenizer)\n",
        "test_dataset = ComplaintDataset(X_test, y_test, tokenizer)\n",
        "\n",
        "# Create dataloaders\n",
        "train_loader = DataLoader(train_dataset, batch_size=16, shuffle=True)\n",
        "test_loader = DataLoader(test_dataset, batch_size=16, shuffle=False)\n",
        "\n",
        "######################  TODO  ########################\n",
        "######################  TODO  ########################"
      ]
    },
    {
      "cell_type": "markdown",
      "metadata": {
        "id": "aMcc2gsbt0iJ"
      },
      "source": [
        "## Part 2: Training a Small-Size BERT Model\n",
        "\n",
        "In this part, we will explore how to build and train a small-sized BERT model for our classification task. Instead of using the full-sized BERT model, which is computationally expensive, we will create a smaller version using the Transformers library."
      ]
    },
    {
      "cell_type": "code",
      "execution_count": 9,
      "metadata": {
        "id": "3RS5oBz3qmvu"
      },
      "outputs": [],
      "source": [
        "######################  TODO  ########################\n",
        "######################  TODO  ########################\n",
        "\n",
        "# 1. Define your BERT model for sequence classification\n",
        "#    Ensure that you set up the configuration properly (e.g., specify the number of output labels).\n",
        "# 2. Print the total number of trainable parameters in the model to understand its size.\n",
        "config = BertConfig.from_pretrained(\"bert-base-uncased\", num_labels=len(label_encoder.classes_))\n",
        "model = BertForSequenceClassification.from_pretrained(\"bert-base-uncased\", config=config)\n",
        "\n",
        "######################  TODO  ########################\n",
        "######################  TODO  ########################"
      ]
    },
    {
      "cell_type": "markdown",
      "metadata": {
        "id": "Xr4Z14a6wL2c"
      },
      "source": [
        "---\n",
        "\n",
        "Now that you have defined your model, it's time to train it!☠️\n",
        "\n",
        "Training a model of this size can take some time, depending on the available resources. To manage this, you can train your model for just **2–3 epochs** to demonstrate progress. Here are some hints:\n",
        "- **Training Metrics:** Ensure you print enough metrics, such as loss and accuracy, to track the training progress.\n",
        "- **Interactive Monitoring:** Use the `tqdm` library to display the progress of your training loop in real-time."
      ]
    },
    {
      "cell_type": "code",
      "execution_count": null,
      "metadata": {
        "id": "FRZW-F9Dw6AI",
        "colab": {
          "base_uri": "https://localhost:8080/"
        },
        "outputId": "96b90cc1-6aab-4c6f-cd80-40ed61e9ae6c"
      },
      "outputs": [
        {
          "output_type": "stream",
          "name": "stderr",
          "text": [
            "Epoch 1/3: 100%|██████████| 4325/4325 [09:00<00:00,  8.00it/s]\n"
          ]
        },
        {
          "output_type": "stream",
          "name": "stdout",
          "text": [
            "Epoch 1/3 - Loss: 0.5887, Accuracy: 79.07%\n"
          ]
        },
        {
          "output_type": "stream",
          "name": "stderr",
          "text": [
            "Epoch 2/3: 100%|██████████| 4325/4325 [08:46<00:00,  8.21it/s]\n"
          ]
        },
        {
          "output_type": "stream",
          "name": "stdout",
          "text": [
            "Epoch 2/3 - Loss: 0.3487, Accuracy: 88.28%\n"
          ]
        },
        {
          "output_type": "stream",
          "name": "stderr",
          "text": [
            "Epoch 3/3: 100%|██████████| 4325/4325 [08:43<00:00,  8.26it/s]\n"
          ]
        },
        {
          "output_type": "stream",
          "name": "stdout",
          "text": [
            "Epoch 3/3 - Loss: 0.2994, Accuracy: 89.89%\n"
          ]
        },
        {
          "output_type": "stream",
          "name": "stderr",
          "text": [
            "Evaluating on Test Set: 100%|██████████| 1082/1082 [01:16<00:00, 14.16it/s]"
          ]
        },
        {
          "output_type": "stream",
          "name": "stdout",
          "text": [
            "Test Accuracy: 89.70%\n"
          ]
        },
        {
          "output_type": "stream",
          "name": "stderr",
          "text": [
            "\n"
          ]
        }
      ],
      "source": [
        "######################  TODO  ########################\n",
        "######################  TODO  ########################\n",
        "\n",
        "optimizer = AdamW(model.parameters(), lr=5e-5)\n",
        "num_epochs = 3\n",
        "\n",
        "# Training loop\n",
        "for epoch in range(num_epochs):\n",
        "    model.train()\n",
        "    for batch in tqdm(train_loader):\n",
        "        optimizer.zero_grad()\n",
        "\n",
        "        input_ids = batch['input_ids']\n",
        "        attention_mask = batch['attention_mask']\n",
        "        labels = batch['labels']\n",
        "\n",
        "        outputs = model(\n",
        "            input_ids=input_ids,\n",
        "            attention_mask=attention_mask,\n",
        "            labels=labels\n",
        "        )\n",
        "\n",
        "        # TODO: Perform backpropagation and update the optimizer. Hint: Use outputs.loss to access the model's loss.\n",
        "        loss = outputs.loss\n",
        "        accuracy = outputs.accuracy\n",
        "        loss.backward()\n",
        "        optimizer.step()\n",
        "        # TODO: Monitor the training process by reporting metrics such as loss and accuracy.\n",
        "        print(f\"Epoch {epoch + 1}/{num_epochs} - Loss: {loss:.4f}, Accuracy: {accuracy:.2f}%\")\n",
        "\n",
        "# TODO : Evaluate the model on test dataset\n",
        "model.eval()\n",
        "total, correct = 0, 0\n",
        "for batch in test_loader:\n",
        "    input_ids = batch['input_ids']\n",
        "    attention_mask = batch['attention_mask']\n",
        "    labels = batch['labels']\n",
        "    outputs = lora_model(input_ids=input_ids, attention_mask=attention_mask)\n",
        "    predictions = torch.argmax(outputs.logits, dim=1)\n",
        "    correct += (predictions == labels).sum().item()\n",
        "    total += labels.size(0)\n",
        "\n",
        "print(f\"Test Accuracy: {correct / total * 100:.2f}%\")\n",
        "######################  TODO  ########################\n",
        "######################  TODO  ########################"
      ]
    },
    {
      "cell_type": "markdown",
      "metadata": {
        "id": "-yHtTYcpz6AW"
      },
      "source": [
        "## Part 3: Fine-Tuning TinyBERT with LoRA\n",
        "\n",
        "As you have experienced, training even a small-sized BERT model can be computationally intensive and time-consuming. To address these challenges, we explore **Parameter-Efficient Fine-Tuning (PEFT)** methods, which allow us to utilize the power of large pretrained models without requiring extensive resources.\n",
        "\n",
        "---\n",
        "\n",
        "### **Parameter-Efficient Fine-Tuning (PEFT)**\n",
        "\n",
        "PEFT methods focus on fine-tuning only a small portion of the model’s parameters while keeping most of the pretrained weights frozen. This drastically reduces the computational and storage requirements while leveraging the rich knowledge embedded in pretrained models.\n",
        "\n",
        "One popular PEFT method is LoRA (Low-Rank Adaptation).\n",
        "\n",
        "- **What is LoRA?**\n",
        "\n",
        "LoRA introduces a mechanism to fine-tune large language models by injecting small low-rank matrices into the model's architecture. Instead of updating all parameters during training, LoRA trains these small matrices while keeping the majority of the original parameters frozen.  This is achieved as follows:\n",
        "\n",
        "1. **Frozen Weights**: The pretrained weights of the model, represented as a weight matrix $ W \\in \\mathbb{R}^{d \\times k} $, remain **frozen** during fine-tuning.\n",
        "\n",
        "2. **Low-Rank Decomposition**:\n",
        "   Instead of directly updating $ W $, LoRA introduces two trainable matrices, $ A \\in \\mathbb{R}^{d \\times r} $ and $ B \\in \\mathbb{R}^{r \\times k} $, where $ r \\ll \\min(d, k) $.  \n",
        "   These matrices approximate the update to $ W $ as:\n",
        "   $$\n",
        "   \\Delta W = A \\cdot B\n",
        "   $$\n",
        "\n",
        "   Here, $ r $, the rank of the decomposition, is a key hyperparameter that determines the trade-off between computational cost and model capacity.\n",
        "\n",
        "3. **Adaptation**:\n",
        "   During training, instead of updating $ W $, the adapted weight is:\n",
        "   $$\n",
        "   W' = W + \\Delta W = W + A \\cdot B\n",
        "   $$\n",
        "   Only the low-rank matrices $ A $ and $ B $ are optimized, while $ W $ remains fixed.\n",
        "\n",
        "4. **Efficiency**:\n",
        "   Since $ r $ is much smaller than $ d $ and $ k $, the number of trainable parameters in $ A $ and $ B $ is significantly less than in $ W $. This makes the approach highly efficient both in terms of computation and memory.\n",
        "\n",
        "---\n",
        "\n",
        "###  **Fine-Tuning TinyBERT**\n",
        "\n",
        "For this part, we will fine-tune **TinyBERT**, a distilled version of BERT, using the LoRA method.\n",
        "\n",
        "- **What is TinyBERT?**\n",
        "\n",
        "TinyBERT is a lightweight version of the original BERT model created through knowledge distillation. It significantly reduces the model size and inference latency while preserving much of the original BERT’s effectiveness. Here are some key characteristics of TinyBERT:\n",
        "- It is designed to be more resource-efficient for tasks such as classification, question answering, and more.\n",
        "- TinyBERT retains a compact structure with fewer layers and parameters, making it ideal for fine-tuning with limited computational resources.\n"
      ]
    },
    {
      "cell_type": "markdown",
      "metadata": {
        "id": "n_Og-pBeV5x6"
      },
      "source": [
        "> Similar to the previous section, training this model might take some time. Given the resource limitations, you can train the model for just **2-3 epochs** to demonstrate the process.\n"
      ]
    },
    {
      "cell_type": "code",
      "execution_count": 10,
      "metadata": {
        "id": "fe1vGCZwU7MZ"
      },
      "outputs": [],
      "source": [
        "from transformers import AutoModelForSequenceClassification, AutoTokenizer\n",
        "from peft import get_peft_model, LoraConfig, TaskType\n",
        "import torch\n",
        "import torch.nn as nn\n",
        "from torch.utils.data import Dataset, DataLoader\n",
        "import numpy as np\n",
        "from tqdm import tqdm"
      ]
    },
    {
      "cell_type": "code",
      "execution_count": 11,
      "metadata": {
        "id": "LIyN5vOLLWz6",
        "colab": {
          "base_uri": "https://localhost:8080/",
          "height": 169,
          "referenced_widgets": [
            "367e72df3c894bc49d8e7d8305037707",
            "fcab20bcebe84cfc954e3fc135eab2e4",
            "214660fc82754dfbac2be07b5c0e0ef4",
            "4c51f5a41e634393a3504febe7b6af29",
            "f2cdf6b1e6af4687805964741e389fb3",
            "81087aa034d14cc99f18d9bf749008cd",
            "de6692082187492393dd23b98d8ed839",
            "8f1c70b324e54c78ae35815b0247c7cb",
            "468f6bfc976740f1b63f5d544331a1fb",
            "85ef258607c84fecb77e8aab234bcbbd",
            "f55c1a14f465430e8215f0cecbde5231",
            "d87705dbbbe54a6f813870230cd38758",
            "4c6000d5184d4412a6c11b5e6c89ffa6",
            "044324a16ef24799bab969143c0dc360",
            "7fe006a11f5340219a401641d50f83b7",
            "6110092faeee42c381ddf3d1eebb9cec",
            "60e435a810354544b1f422624c63f93b",
            "d490854ab2fc42fdad0dddd32fd33823",
            "15e0f3625825498bb46454442a099a8c",
            "e1ccfffb7aaa476b8dc8c186a6286f1c",
            "305825074c2946aea197da0a479e3a47",
            "6a8561a6b60845ffa4cfb0499cecd32e",
            "040697f0cc5e47b6a10880407fe1a9d5",
            "d06df1aae19f4510a7263d5d5a201f90",
            "3fba4dd30aa4416ea2e1008df2b7f276",
            "0678cc9a455c44839b28ac60243e5826",
            "5238eed78faa453cb12912645db0feb9",
            "18bab66a30dd45fe8ffc6162498cd5e7",
            "fd26d016013843f495e13edd84aa46b5",
            "c365cc7522364cdcb1c2349f8d80561f",
            "40af702a80db4edea38c82950e8860be",
            "f2c4687a98d2494685f27ee6859ffa9e",
            "8d806d8d55434547b188042b5eba49d9"
          ]
        },
        "outputId": "ff1125f6-87b0-4799-8c84-9820ad3c9e1a"
      },
      "outputs": [
        {
          "output_type": "display_data",
          "data": {
            "text/plain": [
              "config.json:   0%|          | 0.00/285 [00:00<?, ?B/s]"
            ],
            "application/vnd.jupyter.widget-view+json": {
              "version_major": 2,
              "version_minor": 0,
              "model_id": "367e72df3c894bc49d8e7d8305037707"
            }
          },
          "metadata": {}
        },
        {
          "output_type": "display_data",
          "data": {
            "text/plain": [
              "pytorch_model.bin:   0%|          | 0.00/17.8M [00:00<?, ?B/s]"
            ],
            "application/vnd.jupyter.widget-view+json": {
              "version_major": 2,
              "version_minor": 0,
              "model_id": "d87705dbbbe54a6f813870230cd38758"
            }
          },
          "metadata": {}
        },
        {
          "output_type": "stream",
          "name": "stderr",
          "text": [
            "Some weights of BertForSequenceClassification were not initialized from the model checkpoint at prajjwal1/bert-tiny and are newly initialized: ['classifier.bias', 'classifier.weight']\n",
            "You should probably TRAIN this model on a down-stream task to be able to use it for predictions and inference.\n"
          ]
        },
        {
          "output_type": "display_data",
          "data": {
            "text/plain": [
              "vocab.txt:   0%|          | 0.00/232k [00:00<?, ?B/s]"
            ],
            "application/vnd.jupyter.widget-view+json": {
              "version_major": 2,
              "version_minor": 0,
              "model_id": "040697f0cc5e47b6a10880407fe1a9d5"
            }
          },
          "metadata": {}
        }
      ],
      "source": [
        "######################  TODO  ########################\n",
        "######################  TODO  ########################\n",
        "\n",
        "# Load the pre-trained TinyBERT\n",
        "model_name = \"prajjwal1/bert-tiny\"\n",
        "base_model = AutoModelForSequenceClassification.from_pretrained(model_name)\n",
        "tokenizer = AutoTokenizer.from_pretrained(model_name)\n",
        "\n",
        "# Define LoRA Configuration\n",
        "lora_config = LoraConfig(\n",
        "    task_type=TaskType.SEQ_CLS,\n",
        "    r=8,\n",
        "    lora_alpha=32,\n",
        "    target_modules=[\"classifier\"],\n",
        "    lora_dropout=0.1\n",
        ")\n",
        "\n",
        "######################  TODO  ########################\n",
        "######################  TODO  ########################"
      ]
    },
    {
      "cell_type": "code",
      "execution_count": 12,
      "metadata": {
        "id": "jMgwZ8YmLuZ_",
        "colab": {
          "base_uri": "https://localhost:8080/"
        },
        "outputId": "e3e95b3a-430a-4bf5-8f30-d6281bf1ba63"
      },
      "outputs": [
        {
          "output_type": "stream",
          "name": "stdout",
          "text": [
            "Number of trainable parameters with LoRA: 8837\n"
          ]
        }
      ],
      "source": [
        "######################  TODO  ########################\n",
        "######################  TODO  ########################\n",
        "\n",
        "# Apply LoRA to model\n",
        "lora_model = get_peft_model(model, lora_config)\n",
        "\n",
        "# TODO: Show the number of trainable parameters\n",
        "print(f\"Number of trainable parameters with LoRA: {sum(p.numel() for p in lora_model.parameters() if p.requires_grad)}\")\n",
        "\n",
        "# Training configuration\n",
        "optimizer = AdamW(lora_model.parameters(), lr=5e-5)\n",
        "criterion = nn.CrossEntropyLoss()\n",
        "\n",
        "######################  TODO  ########################\n",
        "######################  TODO  ########################"
      ]
    },
    {
      "cell_type": "code",
      "execution_count": 13,
      "metadata": {
        "id": "J395FrcWMbmx",
        "colab": {
          "base_uri": "https://localhost:8080/"
        },
        "outputId": "602d9c45-68a6-4145-bfae-a9e8c450bd2c"
      },
      "outputs": [
        {
          "output_type": "stream",
          "name": "stderr",
          "text": [
            "100%|██████████| 4325/4325 [06:29<00:00, 11.10it/s]\n"
          ]
        },
        {
          "output_type": "stream",
          "name": "stdout",
          "text": [
            "Epoch 1/2 - Loss: 0.8656, Accuracy: 0.6880\n"
          ]
        },
        {
          "output_type": "stream",
          "name": "stderr",
          "text": [
            "100%|██████████| 4325/4325 [05:43<00:00, 12.61it/s]\n"
          ]
        },
        {
          "output_type": "stream",
          "name": "stdout",
          "text": [
            "Epoch 2/2 - Loss: 0.6698, Accuracy: 0.7612\n"
          ]
        },
        {
          "output_type": "stream",
          "name": "stderr",
          "text": [
            "100%|██████████| 1082/1082 [01:17<00:00, 14.02it/s]"
          ]
        },
        {
          "output_type": "stream",
          "name": "stdout",
          "text": [
            "Test Accuracy: 0.8069\n"
          ]
        },
        {
          "output_type": "stream",
          "name": "stderr",
          "text": [
            "\n"
          ]
        }
      ],
      "source": [
        "######################  TODO  ########################\n",
        "######################  TODO  ########################\n",
        "\n",
        "num_epochs = 2\n",
        "\n",
        "# Training loop\n",
        "for epoch in range(num_epochs):\n",
        "\n",
        "    lora_model.train()\n",
        "\n",
        "    for batch in tqdm(train_loader):\n",
        "        optimizer.zero_grad()\n",
        "\n",
        "        input_ids = batch['input_ids']\n",
        "        attention_mask = batch['attention_mask']\n",
        "        labels = batch['labels']\n",
        "\n",
        "        outputs = lora_model(\n",
        "            input_ids=input_ids,\n",
        "            attention_mask=attention_mask,\n",
        "            labels=labels\n",
        "        )\n",
        "\n",
        "        # TODO: Perform backpropagation and update the optimizer. Hint: Use outputs.loss to access the model's loss.\n",
        "        loss = outputs.loss\n",
        "        loss.backward()\n",
        "        optimizer.step()\n",
        "        # TODO: Monitor the training process by reporting metrics such as loss and accuracy.\n",
        "        print(f\"Epoch {epoch + 1}/{num_epochs} - Loss: {loss:.4f}, Accuracy: {accuracy:.2f}%\")\n",
        "\n",
        "\n",
        "# TODO : Evaluate the model on test dataset\n",
        "lora_model.eval()\n",
        "total, correct = 0, 0\n",
        "for batch in test_loader:\n",
        "    input_ids = batch['input_ids']\n",
        "    attention_mask = batch['attention_mask']\n",
        "    labels = batch['labels']\n",
        "    outputs = lora_model(input_ids=input_ids, attention_mask=attention_mask)\n",
        "    predictions = torch.argmax(outputs.logits, dim=1)\n",
        "    correct += (predictions == labels).sum().item()\n",
        "    total += labels.size(0)\n",
        "\n",
        "print(f\"Test Accuracy: {correct / total * 100:.2f}%\")\n",
        "######################  TODO  ########################\n",
        "######################  TODO  ########################"
      ]
    }
  ],
  "metadata": {
    "colab": {
      "provenance": [],
      "gpuType": "T4"
    },
    "kernelspec": {
      "display_name": "Python 3",
      "name": "python3"
    },
    "language_info": {
      "name": "python"
    },
    "accelerator": "GPU",
    "widgets": {
      "application/vnd.jupyter.widget-state+json": {
        "32c1fbc7ce624c40a5b405b728728588": {
          "model_module": "@jupyter-widgets/controls",
          "model_name": "HBoxModel",
          "model_module_version": "1.5.0",
          "state": {
            "_dom_classes": [],
            "_model_module": "@jupyter-widgets/controls",
            "_model_module_version": "1.5.0",
            "_model_name": "HBoxModel",
            "_view_count": null,
            "_view_module": "@jupyter-widgets/controls",
            "_view_module_version": "1.5.0",
            "_view_name": "HBoxView",
            "box_style": "",
            "children": [
              "IPY_MODEL_7f816f0ef75e4219b5b2419de3d6669c",
              "IPY_MODEL_5b889950210f4a7a9b8bad142a8e8399",
              "IPY_MODEL_b7f8ce3c28c94f85bee4a1cb757a295d"
            ],
            "layout": "IPY_MODEL_e18f5f99536e4cdb98fddb171cece343"
          }
        },
        "7f816f0ef75e4219b5b2419de3d6669c": {
          "model_module": "@jupyter-widgets/controls",
          "model_name": "HTMLModel",
          "model_module_version": "1.5.0",
          "state": {
            "_dom_classes": [],
            "_model_module": "@jupyter-widgets/controls",
            "_model_module_version": "1.5.0",
            "_model_name": "HTMLModel",
            "_view_count": null,
            "_view_module": "@jupyter-widgets/controls",
            "_view_module_version": "1.5.0",
            "_view_name": "HTMLView",
            "description": "",
            "description_tooltip": null,
            "layout": "IPY_MODEL_8529a071a1ec4b59aaa9b5e144f7665b",
            "placeholder": "​",
            "style": "IPY_MODEL_30bf898d3ac2420f999de9c49d83d7f3",
            "value": "README.md: 100%"
          }
        },
        "5b889950210f4a7a9b8bad142a8e8399": {
          "model_module": "@jupyter-widgets/controls",
          "model_name": "FloatProgressModel",
          "model_module_version": "1.5.0",
          "state": {
            "_dom_classes": [],
            "_model_module": "@jupyter-widgets/controls",
            "_model_module_version": "1.5.0",
            "_model_name": "FloatProgressModel",
            "_view_count": null,
            "_view_module": "@jupyter-widgets/controls",
            "_view_module_version": "1.5.0",
            "_view_name": "ProgressView",
            "bar_style": "success",
            "description": "",
            "description_tooltip": null,
            "layout": "IPY_MODEL_26e11bf178964abc9d64fba0fcef46d1",
            "max": 28064,
            "min": 0,
            "orientation": "horizontal",
            "style": "IPY_MODEL_d3fea6881dfb4d0e8525f7d2466886ce",
            "value": 28064
          }
        },
        "b7f8ce3c28c94f85bee4a1cb757a295d": {
          "model_module": "@jupyter-widgets/controls",
          "model_name": "HTMLModel",
          "model_module_version": "1.5.0",
          "state": {
            "_dom_classes": [],
            "_model_module": "@jupyter-widgets/controls",
            "_model_module_version": "1.5.0",
            "_model_name": "HTMLModel",
            "_view_count": null,
            "_view_module": "@jupyter-widgets/controls",
            "_view_module_version": "1.5.0",
            "_view_name": "HTMLView",
            "description": "",
            "description_tooltip": null,
            "layout": "IPY_MODEL_9380cc53292b4771b29b23790cdb2187",
            "placeholder": "​",
            "style": "IPY_MODEL_69bc5a9178bc4f7985dc06a94f24f98e",
            "value": " 28.1k/28.1k [00:00&lt;00:00, 805kB/s]"
          }
        },
        "e18f5f99536e4cdb98fddb171cece343": {
          "model_module": "@jupyter-widgets/base",
          "model_name": "LayoutModel",
          "model_module_version": "1.2.0",
          "state": {
            "_model_module": "@jupyter-widgets/base",
            "_model_module_version": "1.2.0",
            "_model_name": "LayoutModel",
            "_view_count": null,
            "_view_module": "@jupyter-widgets/base",
            "_view_module_version": "1.2.0",
            "_view_name": "LayoutView",
            "align_content": null,
            "align_items": null,
            "align_self": null,
            "border": null,
            "bottom": null,
            "display": null,
            "flex": null,
            "flex_flow": null,
            "grid_area": null,
            "grid_auto_columns": null,
            "grid_auto_flow": null,
            "grid_auto_rows": null,
            "grid_column": null,
            "grid_gap": null,
            "grid_row": null,
            "grid_template_areas": null,
            "grid_template_columns": null,
            "grid_template_rows": null,
            "height": null,
            "justify_content": null,
            "justify_items": null,
            "left": null,
            "margin": null,
            "max_height": null,
            "max_width": null,
            "min_height": null,
            "min_width": null,
            "object_fit": null,
            "object_position": null,
            "order": null,
            "overflow": null,
            "overflow_x": null,
            "overflow_y": null,
            "padding": null,
            "right": null,
            "top": null,
            "visibility": null,
            "width": null
          }
        },
        "8529a071a1ec4b59aaa9b5e144f7665b": {
          "model_module": "@jupyter-widgets/base",
          "model_name": "LayoutModel",
          "model_module_version": "1.2.0",
          "state": {
            "_model_module": "@jupyter-widgets/base",
            "_model_module_version": "1.2.0",
            "_model_name": "LayoutModel",
            "_view_count": null,
            "_view_module": "@jupyter-widgets/base",
            "_view_module_version": "1.2.0",
            "_view_name": "LayoutView",
            "align_content": null,
            "align_items": null,
            "align_self": null,
            "border": null,
            "bottom": null,
            "display": null,
            "flex": null,
            "flex_flow": null,
            "grid_area": null,
            "grid_auto_columns": null,
            "grid_auto_flow": null,
            "grid_auto_rows": null,
            "grid_column": null,
            "grid_gap": null,
            "grid_row": null,
            "grid_template_areas": null,
            "grid_template_columns": null,
            "grid_template_rows": null,
            "height": null,
            "justify_content": null,
            "justify_items": null,
            "left": null,
            "margin": null,
            "max_height": null,
            "max_width": null,
            "min_height": null,
            "min_width": null,
            "object_fit": null,
            "object_position": null,
            "order": null,
            "overflow": null,
            "overflow_x": null,
            "overflow_y": null,
            "padding": null,
            "right": null,
            "top": null,
            "visibility": null,
            "width": null
          }
        },
        "30bf898d3ac2420f999de9c49d83d7f3": {
          "model_module": "@jupyter-widgets/controls",
          "model_name": "DescriptionStyleModel",
          "model_module_version": "1.5.0",
          "state": {
            "_model_module": "@jupyter-widgets/controls",
            "_model_module_version": "1.5.0",
            "_model_name": "DescriptionStyleModel",
            "_view_count": null,
            "_view_module": "@jupyter-widgets/base",
            "_view_module_version": "1.2.0",
            "_view_name": "StyleView",
            "description_width": ""
          }
        },
        "26e11bf178964abc9d64fba0fcef46d1": {
          "model_module": "@jupyter-widgets/base",
          "model_name": "LayoutModel",
          "model_module_version": "1.2.0",
          "state": {
            "_model_module": "@jupyter-widgets/base",
            "_model_module_version": "1.2.0",
            "_model_name": "LayoutModel",
            "_view_count": null,
            "_view_module": "@jupyter-widgets/base",
            "_view_module_version": "1.2.0",
            "_view_name": "LayoutView",
            "align_content": null,
            "align_items": null,
            "align_self": null,
            "border": null,
            "bottom": null,
            "display": null,
            "flex": null,
            "flex_flow": null,
            "grid_area": null,
            "grid_auto_columns": null,
            "grid_auto_flow": null,
            "grid_auto_rows": null,
            "grid_column": null,
            "grid_gap": null,
            "grid_row": null,
            "grid_template_areas": null,
            "grid_template_columns": null,
            "grid_template_rows": null,
            "height": null,
            "justify_content": null,
            "justify_items": null,
            "left": null,
            "margin": null,
            "max_height": null,
            "max_width": null,
            "min_height": null,
            "min_width": null,
            "object_fit": null,
            "object_position": null,
            "order": null,
            "overflow": null,
            "overflow_x": null,
            "overflow_y": null,
            "padding": null,
            "right": null,
            "top": null,
            "visibility": null,
            "width": null
          }
        },
        "d3fea6881dfb4d0e8525f7d2466886ce": {
          "model_module": "@jupyter-widgets/controls",
          "model_name": "ProgressStyleModel",
          "model_module_version": "1.5.0",
          "state": {
            "_model_module": "@jupyter-widgets/controls",
            "_model_module_version": "1.5.0",
            "_model_name": "ProgressStyleModel",
            "_view_count": null,
            "_view_module": "@jupyter-widgets/base",
            "_view_module_version": "1.2.0",
            "_view_name": "StyleView",
            "bar_color": null,
            "description_width": ""
          }
        },
        "9380cc53292b4771b29b23790cdb2187": {
          "model_module": "@jupyter-widgets/base",
          "model_name": "LayoutModel",
          "model_module_version": "1.2.0",
          "state": {
            "_model_module": "@jupyter-widgets/base",
            "_model_module_version": "1.2.0",
            "_model_name": "LayoutModel",
            "_view_count": null,
            "_view_module": "@jupyter-widgets/base",
            "_view_module_version": "1.2.0",
            "_view_name": "LayoutView",
            "align_content": null,
            "align_items": null,
            "align_self": null,
            "border": null,
            "bottom": null,
            "display": null,
            "flex": null,
            "flex_flow": null,
            "grid_area": null,
            "grid_auto_columns": null,
            "grid_auto_flow": null,
            "grid_auto_rows": null,
            "grid_column": null,
            "grid_gap": null,
            "grid_row": null,
            "grid_template_areas": null,
            "grid_template_columns": null,
            "grid_template_rows": null,
            "height": null,
            "justify_content": null,
            "justify_items": null,
            "left": null,
            "margin": null,
            "max_height": null,
            "max_width": null,
            "min_height": null,
            "min_width": null,
            "object_fit": null,
            "object_position": null,
            "order": null,
            "overflow": null,
            "overflow_x": null,
            "overflow_y": null,
            "padding": null,
            "right": null,
            "top": null,
            "visibility": null,
            "width": null
          }
        },
        "69bc5a9178bc4f7985dc06a94f24f98e": {
          "model_module": "@jupyter-widgets/controls",
          "model_name": "DescriptionStyleModel",
          "model_module_version": "1.5.0",
          "state": {
            "_model_module": "@jupyter-widgets/controls",
            "_model_module_version": "1.5.0",
            "_model_name": "DescriptionStyleModel",
            "_view_count": null,
            "_view_module": "@jupyter-widgets/base",
            "_view_module_version": "1.2.0",
            "_view_name": "StyleView",
            "description_width": ""
          }
        },
        "8165508d0dba4dbf81a0486d3730ce95": {
          "model_module": "@jupyter-widgets/controls",
          "model_name": "HBoxModel",
          "model_module_version": "1.5.0",
          "state": {
            "_dom_classes": [],
            "_model_module": "@jupyter-widgets/controls",
            "_model_module_version": "1.5.0",
            "_model_name": "HBoxModel",
            "_view_count": null,
            "_view_module": "@jupyter-widgets/controls",
            "_view_module_version": "1.5.0",
            "_view_name": "HBoxView",
            "box_style": "",
            "children": [
              "IPY_MODEL_24d0dd1f71dd454cbb0039f656abfec9",
              "IPY_MODEL_317071d6356e4442b4d437ecb1cd0f31",
              "IPY_MODEL_908300d037464cee8c44d016b9e8c361"
            ],
            "layout": "IPY_MODEL_686ee09cc35d46ac86288eeb3d5eb744"
          }
        },
        "24d0dd1f71dd454cbb0039f656abfec9": {
          "model_module": "@jupyter-widgets/controls",
          "model_name": "HTMLModel",
          "model_module_version": "1.5.0",
          "state": {
            "_dom_classes": [],
            "_model_module": "@jupyter-widgets/controls",
            "_model_module_version": "1.5.0",
            "_model_name": "HTMLModel",
            "_view_count": null,
            "_view_module": "@jupyter-widgets/controls",
            "_view_module_version": "1.5.0",
            "_view_name": "HTMLView",
            "description": "",
            "description_tooltip": null,
            "layout": "IPY_MODEL_ee7711955eb2425db4b239c1c380ad88",
            "placeholder": "​",
            "style": "IPY_MODEL_af36e8ec0bb545d4ba0ed23164eb8957",
            "value": "train-00000-of-00001.parquet: 100%"
          }
        },
        "317071d6356e4442b4d437ecb1cd0f31": {
          "model_module": "@jupyter-widgets/controls",
          "model_name": "FloatProgressModel",
          "model_module_version": "1.5.0",
          "state": {
            "_dom_classes": [],
            "_model_module": "@jupyter-widgets/controls",
            "_model_module_version": "1.5.0",
            "_model_name": "FloatProgressModel",
            "_view_count": null,
            "_view_module": "@jupyter-widgets/controls",
            "_view_module_version": "1.5.0",
            "_view_name": "ProgressView",
            "bar_style": "success",
            "description": "",
            "description_tooltip": null,
            "layout": "IPY_MODEL_999a3153bcde45b3910a651f1c4d3a3d",
            "max": 5726189,
            "min": 0,
            "orientation": "horizontal",
            "style": "IPY_MODEL_c78c2642962f4bd086f894144393b25b",
            "value": 5726189
          }
        },
        "908300d037464cee8c44d016b9e8c361": {
          "model_module": "@jupyter-widgets/controls",
          "model_name": "HTMLModel",
          "model_module_version": "1.5.0",
          "state": {
            "_dom_classes": [],
            "_model_module": "@jupyter-widgets/controls",
            "_model_module_version": "1.5.0",
            "_model_name": "HTMLModel",
            "_view_count": null,
            "_view_module": "@jupyter-widgets/controls",
            "_view_module_version": "1.5.0",
            "_view_name": "HTMLView",
            "description": "",
            "description_tooltip": null,
            "layout": "IPY_MODEL_d44d3d6c64b74b06ad0d3b4c1b229016",
            "placeholder": "​",
            "style": "IPY_MODEL_fce54c57d40c494c9b1118ad91da6eb1",
            "value": " 5.73M/5.73M [00:00&lt;00:00, 25.3MB/s]"
          }
        },
        "686ee09cc35d46ac86288eeb3d5eb744": {
          "model_module": "@jupyter-widgets/base",
          "model_name": "LayoutModel",
          "model_module_version": "1.2.0",
          "state": {
            "_model_module": "@jupyter-widgets/base",
            "_model_module_version": "1.2.0",
            "_model_name": "LayoutModel",
            "_view_count": null,
            "_view_module": "@jupyter-widgets/base",
            "_view_module_version": "1.2.0",
            "_view_name": "LayoutView",
            "align_content": null,
            "align_items": null,
            "align_self": null,
            "border": null,
            "bottom": null,
            "display": null,
            "flex": null,
            "flex_flow": null,
            "grid_area": null,
            "grid_auto_columns": null,
            "grid_auto_flow": null,
            "grid_auto_rows": null,
            "grid_column": null,
            "grid_gap": null,
            "grid_row": null,
            "grid_template_areas": null,
            "grid_template_columns": null,
            "grid_template_rows": null,
            "height": null,
            "justify_content": null,
            "justify_items": null,
            "left": null,
            "margin": null,
            "max_height": null,
            "max_width": null,
            "min_height": null,
            "min_width": null,
            "object_fit": null,
            "object_position": null,
            "order": null,
            "overflow": null,
            "overflow_x": null,
            "overflow_y": null,
            "padding": null,
            "right": null,
            "top": null,
            "visibility": null,
            "width": null
          }
        },
        "ee7711955eb2425db4b239c1c380ad88": {
          "model_module": "@jupyter-widgets/base",
          "model_name": "LayoutModel",
          "model_module_version": "1.2.0",
          "state": {
            "_model_module": "@jupyter-widgets/base",
            "_model_module_version": "1.2.0",
            "_model_name": "LayoutModel",
            "_view_count": null,
            "_view_module": "@jupyter-widgets/base",
            "_view_module_version": "1.2.0",
            "_view_name": "LayoutView",
            "align_content": null,
            "align_items": null,
            "align_self": null,
            "border": null,
            "bottom": null,
            "display": null,
            "flex": null,
            "flex_flow": null,
            "grid_area": null,
            "grid_auto_columns": null,
            "grid_auto_flow": null,
            "grid_auto_rows": null,
            "grid_column": null,
            "grid_gap": null,
            "grid_row": null,
            "grid_template_areas": null,
            "grid_template_columns": null,
            "grid_template_rows": null,
            "height": null,
            "justify_content": null,
            "justify_items": null,
            "left": null,
            "margin": null,
            "max_height": null,
            "max_width": null,
            "min_height": null,
            "min_width": null,
            "object_fit": null,
            "object_position": null,
            "order": null,
            "overflow": null,
            "overflow_x": null,
            "overflow_y": null,
            "padding": null,
            "right": null,
            "top": null,
            "visibility": null,
            "width": null
          }
        },
        "af36e8ec0bb545d4ba0ed23164eb8957": {
          "model_module": "@jupyter-widgets/controls",
          "model_name": "DescriptionStyleModel",
          "model_module_version": "1.5.0",
          "state": {
            "_model_module": "@jupyter-widgets/controls",
            "_model_module_version": "1.5.0",
            "_model_name": "DescriptionStyleModel",
            "_view_count": null,
            "_view_module": "@jupyter-widgets/base",
            "_view_module_version": "1.2.0",
            "_view_name": "StyleView",
            "description_width": ""
          }
        },
        "999a3153bcde45b3910a651f1c4d3a3d": {
          "model_module": "@jupyter-widgets/base",
          "model_name": "LayoutModel",
          "model_module_version": "1.2.0",
          "state": {
            "_model_module": "@jupyter-widgets/base",
            "_model_module_version": "1.2.0",
            "_model_name": "LayoutModel",
            "_view_count": null,
            "_view_module": "@jupyter-widgets/base",
            "_view_module_version": "1.2.0",
            "_view_name": "LayoutView",
            "align_content": null,
            "align_items": null,
            "align_self": null,
            "border": null,
            "bottom": null,
            "display": null,
            "flex": null,
            "flex_flow": null,
            "grid_area": null,
            "grid_auto_columns": null,
            "grid_auto_flow": null,
            "grid_auto_rows": null,
            "grid_column": null,
            "grid_gap": null,
            "grid_row": null,
            "grid_template_areas": null,
            "grid_template_columns": null,
            "grid_template_rows": null,
            "height": null,
            "justify_content": null,
            "justify_items": null,
            "left": null,
            "margin": null,
            "max_height": null,
            "max_width": null,
            "min_height": null,
            "min_width": null,
            "object_fit": null,
            "object_position": null,
            "order": null,
            "overflow": null,
            "overflow_x": null,
            "overflow_y": null,
            "padding": null,
            "right": null,
            "top": null,
            "visibility": null,
            "width": null
          }
        },
        "c78c2642962f4bd086f894144393b25b": {
          "model_module": "@jupyter-widgets/controls",
          "model_name": "ProgressStyleModel",
          "model_module_version": "1.5.0",
          "state": {
            "_model_module": "@jupyter-widgets/controls",
            "_model_module_version": "1.5.0",
            "_model_name": "ProgressStyleModel",
            "_view_count": null,
            "_view_module": "@jupyter-widgets/base",
            "_view_module_version": "1.2.0",
            "_view_name": "StyleView",
            "bar_color": null,
            "description_width": ""
          }
        },
        "d44d3d6c64b74b06ad0d3b4c1b229016": {
          "model_module": "@jupyter-widgets/base",
          "model_name": "LayoutModel",
          "model_module_version": "1.2.0",
          "state": {
            "_model_module": "@jupyter-widgets/base",
            "_model_module_version": "1.2.0",
            "_model_name": "LayoutModel",
            "_view_count": null,
            "_view_module": "@jupyter-widgets/base",
            "_view_module_version": "1.2.0",
            "_view_name": "LayoutView",
            "align_content": null,
            "align_items": null,
            "align_self": null,
            "border": null,
            "bottom": null,
            "display": null,
            "flex": null,
            "flex_flow": null,
            "grid_area": null,
            "grid_auto_columns": null,
            "grid_auto_flow": null,
            "grid_auto_rows": null,
            "grid_column": null,
            "grid_gap": null,
            "grid_row": null,
            "grid_template_areas": null,
            "grid_template_columns": null,
            "grid_template_rows": null,
            "height": null,
            "justify_content": null,
            "justify_items": null,
            "left": null,
            "margin": null,
            "max_height": null,
            "max_width": null,
            "min_height": null,
            "min_width": null,
            "object_fit": null,
            "object_position": null,
            "order": null,
            "overflow": null,
            "overflow_x": null,
            "overflow_y": null,
            "padding": null,
            "right": null,
            "top": null,
            "visibility": null,
            "width": null
          }
        },
        "fce54c57d40c494c9b1118ad91da6eb1": {
          "model_module": "@jupyter-widgets/controls",
          "model_name": "DescriptionStyleModel",
          "model_module_version": "1.5.0",
          "state": {
            "_model_module": "@jupyter-widgets/controls",
            "_model_module_version": "1.5.0",
            "_model_name": "DescriptionStyleModel",
            "_view_count": null,
            "_view_module": "@jupyter-widgets/base",
            "_view_module_version": "1.2.0",
            "_view_name": "StyleView",
            "description_width": ""
          }
        },
        "abbec884679e446f8046d7800206c7fa": {
          "model_module": "@jupyter-widgets/controls",
          "model_name": "HBoxModel",
          "model_module_version": "1.5.0",
          "state": {
            "_dom_classes": [],
            "_model_module": "@jupyter-widgets/controls",
            "_model_module_version": "1.5.0",
            "_model_name": "HBoxModel",
            "_view_count": null,
            "_view_module": "@jupyter-widgets/controls",
            "_view_module_version": "1.5.0",
            "_view_name": "HBoxView",
            "box_style": "",
            "children": [
              "IPY_MODEL_2d046a3d16ed409a87126ab82494b228",
              "IPY_MODEL_697bcc46cefd4ff09f6ae52e3fd771eb",
              "IPY_MODEL_dd50ce36238b4bc3b7045cb734a70d0f"
            ],
            "layout": "IPY_MODEL_d73f669d3ed442e3b52575a944b50a59"
          }
        },
        "2d046a3d16ed409a87126ab82494b228": {
          "model_module": "@jupyter-widgets/controls",
          "model_name": "HTMLModel",
          "model_module_version": "1.5.0",
          "state": {
            "_dom_classes": [],
            "_model_module": "@jupyter-widgets/controls",
            "_model_module_version": "1.5.0",
            "_model_name": "HTMLModel",
            "_view_count": null,
            "_view_module": "@jupyter-widgets/controls",
            "_view_module_version": "1.5.0",
            "_view_name": "HTMLView",
            "description": "",
            "description_tooltip": null,
            "layout": "IPY_MODEL_a9ce6c571c9f4f14a3c1e7bb93b63463",
            "placeholder": "​",
            "style": "IPY_MODEL_2fe1e98232ff4b499f69414c7b88e287",
            "value": "Generating train split: 100%"
          }
        },
        "697bcc46cefd4ff09f6ae52e3fd771eb": {
          "model_module": "@jupyter-widgets/controls",
          "model_name": "FloatProgressModel",
          "model_module_version": "1.5.0",
          "state": {
            "_dom_classes": [],
            "_model_module": "@jupyter-widgets/controls",
            "_model_module_version": "1.5.0",
            "_model_name": "FloatProgressModel",
            "_view_count": null,
            "_view_module": "@jupyter-widgets/controls",
            "_view_module_version": "1.5.0",
            "_view_name": "ProgressView",
            "bar_style": "success",
            "description": "",
            "description_tooltip": null,
            "layout": "IPY_MODEL_bc9fffd3597746a69045b63b5f4b89de",
            "max": 32332,
            "min": 0,
            "orientation": "horizontal",
            "style": "IPY_MODEL_24a8510e06704f10be432c6a640b3882",
            "value": 32332
          }
        },
        "dd50ce36238b4bc3b7045cb734a70d0f": {
          "model_module": "@jupyter-widgets/controls",
          "model_name": "HTMLModel",
          "model_module_version": "1.5.0",
          "state": {
            "_dom_classes": [],
            "_model_module": "@jupyter-widgets/controls",
            "_model_module_version": "1.5.0",
            "_model_name": "HTMLModel",
            "_view_count": null,
            "_view_module": "@jupyter-widgets/controls",
            "_view_module_version": "1.5.0",
            "_view_name": "HTMLView",
            "description": "",
            "description_tooltip": null,
            "layout": "IPY_MODEL_6602d00d3b6b4d5fac7712f2b8a62e38",
            "placeholder": "​",
            "style": "IPY_MODEL_41fc9f46908a4cbc90d7a4dd0d7187d2",
            "value": " 32332/32332 [00:00&lt;00:00, 296367.23 examples/s]"
          }
        },
        "d73f669d3ed442e3b52575a944b50a59": {
          "model_module": "@jupyter-widgets/base",
          "model_name": "LayoutModel",
          "model_module_version": "1.2.0",
          "state": {
            "_model_module": "@jupyter-widgets/base",
            "_model_module_version": "1.2.0",
            "_model_name": "LayoutModel",
            "_view_count": null,
            "_view_module": "@jupyter-widgets/base",
            "_view_module_version": "1.2.0",
            "_view_name": "LayoutView",
            "align_content": null,
            "align_items": null,
            "align_self": null,
            "border": null,
            "bottom": null,
            "display": null,
            "flex": null,
            "flex_flow": null,
            "grid_area": null,
            "grid_auto_columns": null,
            "grid_auto_flow": null,
            "grid_auto_rows": null,
            "grid_column": null,
            "grid_gap": null,
            "grid_row": null,
            "grid_template_areas": null,
            "grid_template_columns": null,
            "grid_template_rows": null,
            "height": null,
            "justify_content": null,
            "justify_items": null,
            "left": null,
            "margin": null,
            "max_height": null,
            "max_width": null,
            "min_height": null,
            "min_width": null,
            "object_fit": null,
            "object_position": null,
            "order": null,
            "overflow": null,
            "overflow_x": null,
            "overflow_y": null,
            "padding": null,
            "right": null,
            "top": null,
            "visibility": null,
            "width": null
          }
        },
        "a9ce6c571c9f4f14a3c1e7bb93b63463": {
          "model_module": "@jupyter-widgets/base",
          "model_name": "LayoutModel",
          "model_module_version": "1.2.0",
          "state": {
            "_model_module": "@jupyter-widgets/base",
            "_model_module_version": "1.2.0",
            "_model_name": "LayoutModel",
            "_view_count": null,
            "_view_module": "@jupyter-widgets/base",
            "_view_module_version": "1.2.0",
            "_view_name": "LayoutView",
            "align_content": null,
            "align_items": null,
            "align_self": null,
            "border": null,
            "bottom": null,
            "display": null,
            "flex": null,
            "flex_flow": null,
            "grid_area": null,
            "grid_auto_columns": null,
            "grid_auto_flow": null,
            "grid_auto_rows": null,
            "grid_column": null,
            "grid_gap": null,
            "grid_row": null,
            "grid_template_areas": null,
            "grid_template_columns": null,
            "grid_template_rows": null,
            "height": null,
            "justify_content": null,
            "justify_items": null,
            "left": null,
            "margin": null,
            "max_height": null,
            "max_width": null,
            "min_height": null,
            "min_width": null,
            "object_fit": null,
            "object_position": null,
            "order": null,
            "overflow": null,
            "overflow_x": null,
            "overflow_y": null,
            "padding": null,
            "right": null,
            "top": null,
            "visibility": null,
            "width": null
          }
        },
        "2fe1e98232ff4b499f69414c7b88e287": {
          "model_module": "@jupyter-widgets/controls",
          "model_name": "DescriptionStyleModel",
          "model_module_version": "1.5.0",
          "state": {
            "_model_module": "@jupyter-widgets/controls",
            "_model_module_version": "1.5.0",
            "_model_name": "DescriptionStyleModel",
            "_view_count": null,
            "_view_module": "@jupyter-widgets/base",
            "_view_module_version": "1.2.0",
            "_view_name": "StyleView",
            "description_width": ""
          }
        },
        "bc9fffd3597746a69045b63b5f4b89de": {
          "model_module": "@jupyter-widgets/base",
          "model_name": "LayoutModel",
          "model_module_version": "1.2.0",
          "state": {
            "_model_module": "@jupyter-widgets/base",
            "_model_module_version": "1.2.0",
            "_model_name": "LayoutModel",
            "_view_count": null,
            "_view_module": "@jupyter-widgets/base",
            "_view_module_version": "1.2.0",
            "_view_name": "LayoutView",
            "align_content": null,
            "align_items": null,
            "align_self": null,
            "border": null,
            "bottom": null,
            "display": null,
            "flex": null,
            "flex_flow": null,
            "grid_area": null,
            "grid_auto_columns": null,
            "grid_auto_flow": null,
            "grid_auto_rows": null,
            "grid_column": null,
            "grid_gap": null,
            "grid_row": null,
            "grid_template_areas": null,
            "grid_template_columns": null,
            "grid_template_rows": null,
            "height": null,
            "justify_content": null,
            "justify_items": null,
            "left": null,
            "margin": null,
            "max_height": null,
            "max_width": null,
            "min_height": null,
            "min_width": null,
            "object_fit": null,
            "object_position": null,
            "order": null,
            "overflow": null,
            "overflow_x": null,
            "overflow_y": null,
            "padding": null,
            "right": null,
            "top": null,
            "visibility": null,
            "width": null
          }
        },
        "24a8510e06704f10be432c6a640b3882": {
          "model_module": "@jupyter-widgets/controls",
          "model_name": "ProgressStyleModel",
          "model_module_version": "1.5.0",
          "state": {
            "_model_module": "@jupyter-widgets/controls",
            "_model_module_version": "1.5.0",
            "_model_name": "ProgressStyleModel",
            "_view_count": null,
            "_view_module": "@jupyter-widgets/base",
            "_view_module_version": "1.2.0",
            "_view_name": "StyleView",
            "bar_color": null,
            "description_width": ""
          }
        },
        "6602d00d3b6b4d5fac7712f2b8a62e38": {
          "model_module": "@jupyter-widgets/base",
          "model_name": "LayoutModel",
          "model_module_version": "1.2.0",
          "state": {
            "_model_module": "@jupyter-widgets/base",
            "_model_module_version": "1.2.0",
            "_model_name": "LayoutModel",
            "_view_count": null,
            "_view_module": "@jupyter-widgets/base",
            "_view_module_version": "1.2.0",
            "_view_name": "LayoutView",
            "align_content": null,
            "align_items": null,
            "align_self": null,
            "border": null,
            "bottom": null,
            "display": null,
            "flex": null,
            "flex_flow": null,
            "grid_area": null,
            "grid_auto_columns": null,
            "grid_auto_flow": null,
            "grid_auto_rows": null,
            "grid_column": null,
            "grid_gap": null,
            "grid_row": null,
            "grid_template_areas": null,
            "grid_template_columns": null,
            "grid_template_rows": null,
            "height": null,
            "justify_content": null,
            "justify_items": null,
            "left": null,
            "margin": null,
            "max_height": null,
            "max_width": null,
            "min_height": null,
            "min_width": null,
            "object_fit": null,
            "object_position": null,
            "order": null,
            "overflow": null,
            "overflow_x": null,
            "overflow_y": null,
            "padding": null,
            "right": null,
            "top": null,
            "visibility": null,
            "width": null
          }
        },
        "41fc9f46908a4cbc90d7a4dd0d7187d2": {
          "model_module": "@jupyter-widgets/controls",
          "model_name": "DescriptionStyleModel",
          "model_module_version": "1.5.0",
          "state": {
            "_model_module": "@jupyter-widgets/controls",
            "_model_module_version": "1.5.0",
            "_model_name": "DescriptionStyleModel",
            "_view_count": null,
            "_view_module": "@jupyter-widgets/base",
            "_view_module_version": "1.2.0",
            "_view_name": "StyleView",
            "description_width": ""
          }
        },
        "68abfae9184048fea832ace3973c7d8c": {
          "model_module": "@jupyter-widgets/controls",
          "model_name": "HBoxModel",
          "model_module_version": "1.5.0",
          "state": {
            "_dom_classes": [],
            "_model_module": "@jupyter-widgets/controls",
            "_model_module_version": "1.5.0",
            "_model_name": "HBoxModel",
            "_view_count": null,
            "_view_module": "@jupyter-widgets/controls",
            "_view_module_version": "1.5.0",
            "_view_name": "HBoxView",
            "box_style": "",
            "children": [
              "IPY_MODEL_60f660ca812b4ad4ba182d2c59086c9b",
              "IPY_MODEL_c0536c90c76b4f1caa6b0a5de10ca997",
              "IPY_MODEL_f80ec74d08534b889ab647a6736ac859"
            ],
            "layout": "IPY_MODEL_f0fa3247c48b4fd3934babeee0f220e6"
          }
        },
        "60f660ca812b4ad4ba182d2c59086c9b": {
          "model_module": "@jupyter-widgets/controls",
          "model_name": "HTMLModel",
          "model_module_version": "1.5.0",
          "state": {
            "_dom_classes": [],
            "_model_module": "@jupyter-widgets/controls",
            "_model_module_version": "1.5.0",
            "_model_name": "HTMLModel",
            "_view_count": null,
            "_view_module": "@jupyter-widgets/controls",
            "_view_module_version": "1.5.0",
            "_view_name": "HTMLView",
            "description": "",
            "description_tooltip": null,
            "layout": "IPY_MODEL_457aded721fb494b8c55a01a060c433d",
            "placeholder": "​",
            "style": "IPY_MODEL_f05103856c0e42d6b46299c450970dc9",
            "value": "tokenizer_config.json: 100%"
          }
        },
        "c0536c90c76b4f1caa6b0a5de10ca997": {
          "model_module": "@jupyter-widgets/controls",
          "model_name": "FloatProgressModel",
          "model_module_version": "1.5.0",
          "state": {
            "_dom_classes": [],
            "_model_module": "@jupyter-widgets/controls",
            "_model_module_version": "1.5.0",
            "_model_name": "FloatProgressModel",
            "_view_count": null,
            "_view_module": "@jupyter-widgets/controls",
            "_view_module_version": "1.5.0",
            "_view_name": "ProgressView",
            "bar_style": "success",
            "description": "",
            "description_tooltip": null,
            "layout": "IPY_MODEL_14c50264ff7b48e2b61cd4353ef981d7",
            "max": 48,
            "min": 0,
            "orientation": "horizontal",
            "style": "IPY_MODEL_8f47991b71804a86af75c43807f51661",
            "value": 48
          }
        },
        "f80ec74d08534b889ab647a6736ac859": {
          "model_module": "@jupyter-widgets/controls",
          "model_name": "HTMLModel",
          "model_module_version": "1.5.0",
          "state": {
            "_dom_classes": [],
            "_model_module": "@jupyter-widgets/controls",
            "_model_module_version": "1.5.0",
            "_model_name": "HTMLModel",
            "_view_count": null,
            "_view_module": "@jupyter-widgets/controls",
            "_view_module_version": "1.5.0",
            "_view_name": "HTMLView",
            "description": "",
            "description_tooltip": null,
            "layout": "IPY_MODEL_cf9477f8a4f644b5bbac49690d7c2a85",
            "placeholder": "​",
            "style": "IPY_MODEL_2438908c21d4431bb7f23b35c37c104c",
            "value": " 48.0/48.0 [00:00&lt;00:00, 2.97kB/s]"
          }
        },
        "f0fa3247c48b4fd3934babeee0f220e6": {
          "model_module": "@jupyter-widgets/base",
          "model_name": "LayoutModel",
          "model_module_version": "1.2.0",
          "state": {
            "_model_module": "@jupyter-widgets/base",
            "_model_module_version": "1.2.0",
            "_model_name": "LayoutModel",
            "_view_count": null,
            "_view_module": "@jupyter-widgets/base",
            "_view_module_version": "1.2.0",
            "_view_name": "LayoutView",
            "align_content": null,
            "align_items": null,
            "align_self": null,
            "border": null,
            "bottom": null,
            "display": null,
            "flex": null,
            "flex_flow": null,
            "grid_area": null,
            "grid_auto_columns": null,
            "grid_auto_flow": null,
            "grid_auto_rows": null,
            "grid_column": null,
            "grid_gap": null,
            "grid_row": null,
            "grid_template_areas": null,
            "grid_template_columns": null,
            "grid_template_rows": null,
            "height": null,
            "justify_content": null,
            "justify_items": null,
            "left": null,
            "margin": null,
            "max_height": null,
            "max_width": null,
            "min_height": null,
            "min_width": null,
            "object_fit": null,
            "object_position": null,
            "order": null,
            "overflow": null,
            "overflow_x": null,
            "overflow_y": null,
            "padding": null,
            "right": null,
            "top": null,
            "visibility": null,
            "width": null
          }
        },
        "457aded721fb494b8c55a01a060c433d": {
          "model_module": "@jupyter-widgets/base",
          "model_name": "LayoutModel",
          "model_module_version": "1.2.0",
          "state": {
            "_model_module": "@jupyter-widgets/base",
            "_model_module_version": "1.2.0",
            "_model_name": "LayoutModel",
            "_view_count": null,
            "_view_module": "@jupyter-widgets/base",
            "_view_module_version": "1.2.0",
            "_view_name": "LayoutView",
            "align_content": null,
            "align_items": null,
            "align_self": null,
            "border": null,
            "bottom": null,
            "display": null,
            "flex": null,
            "flex_flow": null,
            "grid_area": null,
            "grid_auto_columns": null,
            "grid_auto_flow": null,
            "grid_auto_rows": null,
            "grid_column": null,
            "grid_gap": null,
            "grid_row": null,
            "grid_template_areas": null,
            "grid_template_columns": null,
            "grid_template_rows": null,
            "height": null,
            "justify_content": null,
            "justify_items": null,
            "left": null,
            "margin": null,
            "max_height": null,
            "max_width": null,
            "min_height": null,
            "min_width": null,
            "object_fit": null,
            "object_position": null,
            "order": null,
            "overflow": null,
            "overflow_x": null,
            "overflow_y": null,
            "padding": null,
            "right": null,
            "top": null,
            "visibility": null,
            "width": null
          }
        },
        "f05103856c0e42d6b46299c450970dc9": {
          "model_module": "@jupyter-widgets/controls",
          "model_name": "DescriptionStyleModel",
          "model_module_version": "1.5.0",
          "state": {
            "_model_module": "@jupyter-widgets/controls",
            "_model_module_version": "1.5.0",
            "_model_name": "DescriptionStyleModel",
            "_view_count": null,
            "_view_module": "@jupyter-widgets/base",
            "_view_module_version": "1.2.0",
            "_view_name": "StyleView",
            "description_width": ""
          }
        },
        "14c50264ff7b48e2b61cd4353ef981d7": {
          "model_module": "@jupyter-widgets/base",
          "model_name": "LayoutModel",
          "model_module_version": "1.2.0",
          "state": {
            "_model_module": "@jupyter-widgets/base",
            "_model_module_version": "1.2.0",
            "_model_name": "LayoutModel",
            "_view_count": null,
            "_view_module": "@jupyter-widgets/base",
            "_view_module_version": "1.2.0",
            "_view_name": "LayoutView",
            "align_content": null,
            "align_items": null,
            "align_self": null,
            "border": null,
            "bottom": null,
            "display": null,
            "flex": null,
            "flex_flow": null,
            "grid_area": null,
            "grid_auto_columns": null,
            "grid_auto_flow": null,
            "grid_auto_rows": null,
            "grid_column": null,
            "grid_gap": null,
            "grid_row": null,
            "grid_template_areas": null,
            "grid_template_columns": null,
            "grid_template_rows": null,
            "height": null,
            "justify_content": null,
            "justify_items": null,
            "left": null,
            "margin": null,
            "max_height": null,
            "max_width": null,
            "min_height": null,
            "min_width": null,
            "object_fit": null,
            "object_position": null,
            "order": null,
            "overflow": null,
            "overflow_x": null,
            "overflow_y": null,
            "padding": null,
            "right": null,
            "top": null,
            "visibility": null,
            "width": null
          }
        },
        "8f47991b71804a86af75c43807f51661": {
          "model_module": "@jupyter-widgets/controls",
          "model_name": "ProgressStyleModel",
          "model_module_version": "1.5.0",
          "state": {
            "_model_module": "@jupyter-widgets/controls",
            "_model_module_version": "1.5.0",
            "_model_name": "ProgressStyleModel",
            "_view_count": null,
            "_view_module": "@jupyter-widgets/base",
            "_view_module_version": "1.2.0",
            "_view_name": "StyleView",
            "bar_color": null,
            "description_width": ""
          }
        },
        "cf9477f8a4f644b5bbac49690d7c2a85": {
          "model_module": "@jupyter-widgets/base",
          "model_name": "LayoutModel",
          "model_module_version": "1.2.0",
          "state": {
            "_model_module": "@jupyter-widgets/base",
            "_model_module_version": "1.2.0",
            "_model_name": "LayoutModel",
            "_view_count": null,
            "_view_module": "@jupyter-widgets/base",
            "_view_module_version": "1.2.0",
            "_view_name": "LayoutView",
            "align_content": null,
            "align_items": null,
            "align_self": null,
            "border": null,
            "bottom": null,
            "display": null,
            "flex": null,
            "flex_flow": null,
            "grid_area": null,
            "grid_auto_columns": null,
            "grid_auto_flow": null,
            "grid_auto_rows": null,
            "grid_column": null,
            "grid_gap": null,
            "grid_row": null,
            "grid_template_areas": null,
            "grid_template_columns": null,
            "grid_template_rows": null,
            "height": null,
            "justify_content": null,
            "justify_items": null,
            "left": null,
            "margin": null,
            "max_height": null,
            "max_width": null,
            "min_height": null,
            "min_width": null,
            "object_fit": null,
            "object_position": null,
            "order": null,
            "overflow": null,
            "overflow_x": null,
            "overflow_y": null,
            "padding": null,
            "right": null,
            "top": null,
            "visibility": null,
            "width": null
          }
        },
        "2438908c21d4431bb7f23b35c37c104c": {
          "model_module": "@jupyter-widgets/controls",
          "model_name": "DescriptionStyleModel",
          "model_module_version": "1.5.0",
          "state": {
            "_model_module": "@jupyter-widgets/controls",
            "_model_module_version": "1.5.0",
            "_model_name": "DescriptionStyleModel",
            "_view_count": null,
            "_view_module": "@jupyter-widgets/base",
            "_view_module_version": "1.2.0",
            "_view_name": "StyleView",
            "description_width": ""
          }
        },
        "0c2ad63660644d6e8ee46c5ed6321fb6": {
          "model_module": "@jupyter-widgets/controls",
          "model_name": "HBoxModel",
          "model_module_version": "1.5.0",
          "state": {
            "_dom_classes": [],
            "_model_module": "@jupyter-widgets/controls",
            "_model_module_version": "1.5.0",
            "_model_name": "HBoxModel",
            "_view_count": null,
            "_view_module": "@jupyter-widgets/controls",
            "_view_module_version": "1.5.0",
            "_view_name": "HBoxView",
            "box_style": "",
            "children": [
              "IPY_MODEL_038fc014b2444fc3a6448f7012b14356",
              "IPY_MODEL_2eb68f4053954acd9345b486fde93129",
              "IPY_MODEL_c0a2654367c5415891f173e5f5519448"
            ],
            "layout": "IPY_MODEL_86a62d7b52864aa0a3dc5d88528084f3"
          }
        },
        "038fc014b2444fc3a6448f7012b14356": {
          "model_module": "@jupyter-widgets/controls",
          "model_name": "HTMLModel",
          "model_module_version": "1.5.0",
          "state": {
            "_dom_classes": [],
            "_model_module": "@jupyter-widgets/controls",
            "_model_module_version": "1.5.0",
            "_model_name": "HTMLModel",
            "_view_count": null,
            "_view_module": "@jupyter-widgets/controls",
            "_view_module_version": "1.5.0",
            "_view_name": "HTMLView",
            "description": "",
            "description_tooltip": null,
            "layout": "IPY_MODEL_3eee8fed024941db9031bbe5a72f1e56",
            "placeholder": "​",
            "style": "IPY_MODEL_b02d1ab001fa461c9305080b44a982c9",
            "value": "vocab.txt: 100%"
          }
        },
        "2eb68f4053954acd9345b486fde93129": {
          "model_module": "@jupyter-widgets/controls",
          "model_name": "FloatProgressModel",
          "model_module_version": "1.5.0",
          "state": {
            "_dom_classes": [],
            "_model_module": "@jupyter-widgets/controls",
            "_model_module_version": "1.5.0",
            "_model_name": "FloatProgressModel",
            "_view_count": null,
            "_view_module": "@jupyter-widgets/controls",
            "_view_module_version": "1.5.0",
            "_view_name": "ProgressView",
            "bar_style": "success",
            "description": "",
            "description_tooltip": null,
            "layout": "IPY_MODEL_8ed94825e30a492c8f9fdac483dfb535",
            "max": 231508,
            "min": 0,
            "orientation": "horizontal",
            "style": "IPY_MODEL_b670b1cbf1c14d5485941cb65b42626d",
            "value": 231508
          }
        },
        "c0a2654367c5415891f173e5f5519448": {
          "model_module": "@jupyter-widgets/controls",
          "model_name": "HTMLModel",
          "model_module_version": "1.5.0",
          "state": {
            "_dom_classes": [],
            "_model_module": "@jupyter-widgets/controls",
            "_model_module_version": "1.5.0",
            "_model_name": "HTMLModel",
            "_view_count": null,
            "_view_module": "@jupyter-widgets/controls",
            "_view_module_version": "1.5.0",
            "_view_name": "HTMLView",
            "description": "",
            "description_tooltip": null,
            "layout": "IPY_MODEL_a3ad2659fd564f8fb860178596174497",
            "placeholder": "​",
            "style": "IPY_MODEL_b30228e5b7e042baa2908f9a7a1e296b",
            "value": " 232k/232k [00:00&lt;00:00, 3.41MB/s]"
          }
        },
        "86a62d7b52864aa0a3dc5d88528084f3": {
          "model_module": "@jupyter-widgets/base",
          "model_name": "LayoutModel",
          "model_module_version": "1.2.0",
          "state": {
            "_model_module": "@jupyter-widgets/base",
            "_model_module_version": "1.2.0",
            "_model_name": "LayoutModel",
            "_view_count": null,
            "_view_module": "@jupyter-widgets/base",
            "_view_module_version": "1.2.0",
            "_view_name": "LayoutView",
            "align_content": null,
            "align_items": null,
            "align_self": null,
            "border": null,
            "bottom": null,
            "display": null,
            "flex": null,
            "flex_flow": null,
            "grid_area": null,
            "grid_auto_columns": null,
            "grid_auto_flow": null,
            "grid_auto_rows": null,
            "grid_column": null,
            "grid_gap": null,
            "grid_row": null,
            "grid_template_areas": null,
            "grid_template_columns": null,
            "grid_template_rows": null,
            "height": null,
            "justify_content": null,
            "justify_items": null,
            "left": null,
            "margin": null,
            "max_height": null,
            "max_width": null,
            "min_height": null,
            "min_width": null,
            "object_fit": null,
            "object_position": null,
            "order": null,
            "overflow": null,
            "overflow_x": null,
            "overflow_y": null,
            "padding": null,
            "right": null,
            "top": null,
            "visibility": null,
            "width": null
          }
        },
        "3eee8fed024941db9031bbe5a72f1e56": {
          "model_module": "@jupyter-widgets/base",
          "model_name": "LayoutModel",
          "model_module_version": "1.2.0",
          "state": {
            "_model_module": "@jupyter-widgets/base",
            "_model_module_version": "1.2.0",
            "_model_name": "LayoutModel",
            "_view_count": null,
            "_view_module": "@jupyter-widgets/base",
            "_view_module_version": "1.2.0",
            "_view_name": "LayoutView",
            "align_content": null,
            "align_items": null,
            "align_self": null,
            "border": null,
            "bottom": null,
            "display": null,
            "flex": null,
            "flex_flow": null,
            "grid_area": null,
            "grid_auto_columns": null,
            "grid_auto_flow": null,
            "grid_auto_rows": null,
            "grid_column": null,
            "grid_gap": null,
            "grid_row": null,
            "grid_template_areas": null,
            "grid_template_columns": null,
            "grid_template_rows": null,
            "height": null,
            "justify_content": null,
            "justify_items": null,
            "left": null,
            "margin": null,
            "max_height": null,
            "max_width": null,
            "min_height": null,
            "min_width": null,
            "object_fit": null,
            "object_position": null,
            "order": null,
            "overflow": null,
            "overflow_x": null,
            "overflow_y": null,
            "padding": null,
            "right": null,
            "top": null,
            "visibility": null,
            "width": null
          }
        },
        "b02d1ab001fa461c9305080b44a982c9": {
          "model_module": "@jupyter-widgets/controls",
          "model_name": "DescriptionStyleModel",
          "model_module_version": "1.5.0",
          "state": {
            "_model_module": "@jupyter-widgets/controls",
            "_model_module_version": "1.5.0",
            "_model_name": "DescriptionStyleModel",
            "_view_count": null,
            "_view_module": "@jupyter-widgets/base",
            "_view_module_version": "1.2.0",
            "_view_name": "StyleView",
            "description_width": ""
          }
        },
        "8ed94825e30a492c8f9fdac483dfb535": {
          "model_module": "@jupyter-widgets/base",
          "model_name": "LayoutModel",
          "model_module_version": "1.2.0",
          "state": {
            "_model_module": "@jupyter-widgets/base",
            "_model_module_version": "1.2.0",
            "_model_name": "LayoutModel",
            "_view_count": null,
            "_view_module": "@jupyter-widgets/base",
            "_view_module_version": "1.2.0",
            "_view_name": "LayoutView",
            "align_content": null,
            "align_items": null,
            "align_self": null,
            "border": null,
            "bottom": null,
            "display": null,
            "flex": null,
            "flex_flow": null,
            "grid_area": null,
            "grid_auto_columns": null,
            "grid_auto_flow": null,
            "grid_auto_rows": null,
            "grid_column": null,
            "grid_gap": null,
            "grid_row": null,
            "grid_template_areas": null,
            "grid_template_columns": null,
            "grid_template_rows": null,
            "height": null,
            "justify_content": null,
            "justify_items": null,
            "left": null,
            "margin": null,
            "max_height": null,
            "max_width": null,
            "min_height": null,
            "min_width": null,
            "object_fit": null,
            "object_position": null,
            "order": null,
            "overflow": null,
            "overflow_x": null,
            "overflow_y": null,
            "padding": null,
            "right": null,
            "top": null,
            "visibility": null,
            "width": null
          }
        },
        "b670b1cbf1c14d5485941cb65b42626d": {
          "model_module": "@jupyter-widgets/controls",
          "model_name": "ProgressStyleModel",
          "model_module_version": "1.5.0",
          "state": {
            "_model_module": "@jupyter-widgets/controls",
            "_model_module_version": "1.5.0",
            "_model_name": "ProgressStyleModel",
            "_view_count": null,
            "_view_module": "@jupyter-widgets/base",
            "_view_module_version": "1.2.0",
            "_view_name": "StyleView",
            "bar_color": null,
            "description_width": ""
          }
        },
        "a3ad2659fd564f8fb860178596174497": {
          "model_module": "@jupyter-widgets/base",
          "model_name": "LayoutModel",
          "model_module_version": "1.2.0",
          "state": {
            "_model_module": "@jupyter-widgets/base",
            "_model_module_version": "1.2.0",
            "_model_name": "LayoutModel",
            "_view_count": null,
            "_view_module": "@jupyter-widgets/base",
            "_view_module_version": "1.2.0",
            "_view_name": "LayoutView",
            "align_content": null,
            "align_items": null,
            "align_self": null,
            "border": null,
            "bottom": null,
            "display": null,
            "flex": null,
            "flex_flow": null,
            "grid_area": null,
            "grid_auto_columns": null,
            "grid_auto_flow": null,
            "grid_auto_rows": null,
            "grid_column": null,
            "grid_gap": null,
            "grid_row": null,
            "grid_template_areas": null,
            "grid_template_columns": null,
            "grid_template_rows": null,
            "height": null,
            "justify_content": null,
            "justify_items": null,
            "left": null,
            "margin": null,
            "max_height": null,
            "max_width": null,
            "min_height": null,
            "min_width": null,
            "object_fit": null,
            "object_position": null,
            "order": null,
            "overflow": null,
            "overflow_x": null,
            "overflow_y": null,
            "padding": null,
            "right": null,
            "top": null,
            "visibility": null,
            "width": null
          }
        },
        "b30228e5b7e042baa2908f9a7a1e296b": {
          "model_module": "@jupyter-widgets/controls",
          "model_name": "DescriptionStyleModel",
          "model_module_version": "1.5.0",
          "state": {
            "_model_module": "@jupyter-widgets/controls",
            "_model_module_version": "1.5.0",
            "_model_name": "DescriptionStyleModel",
            "_view_count": null,
            "_view_module": "@jupyter-widgets/base",
            "_view_module_version": "1.2.0",
            "_view_name": "StyleView",
            "description_width": ""
          }
        },
        "13d176697c35414b997c6d523a3e0e7b": {
          "model_module": "@jupyter-widgets/controls",
          "model_name": "HBoxModel",
          "model_module_version": "1.5.0",
          "state": {
            "_dom_classes": [],
            "_model_module": "@jupyter-widgets/controls",
            "_model_module_version": "1.5.0",
            "_model_name": "HBoxModel",
            "_view_count": null,
            "_view_module": "@jupyter-widgets/controls",
            "_view_module_version": "1.5.0",
            "_view_name": "HBoxView",
            "box_style": "",
            "children": [
              "IPY_MODEL_7a691a8cf899407db21126656fe0b477",
              "IPY_MODEL_71f4281517ae41dfaf6c2c0aaed1df9c",
              "IPY_MODEL_b0304a44362a4e5aa7a874fca80dcf1b"
            ],
            "layout": "IPY_MODEL_7b43bcd4302047e9b5fb81a5b6bc901d"
          }
        },
        "7a691a8cf899407db21126656fe0b477": {
          "model_module": "@jupyter-widgets/controls",
          "model_name": "HTMLModel",
          "model_module_version": "1.5.0",
          "state": {
            "_dom_classes": [],
            "_model_module": "@jupyter-widgets/controls",
            "_model_module_version": "1.5.0",
            "_model_name": "HTMLModel",
            "_view_count": null,
            "_view_module": "@jupyter-widgets/controls",
            "_view_module_version": "1.5.0",
            "_view_name": "HTMLView",
            "description": "",
            "description_tooltip": null,
            "layout": "IPY_MODEL_a454319a57c84c5ab6245c49d744963a",
            "placeholder": "​",
            "style": "IPY_MODEL_28e6f467fa9f46b3b3a342b32da761a7",
            "value": "tokenizer.json: 100%"
          }
        },
        "71f4281517ae41dfaf6c2c0aaed1df9c": {
          "model_module": "@jupyter-widgets/controls",
          "model_name": "FloatProgressModel",
          "model_module_version": "1.5.0",
          "state": {
            "_dom_classes": [],
            "_model_module": "@jupyter-widgets/controls",
            "_model_module_version": "1.5.0",
            "_model_name": "FloatProgressModel",
            "_view_count": null,
            "_view_module": "@jupyter-widgets/controls",
            "_view_module_version": "1.5.0",
            "_view_name": "ProgressView",
            "bar_style": "success",
            "description": "",
            "description_tooltip": null,
            "layout": "IPY_MODEL_e8f5fce74bc74b60ad7fac72a3ce496a",
            "max": 466062,
            "min": 0,
            "orientation": "horizontal",
            "style": "IPY_MODEL_a01335f0850b4ca7bb8fc5ae9bebdad2",
            "value": 466062
          }
        },
        "b0304a44362a4e5aa7a874fca80dcf1b": {
          "model_module": "@jupyter-widgets/controls",
          "model_name": "HTMLModel",
          "model_module_version": "1.5.0",
          "state": {
            "_dom_classes": [],
            "_model_module": "@jupyter-widgets/controls",
            "_model_module_version": "1.5.0",
            "_model_name": "HTMLModel",
            "_view_count": null,
            "_view_module": "@jupyter-widgets/controls",
            "_view_module_version": "1.5.0",
            "_view_name": "HTMLView",
            "description": "",
            "description_tooltip": null,
            "layout": "IPY_MODEL_25dd0cf72e1847c8be96ef69fda2a765",
            "placeholder": "​",
            "style": "IPY_MODEL_2cf0aba962814c53945397708b0ccbff",
            "value": " 466k/466k [00:00&lt;00:00, 6.95MB/s]"
          }
        },
        "7b43bcd4302047e9b5fb81a5b6bc901d": {
          "model_module": "@jupyter-widgets/base",
          "model_name": "LayoutModel",
          "model_module_version": "1.2.0",
          "state": {
            "_model_module": "@jupyter-widgets/base",
            "_model_module_version": "1.2.0",
            "_model_name": "LayoutModel",
            "_view_count": null,
            "_view_module": "@jupyter-widgets/base",
            "_view_module_version": "1.2.0",
            "_view_name": "LayoutView",
            "align_content": null,
            "align_items": null,
            "align_self": null,
            "border": null,
            "bottom": null,
            "display": null,
            "flex": null,
            "flex_flow": null,
            "grid_area": null,
            "grid_auto_columns": null,
            "grid_auto_flow": null,
            "grid_auto_rows": null,
            "grid_column": null,
            "grid_gap": null,
            "grid_row": null,
            "grid_template_areas": null,
            "grid_template_columns": null,
            "grid_template_rows": null,
            "height": null,
            "justify_content": null,
            "justify_items": null,
            "left": null,
            "margin": null,
            "max_height": null,
            "max_width": null,
            "min_height": null,
            "min_width": null,
            "object_fit": null,
            "object_position": null,
            "order": null,
            "overflow": null,
            "overflow_x": null,
            "overflow_y": null,
            "padding": null,
            "right": null,
            "top": null,
            "visibility": null,
            "width": null
          }
        },
        "a454319a57c84c5ab6245c49d744963a": {
          "model_module": "@jupyter-widgets/base",
          "model_name": "LayoutModel",
          "model_module_version": "1.2.0",
          "state": {
            "_model_module": "@jupyter-widgets/base",
            "_model_module_version": "1.2.0",
            "_model_name": "LayoutModel",
            "_view_count": null,
            "_view_module": "@jupyter-widgets/base",
            "_view_module_version": "1.2.0",
            "_view_name": "LayoutView",
            "align_content": null,
            "align_items": null,
            "align_self": null,
            "border": null,
            "bottom": null,
            "display": null,
            "flex": null,
            "flex_flow": null,
            "grid_area": null,
            "grid_auto_columns": null,
            "grid_auto_flow": null,
            "grid_auto_rows": null,
            "grid_column": null,
            "grid_gap": null,
            "grid_row": null,
            "grid_template_areas": null,
            "grid_template_columns": null,
            "grid_template_rows": null,
            "height": null,
            "justify_content": null,
            "justify_items": null,
            "left": null,
            "margin": null,
            "max_height": null,
            "max_width": null,
            "min_height": null,
            "min_width": null,
            "object_fit": null,
            "object_position": null,
            "order": null,
            "overflow": null,
            "overflow_x": null,
            "overflow_y": null,
            "padding": null,
            "right": null,
            "top": null,
            "visibility": null,
            "width": null
          }
        },
        "28e6f467fa9f46b3b3a342b32da761a7": {
          "model_module": "@jupyter-widgets/controls",
          "model_name": "DescriptionStyleModel",
          "model_module_version": "1.5.0",
          "state": {
            "_model_module": "@jupyter-widgets/controls",
            "_model_module_version": "1.5.0",
            "_model_name": "DescriptionStyleModel",
            "_view_count": null,
            "_view_module": "@jupyter-widgets/base",
            "_view_module_version": "1.2.0",
            "_view_name": "StyleView",
            "description_width": ""
          }
        },
        "e8f5fce74bc74b60ad7fac72a3ce496a": {
          "model_module": "@jupyter-widgets/base",
          "model_name": "LayoutModel",
          "model_module_version": "1.2.0",
          "state": {
            "_model_module": "@jupyter-widgets/base",
            "_model_module_version": "1.2.0",
            "_model_name": "LayoutModel",
            "_view_count": null,
            "_view_module": "@jupyter-widgets/base",
            "_view_module_version": "1.2.0",
            "_view_name": "LayoutView",
            "align_content": null,
            "align_items": null,
            "align_self": null,
            "border": null,
            "bottom": null,
            "display": null,
            "flex": null,
            "flex_flow": null,
            "grid_area": null,
            "grid_auto_columns": null,
            "grid_auto_flow": null,
            "grid_auto_rows": null,
            "grid_column": null,
            "grid_gap": null,
            "grid_row": null,
            "grid_template_areas": null,
            "grid_template_columns": null,
            "grid_template_rows": null,
            "height": null,
            "justify_content": null,
            "justify_items": null,
            "left": null,
            "margin": null,
            "max_height": null,
            "max_width": null,
            "min_height": null,
            "min_width": null,
            "object_fit": null,
            "object_position": null,
            "order": null,
            "overflow": null,
            "overflow_x": null,
            "overflow_y": null,
            "padding": null,
            "right": null,
            "top": null,
            "visibility": null,
            "width": null
          }
        },
        "a01335f0850b4ca7bb8fc5ae9bebdad2": {
          "model_module": "@jupyter-widgets/controls",
          "model_name": "ProgressStyleModel",
          "model_module_version": "1.5.0",
          "state": {
            "_model_module": "@jupyter-widgets/controls",
            "_model_module_version": "1.5.0",
            "_model_name": "ProgressStyleModel",
            "_view_count": null,
            "_view_module": "@jupyter-widgets/base",
            "_view_module_version": "1.2.0",
            "_view_name": "StyleView",
            "bar_color": null,
            "description_width": ""
          }
        },
        "25dd0cf72e1847c8be96ef69fda2a765": {
          "model_module": "@jupyter-widgets/base",
          "model_name": "LayoutModel",
          "model_module_version": "1.2.0",
          "state": {
            "_model_module": "@jupyter-widgets/base",
            "_model_module_version": "1.2.0",
            "_model_name": "LayoutModel",
            "_view_count": null,
            "_view_module": "@jupyter-widgets/base",
            "_view_module_version": "1.2.0",
            "_view_name": "LayoutView",
            "align_content": null,
            "align_items": null,
            "align_self": null,
            "border": null,
            "bottom": null,
            "display": null,
            "flex": null,
            "flex_flow": null,
            "grid_area": null,
            "grid_auto_columns": null,
            "grid_auto_flow": null,
            "grid_auto_rows": null,
            "grid_column": null,
            "grid_gap": null,
            "grid_row": null,
            "grid_template_areas": null,
            "grid_template_columns": null,
            "grid_template_rows": null,
            "height": null,
            "justify_content": null,
            "justify_items": null,
            "left": null,
            "margin": null,
            "max_height": null,
            "max_width": null,
            "min_height": null,
            "min_width": null,
            "object_fit": null,
            "object_position": null,
            "order": null,
            "overflow": null,
            "overflow_x": null,
            "overflow_y": null,
            "padding": null,
            "right": null,
            "top": null,
            "visibility": null,
            "width": null
          }
        },
        "2cf0aba962814c53945397708b0ccbff": {
          "model_module": "@jupyter-widgets/controls",
          "model_name": "DescriptionStyleModel",
          "model_module_version": "1.5.0",
          "state": {
            "_model_module": "@jupyter-widgets/controls",
            "_model_module_version": "1.5.0",
            "_model_name": "DescriptionStyleModel",
            "_view_count": null,
            "_view_module": "@jupyter-widgets/base",
            "_view_module_version": "1.2.0",
            "_view_name": "StyleView",
            "description_width": ""
          }
        },
        "071a48d14d4348a7a3a480fad97e66d8": {
          "model_module": "@jupyter-widgets/controls",
          "model_name": "HBoxModel",
          "model_module_version": "1.5.0",
          "state": {
            "_dom_classes": [],
            "_model_module": "@jupyter-widgets/controls",
            "_model_module_version": "1.5.0",
            "_model_name": "HBoxModel",
            "_view_count": null,
            "_view_module": "@jupyter-widgets/controls",
            "_view_module_version": "1.5.0",
            "_view_name": "HBoxView",
            "box_style": "",
            "children": [
              "IPY_MODEL_96efc1f761dd49feb6ca95a20828c463",
              "IPY_MODEL_632fda77c5f04291808aabd34f7267d7",
              "IPY_MODEL_e6ab0e06640a4d63bd8406bfb1fe26ef"
            ],
            "layout": "IPY_MODEL_f7f0e59760a84910b3aca3f5bd6b7467"
          }
        },
        "96efc1f761dd49feb6ca95a20828c463": {
          "model_module": "@jupyter-widgets/controls",
          "model_name": "HTMLModel",
          "model_module_version": "1.5.0",
          "state": {
            "_dom_classes": [],
            "_model_module": "@jupyter-widgets/controls",
            "_model_module_version": "1.5.0",
            "_model_name": "HTMLModel",
            "_view_count": null,
            "_view_module": "@jupyter-widgets/controls",
            "_view_module_version": "1.5.0",
            "_view_name": "HTMLView",
            "description": "",
            "description_tooltip": null,
            "layout": "IPY_MODEL_54ed302206144fe49dcf6ed88289cb9c",
            "placeholder": "​",
            "style": "IPY_MODEL_015330b7a8fe4b5da93908e39cfa2791",
            "value": "config.json: 100%"
          }
        },
        "632fda77c5f04291808aabd34f7267d7": {
          "model_module": "@jupyter-widgets/controls",
          "model_name": "FloatProgressModel",
          "model_module_version": "1.5.0",
          "state": {
            "_dom_classes": [],
            "_model_module": "@jupyter-widgets/controls",
            "_model_module_version": "1.5.0",
            "_model_name": "FloatProgressModel",
            "_view_count": null,
            "_view_module": "@jupyter-widgets/controls",
            "_view_module_version": "1.5.0",
            "_view_name": "ProgressView",
            "bar_style": "success",
            "description": "",
            "description_tooltip": null,
            "layout": "IPY_MODEL_5c5b36dc27ca42a4b45c42e6d3837ef0",
            "max": 570,
            "min": 0,
            "orientation": "horizontal",
            "style": "IPY_MODEL_740a2261e7154657a77e718a0eee63e3",
            "value": 570
          }
        },
        "e6ab0e06640a4d63bd8406bfb1fe26ef": {
          "model_module": "@jupyter-widgets/controls",
          "model_name": "HTMLModel",
          "model_module_version": "1.5.0",
          "state": {
            "_dom_classes": [],
            "_model_module": "@jupyter-widgets/controls",
            "_model_module_version": "1.5.0",
            "_model_name": "HTMLModel",
            "_view_count": null,
            "_view_module": "@jupyter-widgets/controls",
            "_view_module_version": "1.5.0",
            "_view_name": "HTMLView",
            "description": "",
            "description_tooltip": null,
            "layout": "IPY_MODEL_06cb70d2b1d34b77a869fce2db729d2a",
            "placeholder": "​",
            "style": "IPY_MODEL_f93a76f2fc7b4aecb93f88bfe9687f06",
            "value": " 570/570 [00:00&lt;00:00, 42.3kB/s]"
          }
        },
        "f7f0e59760a84910b3aca3f5bd6b7467": {
          "model_module": "@jupyter-widgets/base",
          "model_name": "LayoutModel",
          "model_module_version": "1.2.0",
          "state": {
            "_model_module": "@jupyter-widgets/base",
            "_model_module_version": "1.2.0",
            "_model_name": "LayoutModel",
            "_view_count": null,
            "_view_module": "@jupyter-widgets/base",
            "_view_module_version": "1.2.0",
            "_view_name": "LayoutView",
            "align_content": null,
            "align_items": null,
            "align_self": null,
            "border": null,
            "bottom": null,
            "display": null,
            "flex": null,
            "flex_flow": null,
            "grid_area": null,
            "grid_auto_columns": null,
            "grid_auto_flow": null,
            "grid_auto_rows": null,
            "grid_column": null,
            "grid_gap": null,
            "grid_row": null,
            "grid_template_areas": null,
            "grid_template_columns": null,
            "grid_template_rows": null,
            "height": null,
            "justify_content": null,
            "justify_items": null,
            "left": null,
            "margin": null,
            "max_height": null,
            "max_width": null,
            "min_height": null,
            "min_width": null,
            "object_fit": null,
            "object_position": null,
            "order": null,
            "overflow": null,
            "overflow_x": null,
            "overflow_y": null,
            "padding": null,
            "right": null,
            "top": null,
            "visibility": null,
            "width": null
          }
        },
        "54ed302206144fe49dcf6ed88289cb9c": {
          "model_module": "@jupyter-widgets/base",
          "model_name": "LayoutModel",
          "model_module_version": "1.2.0",
          "state": {
            "_model_module": "@jupyter-widgets/base",
            "_model_module_version": "1.2.0",
            "_model_name": "LayoutModel",
            "_view_count": null,
            "_view_module": "@jupyter-widgets/base",
            "_view_module_version": "1.2.0",
            "_view_name": "LayoutView",
            "align_content": null,
            "align_items": null,
            "align_self": null,
            "border": null,
            "bottom": null,
            "display": null,
            "flex": null,
            "flex_flow": null,
            "grid_area": null,
            "grid_auto_columns": null,
            "grid_auto_flow": null,
            "grid_auto_rows": null,
            "grid_column": null,
            "grid_gap": null,
            "grid_row": null,
            "grid_template_areas": null,
            "grid_template_columns": null,
            "grid_template_rows": null,
            "height": null,
            "justify_content": null,
            "justify_items": null,
            "left": null,
            "margin": null,
            "max_height": null,
            "max_width": null,
            "min_height": null,
            "min_width": null,
            "object_fit": null,
            "object_position": null,
            "order": null,
            "overflow": null,
            "overflow_x": null,
            "overflow_y": null,
            "padding": null,
            "right": null,
            "top": null,
            "visibility": null,
            "width": null
          }
        },
        "015330b7a8fe4b5da93908e39cfa2791": {
          "model_module": "@jupyter-widgets/controls",
          "model_name": "DescriptionStyleModel",
          "model_module_version": "1.5.0",
          "state": {
            "_model_module": "@jupyter-widgets/controls",
            "_model_module_version": "1.5.0",
            "_model_name": "DescriptionStyleModel",
            "_view_count": null,
            "_view_module": "@jupyter-widgets/base",
            "_view_module_version": "1.2.0",
            "_view_name": "StyleView",
            "description_width": ""
          }
        },
        "5c5b36dc27ca42a4b45c42e6d3837ef0": {
          "model_module": "@jupyter-widgets/base",
          "model_name": "LayoutModel",
          "model_module_version": "1.2.0",
          "state": {
            "_model_module": "@jupyter-widgets/base",
            "_model_module_version": "1.2.0",
            "_model_name": "LayoutModel",
            "_view_count": null,
            "_view_module": "@jupyter-widgets/base",
            "_view_module_version": "1.2.0",
            "_view_name": "LayoutView",
            "align_content": null,
            "align_items": null,
            "align_self": null,
            "border": null,
            "bottom": null,
            "display": null,
            "flex": null,
            "flex_flow": null,
            "grid_area": null,
            "grid_auto_columns": null,
            "grid_auto_flow": null,
            "grid_auto_rows": null,
            "grid_column": null,
            "grid_gap": null,
            "grid_row": null,
            "grid_template_areas": null,
            "grid_template_columns": null,
            "grid_template_rows": null,
            "height": null,
            "justify_content": null,
            "justify_items": null,
            "left": null,
            "margin": null,
            "max_height": null,
            "max_width": null,
            "min_height": null,
            "min_width": null,
            "object_fit": null,
            "object_position": null,
            "order": null,
            "overflow": null,
            "overflow_x": null,
            "overflow_y": null,
            "padding": null,
            "right": null,
            "top": null,
            "visibility": null,
            "width": null
          }
        },
        "740a2261e7154657a77e718a0eee63e3": {
          "model_module": "@jupyter-widgets/controls",
          "model_name": "ProgressStyleModel",
          "model_module_version": "1.5.0",
          "state": {
            "_model_module": "@jupyter-widgets/controls",
            "_model_module_version": "1.5.0",
            "_model_name": "ProgressStyleModel",
            "_view_count": null,
            "_view_module": "@jupyter-widgets/base",
            "_view_module_version": "1.2.0",
            "_view_name": "StyleView",
            "bar_color": null,
            "description_width": ""
          }
        },
        "06cb70d2b1d34b77a869fce2db729d2a": {
          "model_module": "@jupyter-widgets/base",
          "model_name": "LayoutModel",
          "model_module_version": "1.2.0",
          "state": {
            "_model_module": "@jupyter-widgets/base",
            "_model_module_version": "1.2.0",
            "_model_name": "LayoutModel",
            "_view_count": null,
            "_view_module": "@jupyter-widgets/base",
            "_view_module_version": "1.2.0",
            "_view_name": "LayoutView",
            "align_content": null,
            "align_items": null,
            "align_self": null,
            "border": null,
            "bottom": null,
            "display": null,
            "flex": null,
            "flex_flow": null,
            "grid_area": null,
            "grid_auto_columns": null,
            "grid_auto_flow": null,
            "grid_auto_rows": null,
            "grid_column": null,
            "grid_gap": null,
            "grid_row": null,
            "grid_template_areas": null,
            "grid_template_columns": null,
            "grid_template_rows": null,
            "height": null,
            "justify_content": null,
            "justify_items": null,
            "left": null,
            "margin": null,
            "max_height": null,
            "max_width": null,
            "min_height": null,
            "min_width": null,
            "object_fit": null,
            "object_position": null,
            "order": null,
            "overflow": null,
            "overflow_x": null,
            "overflow_y": null,
            "padding": null,
            "right": null,
            "top": null,
            "visibility": null,
            "width": null
          }
        },
        "f93a76f2fc7b4aecb93f88bfe9687f06": {
          "model_module": "@jupyter-widgets/controls",
          "model_name": "DescriptionStyleModel",
          "model_module_version": "1.5.0",
          "state": {
            "_model_module": "@jupyter-widgets/controls",
            "_model_module_version": "1.5.0",
            "_model_name": "DescriptionStyleModel",
            "_view_count": null,
            "_view_module": "@jupyter-widgets/base",
            "_view_module_version": "1.2.0",
            "_view_name": "StyleView",
            "description_width": ""
          }
        },
        "367e72df3c894bc49d8e7d8305037707": {
          "model_module": "@jupyter-widgets/controls",
          "model_name": "HBoxModel",
          "model_module_version": "1.5.0",
          "state": {
            "_dom_classes": [],
            "_model_module": "@jupyter-widgets/controls",
            "_model_module_version": "1.5.0",
            "_model_name": "HBoxModel",
            "_view_count": null,
            "_view_module": "@jupyter-widgets/controls",
            "_view_module_version": "1.5.0",
            "_view_name": "HBoxView",
            "box_style": "",
            "children": [
              "IPY_MODEL_fcab20bcebe84cfc954e3fc135eab2e4",
              "IPY_MODEL_214660fc82754dfbac2be07b5c0e0ef4",
              "IPY_MODEL_4c51f5a41e634393a3504febe7b6af29"
            ],
            "layout": "IPY_MODEL_f2cdf6b1e6af4687805964741e389fb3"
          }
        },
        "fcab20bcebe84cfc954e3fc135eab2e4": {
          "model_module": "@jupyter-widgets/controls",
          "model_name": "HTMLModel",
          "model_module_version": "1.5.0",
          "state": {
            "_dom_classes": [],
            "_model_module": "@jupyter-widgets/controls",
            "_model_module_version": "1.5.0",
            "_model_name": "HTMLModel",
            "_view_count": null,
            "_view_module": "@jupyter-widgets/controls",
            "_view_module_version": "1.5.0",
            "_view_name": "HTMLView",
            "description": "",
            "description_tooltip": null,
            "layout": "IPY_MODEL_81087aa034d14cc99f18d9bf749008cd",
            "placeholder": "​",
            "style": "IPY_MODEL_de6692082187492393dd23b98d8ed839",
            "value": "config.json: 100%"
          }
        },
        "214660fc82754dfbac2be07b5c0e0ef4": {
          "model_module": "@jupyter-widgets/controls",
          "model_name": "FloatProgressModel",
          "model_module_version": "1.5.0",
          "state": {
            "_dom_classes": [],
            "_model_module": "@jupyter-widgets/controls",
            "_model_module_version": "1.5.0",
            "_model_name": "FloatProgressModel",
            "_view_count": null,
            "_view_module": "@jupyter-widgets/controls",
            "_view_module_version": "1.5.0",
            "_view_name": "ProgressView",
            "bar_style": "success",
            "description": "",
            "description_tooltip": null,
            "layout": "IPY_MODEL_8f1c70b324e54c78ae35815b0247c7cb",
            "max": 285,
            "min": 0,
            "orientation": "horizontal",
            "style": "IPY_MODEL_468f6bfc976740f1b63f5d544331a1fb",
            "value": 285
          }
        },
        "4c51f5a41e634393a3504febe7b6af29": {
          "model_module": "@jupyter-widgets/controls",
          "model_name": "HTMLModel",
          "model_module_version": "1.5.0",
          "state": {
            "_dom_classes": [],
            "_model_module": "@jupyter-widgets/controls",
            "_model_module_version": "1.5.0",
            "_model_name": "HTMLModel",
            "_view_count": null,
            "_view_module": "@jupyter-widgets/controls",
            "_view_module_version": "1.5.0",
            "_view_name": "HTMLView",
            "description": "",
            "description_tooltip": null,
            "layout": "IPY_MODEL_85ef258607c84fecb77e8aab234bcbbd",
            "placeholder": "​",
            "style": "IPY_MODEL_f55c1a14f465430e8215f0cecbde5231",
            "value": " 285/285 [00:00&lt;00:00, 18.9kB/s]"
          }
        },
        "f2cdf6b1e6af4687805964741e389fb3": {
          "model_module": "@jupyter-widgets/base",
          "model_name": "LayoutModel",
          "model_module_version": "1.2.0",
          "state": {
            "_model_module": "@jupyter-widgets/base",
            "_model_module_version": "1.2.0",
            "_model_name": "LayoutModel",
            "_view_count": null,
            "_view_module": "@jupyter-widgets/base",
            "_view_module_version": "1.2.0",
            "_view_name": "LayoutView",
            "align_content": null,
            "align_items": null,
            "align_self": null,
            "border": null,
            "bottom": null,
            "display": null,
            "flex": null,
            "flex_flow": null,
            "grid_area": null,
            "grid_auto_columns": null,
            "grid_auto_flow": null,
            "grid_auto_rows": null,
            "grid_column": null,
            "grid_gap": null,
            "grid_row": null,
            "grid_template_areas": null,
            "grid_template_columns": null,
            "grid_template_rows": null,
            "height": null,
            "justify_content": null,
            "justify_items": null,
            "left": null,
            "margin": null,
            "max_height": null,
            "max_width": null,
            "min_height": null,
            "min_width": null,
            "object_fit": null,
            "object_position": null,
            "order": null,
            "overflow": null,
            "overflow_x": null,
            "overflow_y": null,
            "padding": null,
            "right": null,
            "top": null,
            "visibility": null,
            "width": null
          }
        },
        "81087aa034d14cc99f18d9bf749008cd": {
          "model_module": "@jupyter-widgets/base",
          "model_name": "LayoutModel",
          "model_module_version": "1.2.0",
          "state": {
            "_model_module": "@jupyter-widgets/base",
            "_model_module_version": "1.2.0",
            "_model_name": "LayoutModel",
            "_view_count": null,
            "_view_module": "@jupyter-widgets/base",
            "_view_module_version": "1.2.0",
            "_view_name": "LayoutView",
            "align_content": null,
            "align_items": null,
            "align_self": null,
            "border": null,
            "bottom": null,
            "display": null,
            "flex": null,
            "flex_flow": null,
            "grid_area": null,
            "grid_auto_columns": null,
            "grid_auto_flow": null,
            "grid_auto_rows": null,
            "grid_column": null,
            "grid_gap": null,
            "grid_row": null,
            "grid_template_areas": null,
            "grid_template_columns": null,
            "grid_template_rows": null,
            "height": null,
            "justify_content": null,
            "justify_items": null,
            "left": null,
            "margin": null,
            "max_height": null,
            "max_width": null,
            "min_height": null,
            "min_width": null,
            "object_fit": null,
            "object_position": null,
            "order": null,
            "overflow": null,
            "overflow_x": null,
            "overflow_y": null,
            "padding": null,
            "right": null,
            "top": null,
            "visibility": null,
            "width": null
          }
        },
        "de6692082187492393dd23b98d8ed839": {
          "model_module": "@jupyter-widgets/controls",
          "model_name": "DescriptionStyleModel",
          "model_module_version": "1.5.0",
          "state": {
            "_model_module": "@jupyter-widgets/controls",
            "_model_module_version": "1.5.0",
            "_model_name": "DescriptionStyleModel",
            "_view_count": null,
            "_view_module": "@jupyter-widgets/base",
            "_view_module_version": "1.2.0",
            "_view_name": "StyleView",
            "description_width": ""
          }
        },
        "8f1c70b324e54c78ae35815b0247c7cb": {
          "model_module": "@jupyter-widgets/base",
          "model_name": "LayoutModel",
          "model_module_version": "1.2.0",
          "state": {
            "_model_module": "@jupyter-widgets/base",
            "_model_module_version": "1.2.0",
            "_model_name": "LayoutModel",
            "_view_count": null,
            "_view_module": "@jupyter-widgets/base",
            "_view_module_version": "1.2.0",
            "_view_name": "LayoutView",
            "align_content": null,
            "align_items": null,
            "align_self": null,
            "border": null,
            "bottom": null,
            "display": null,
            "flex": null,
            "flex_flow": null,
            "grid_area": null,
            "grid_auto_columns": null,
            "grid_auto_flow": null,
            "grid_auto_rows": null,
            "grid_column": null,
            "grid_gap": null,
            "grid_row": null,
            "grid_template_areas": null,
            "grid_template_columns": null,
            "grid_template_rows": null,
            "height": null,
            "justify_content": null,
            "justify_items": null,
            "left": null,
            "margin": null,
            "max_height": null,
            "max_width": null,
            "min_height": null,
            "min_width": null,
            "object_fit": null,
            "object_position": null,
            "order": null,
            "overflow": null,
            "overflow_x": null,
            "overflow_y": null,
            "padding": null,
            "right": null,
            "top": null,
            "visibility": null,
            "width": null
          }
        },
        "468f6bfc976740f1b63f5d544331a1fb": {
          "model_module": "@jupyter-widgets/controls",
          "model_name": "ProgressStyleModel",
          "model_module_version": "1.5.0",
          "state": {
            "_model_module": "@jupyter-widgets/controls",
            "_model_module_version": "1.5.0",
            "_model_name": "ProgressStyleModel",
            "_view_count": null,
            "_view_module": "@jupyter-widgets/base",
            "_view_module_version": "1.2.0",
            "_view_name": "StyleView",
            "bar_color": null,
            "description_width": ""
          }
        },
        "85ef258607c84fecb77e8aab234bcbbd": {
          "model_module": "@jupyter-widgets/base",
          "model_name": "LayoutModel",
          "model_module_version": "1.2.0",
          "state": {
            "_model_module": "@jupyter-widgets/base",
            "_model_module_version": "1.2.0",
            "_model_name": "LayoutModel",
            "_view_count": null,
            "_view_module": "@jupyter-widgets/base",
            "_view_module_version": "1.2.0",
            "_view_name": "LayoutView",
            "align_content": null,
            "align_items": null,
            "align_self": null,
            "border": null,
            "bottom": null,
            "display": null,
            "flex": null,
            "flex_flow": null,
            "grid_area": null,
            "grid_auto_columns": null,
            "grid_auto_flow": null,
            "grid_auto_rows": null,
            "grid_column": null,
            "grid_gap": null,
            "grid_row": null,
            "grid_template_areas": null,
            "grid_template_columns": null,
            "grid_template_rows": null,
            "height": null,
            "justify_content": null,
            "justify_items": null,
            "left": null,
            "margin": null,
            "max_height": null,
            "max_width": null,
            "min_height": null,
            "min_width": null,
            "object_fit": null,
            "object_position": null,
            "order": null,
            "overflow": null,
            "overflow_x": null,
            "overflow_y": null,
            "padding": null,
            "right": null,
            "top": null,
            "visibility": null,
            "width": null
          }
        },
        "f55c1a14f465430e8215f0cecbde5231": {
          "model_module": "@jupyter-widgets/controls",
          "model_name": "DescriptionStyleModel",
          "model_module_version": "1.5.0",
          "state": {
            "_model_module": "@jupyter-widgets/controls",
            "_model_module_version": "1.5.0",
            "_model_name": "DescriptionStyleModel",
            "_view_count": null,
            "_view_module": "@jupyter-widgets/base",
            "_view_module_version": "1.2.0",
            "_view_name": "StyleView",
            "description_width": ""
          }
        },
        "d87705dbbbe54a6f813870230cd38758": {
          "model_module": "@jupyter-widgets/controls",
          "model_name": "HBoxModel",
          "model_module_version": "1.5.0",
          "state": {
            "_dom_classes": [],
            "_model_module": "@jupyter-widgets/controls",
            "_model_module_version": "1.5.0",
            "_model_name": "HBoxModel",
            "_view_count": null,
            "_view_module": "@jupyter-widgets/controls",
            "_view_module_version": "1.5.0",
            "_view_name": "HBoxView",
            "box_style": "",
            "children": [
              "IPY_MODEL_4c6000d5184d4412a6c11b5e6c89ffa6",
              "IPY_MODEL_044324a16ef24799bab969143c0dc360",
              "IPY_MODEL_7fe006a11f5340219a401641d50f83b7"
            ],
            "layout": "IPY_MODEL_6110092faeee42c381ddf3d1eebb9cec"
          }
        },
        "4c6000d5184d4412a6c11b5e6c89ffa6": {
          "model_module": "@jupyter-widgets/controls",
          "model_name": "HTMLModel",
          "model_module_version": "1.5.0",
          "state": {
            "_dom_classes": [],
            "_model_module": "@jupyter-widgets/controls",
            "_model_module_version": "1.5.0",
            "_model_name": "HTMLModel",
            "_view_count": null,
            "_view_module": "@jupyter-widgets/controls",
            "_view_module_version": "1.5.0",
            "_view_name": "HTMLView",
            "description": "",
            "description_tooltip": null,
            "layout": "IPY_MODEL_60e435a810354544b1f422624c63f93b",
            "placeholder": "​",
            "style": "IPY_MODEL_d490854ab2fc42fdad0dddd32fd33823",
            "value": "pytorch_model.bin: 100%"
          }
        },
        "044324a16ef24799bab969143c0dc360": {
          "model_module": "@jupyter-widgets/controls",
          "model_name": "FloatProgressModel",
          "model_module_version": "1.5.0",
          "state": {
            "_dom_classes": [],
            "_model_module": "@jupyter-widgets/controls",
            "_model_module_version": "1.5.0",
            "_model_name": "FloatProgressModel",
            "_view_count": null,
            "_view_module": "@jupyter-widgets/controls",
            "_view_module_version": "1.5.0",
            "_view_name": "ProgressView",
            "bar_style": "success",
            "description": "",
            "description_tooltip": null,
            "layout": "IPY_MODEL_15e0f3625825498bb46454442a099a8c",
            "max": 17756393,
            "min": 0,
            "orientation": "horizontal",
            "style": "IPY_MODEL_e1ccfffb7aaa476b8dc8c186a6286f1c",
            "value": 17756393
          }
        },
        "7fe006a11f5340219a401641d50f83b7": {
          "model_module": "@jupyter-widgets/controls",
          "model_name": "HTMLModel",
          "model_module_version": "1.5.0",
          "state": {
            "_dom_classes": [],
            "_model_module": "@jupyter-widgets/controls",
            "_model_module_version": "1.5.0",
            "_model_name": "HTMLModel",
            "_view_count": null,
            "_view_module": "@jupyter-widgets/controls",
            "_view_module_version": "1.5.0",
            "_view_name": "HTMLView",
            "description": "",
            "description_tooltip": null,
            "layout": "IPY_MODEL_305825074c2946aea197da0a479e3a47",
            "placeholder": "​",
            "style": "IPY_MODEL_6a8561a6b60845ffa4cfb0499cecd32e",
            "value": " 17.8M/17.8M [00:00&lt;00:00, 48.8MB/s]"
          }
        },
        "6110092faeee42c381ddf3d1eebb9cec": {
          "model_module": "@jupyter-widgets/base",
          "model_name": "LayoutModel",
          "model_module_version": "1.2.0",
          "state": {
            "_model_module": "@jupyter-widgets/base",
            "_model_module_version": "1.2.0",
            "_model_name": "LayoutModel",
            "_view_count": null,
            "_view_module": "@jupyter-widgets/base",
            "_view_module_version": "1.2.0",
            "_view_name": "LayoutView",
            "align_content": null,
            "align_items": null,
            "align_self": null,
            "border": null,
            "bottom": null,
            "display": null,
            "flex": null,
            "flex_flow": null,
            "grid_area": null,
            "grid_auto_columns": null,
            "grid_auto_flow": null,
            "grid_auto_rows": null,
            "grid_column": null,
            "grid_gap": null,
            "grid_row": null,
            "grid_template_areas": null,
            "grid_template_columns": null,
            "grid_template_rows": null,
            "height": null,
            "justify_content": null,
            "justify_items": null,
            "left": null,
            "margin": null,
            "max_height": null,
            "max_width": null,
            "min_height": null,
            "min_width": null,
            "object_fit": null,
            "object_position": null,
            "order": null,
            "overflow": null,
            "overflow_x": null,
            "overflow_y": null,
            "padding": null,
            "right": null,
            "top": null,
            "visibility": null,
            "width": null
          }
        },
        "60e435a810354544b1f422624c63f93b": {
          "model_module": "@jupyter-widgets/base",
          "model_name": "LayoutModel",
          "model_module_version": "1.2.0",
          "state": {
            "_model_module": "@jupyter-widgets/base",
            "_model_module_version": "1.2.0",
            "_model_name": "LayoutModel",
            "_view_count": null,
            "_view_module": "@jupyter-widgets/base",
            "_view_module_version": "1.2.0",
            "_view_name": "LayoutView",
            "align_content": null,
            "align_items": null,
            "align_self": null,
            "border": null,
            "bottom": null,
            "display": null,
            "flex": null,
            "flex_flow": null,
            "grid_area": null,
            "grid_auto_columns": null,
            "grid_auto_flow": null,
            "grid_auto_rows": null,
            "grid_column": null,
            "grid_gap": null,
            "grid_row": null,
            "grid_template_areas": null,
            "grid_template_columns": null,
            "grid_template_rows": null,
            "height": null,
            "justify_content": null,
            "justify_items": null,
            "left": null,
            "margin": null,
            "max_height": null,
            "max_width": null,
            "min_height": null,
            "min_width": null,
            "object_fit": null,
            "object_position": null,
            "order": null,
            "overflow": null,
            "overflow_x": null,
            "overflow_y": null,
            "padding": null,
            "right": null,
            "top": null,
            "visibility": null,
            "width": null
          }
        },
        "d490854ab2fc42fdad0dddd32fd33823": {
          "model_module": "@jupyter-widgets/controls",
          "model_name": "DescriptionStyleModel",
          "model_module_version": "1.5.0",
          "state": {
            "_model_module": "@jupyter-widgets/controls",
            "_model_module_version": "1.5.0",
            "_model_name": "DescriptionStyleModel",
            "_view_count": null,
            "_view_module": "@jupyter-widgets/base",
            "_view_module_version": "1.2.0",
            "_view_name": "StyleView",
            "description_width": ""
          }
        },
        "15e0f3625825498bb46454442a099a8c": {
          "model_module": "@jupyter-widgets/base",
          "model_name": "LayoutModel",
          "model_module_version": "1.2.0",
          "state": {
            "_model_module": "@jupyter-widgets/base",
            "_model_module_version": "1.2.0",
            "_model_name": "LayoutModel",
            "_view_count": null,
            "_view_module": "@jupyter-widgets/base",
            "_view_module_version": "1.2.0",
            "_view_name": "LayoutView",
            "align_content": null,
            "align_items": null,
            "align_self": null,
            "border": null,
            "bottom": null,
            "display": null,
            "flex": null,
            "flex_flow": null,
            "grid_area": null,
            "grid_auto_columns": null,
            "grid_auto_flow": null,
            "grid_auto_rows": null,
            "grid_column": null,
            "grid_gap": null,
            "grid_row": null,
            "grid_template_areas": null,
            "grid_template_columns": null,
            "grid_template_rows": null,
            "height": null,
            "justify_content": null,
            "justify_items": null,
            "left": null,
            "margin": null,
            "max_height": null,
            "max_width": null,
            "min_height": null,
            "min_width": null,
            "object_fit": null,
            "object_position": null,
            "order": null,
            "overflow": null,
            "overflow_x": null,
            "overflow_y": null,
            "padding": null,
            "right": null,
            "top": null,
            "visibility": null,
            "width": null
          }
        },
        "e1ccfffb7aaa476b8dc8c186a6286f1c": {
          "model_module": "@jupyter-widgets/controls",
          "model_name": "ProgressStyleModel",
          "model_module_version": "1.5.0",
          "state": {
            "_model_module": "@jupyter-widgets/controls",
            "_model_module_version": "1.5.0",
            "_model_name": "ProgressStyleModel",
            "_view_count": null,
            "_view_module": "@jupyter-widgets/base",
            "_view_module_version": "1.2.0",
            "_view_name": "StyleView",
            "bar_color": null,
            "description_width": ""
          }
        },
        "305825074c2946aea197da0a479e3a47": {
          "model_module": "@jupyter-widgets/base",
          "model_name": "LayoutModel",
          "model_module_version": "1.2.0",
          "state": {
            "_model_module": "@jupyter-widgets/base",
            "_model_module_version": "1.2.0",
            "_model_name": "LayoutModel",
            "_view_count": null,
            "_view_module": "@jupyter-widgets/base",
            "_view_module_version": "1.2.0",
            "_view_name": "LayoutView",
            "align_content": null,
            "align_items": null,
            "align_self": null,
            "border": null,
            "bottom": null,
            "display": null,
            "flex": null,
            "flex_flow": null,
            "grid_area": null,
            "grid_auto_columns": null,
            "grid_auto_flow": null,
            "grid_auto_rows": null,
            "grid_column": null,
            "grid_gap": null,
            "grid_row": null,
            "grid_template_areas": null,
            "grid_template_columns": null,
            "grid_template_rows": null,
            "height": null,
            "justify_content": null,
            "justify_items": null,
            "left": null,
            "margin": null,
            "max_height": null,
            "max_width": null,
            "min_height": null,
            "min_width": null,
            "object_fit": null,
            "object_position": null,
            "order": null,
            "overflow": null,
            "overflow_x": null,
            "overflow_y": null,
            "padding": null,
            "right": null,
            "top": null,
            "visibility": null,
            "width": null
          }
        },
        "6a8561a6b60845ffa4cfb0499cecd32e": {
          "model_module": "@jupyter-widgets/controls",
          "model_name": "DescriptionStyleModel",
          "model_module_version": "1.5.0",
          "state": {
            "_model_module": "@jupyter-widgets/controls",
            "_model_module_version": "1.5.0",
            "_model_name": "DescriptionStyleModel",
            "_view_count": null,
            "_view_module": "@jupyter-widgets/base",
            "_view_module_version": "1.2.0",
            "_view_name": "StyleView",
            "description_width": ""
          }
        },
        "040697f0cc5e47b6a10880407fe1a9d5": {
          "model_module": "@jupyter-widgets/controls",
          "model_name": "HBoxModel",
          "model_module_version": "1.5.0",
          "state": {
            "_dom_classes": [],
            "_model_module": "@jupyter-widgets/controls",
            "_model_module_version": "1.5.0",
            "_model_name": "HBoxModel",
            "_view_count": null,
            "_view_module": "@jupyter-widgets/controls",
            "_view_module_version": "1.5.0",
            "_view_name": "HBoxView",
            "box_style": "",
            "children": [
              "IPY_MODEL_d06df1aae19f4510a7263d5d5a201f90",
              "IPY_MODEL_3fba4dd30aa4416ea2e1008df2b7f276",
              "IPY_MODEL_0678cc9a455c44839b28ac60243e5826"
            ],
            "layout": "IPY_MODEL_5238eed78faa453cb12912645db0feb9"
          }
        },
        "d06df1aae19f4510a7263d5d5a201f90": {
          "model_module": "@jupyter-widgets/controls",
          "model_name": "HTMLModel",
          "model_module_version": "1.5.0",
          "state": {
            "_dom_classes": [],
            "_model_module": "@jupyter-widgets/controls",
            "_model_module_version": "1.5.0",
            "_model_name": "HTMLModel",
            "_view_count": null,
            "_view_module": "@jupyter-widgets/controls",
            "_view_module_version": "1.5.0",
            "_view_name": "HTMLView",
            "description": "",
            "description_tooltip": null,
            "layout": "IPY_MODEL_18bab66a30dd45fe8ffc6162498cd5e7",
            "placeholder": "​",
            "style": "IPY_MODEL_fd26d016013843f495e13edd84aa46b5",
            "value": "vocab.txt: 100%"
          }
        },
        "3fba4dd30aa4416ea2e1008df2b7f276": {
          "model_module": "@jupyter-widgets/controls",
          "model_name": "FloatProgressModel",
          "model_module_version": "1.5.0",
          "state": {
            "_dom_classes": [],
            "_model_module": "@jupyter-widgets/controls",
            "_model_module_version": "1.5.0",
            "_model_name": "FloatProgressModel",
            "_view_count": null,
            "_view_module": "@jupyter-widgets/controls",
            "_view_module_version": "1.5.0",
            "_view_name": "ProgressView",
            "bar_style": "success",
            "description": "",
            "description_tooltip": null,
            "layout": "IPY_MODEL_c365cc7522364cdcb1c2349f8d80561f",
            "max": 231508,
            "min": 0,
            "orientation": "horizontal",
            "style": "IPY_MODEL_40af702a80db4edea38c82950e8860be",
            "value": 231508
          }
        },
        "0678cc9a455c44839b28ac60243e5826": {
          "model_module": "@jupyter-widgets/controls",
          "model_name": "HTMLModel",
          "model_module_version": "1.5.0",
          "state": {
            "_dom_classes": [],
            "_model_module": "@jupyter-widgets/controls",
            "_model_module_version": "1.5.0",
            "_model_name": "HTMLModel",
            "_view_count": null,
            "_view_module": "@jupyter-widgets/controls",
            "_view_module_version": "1.5.0",
            "_view_name": "HTMLView",
            "description": "",
            "description_tooltip": null,
            "layout": "IPY_MODEL_f2c4687a98d2494685f27ee6859ffa9e",
            "placeholder": "​",
            "style": "IPY_MODEL_8d806d8d55434547b188042b5eba49d9",
            "value": " 232k/232k [00:00&lt;00:00, 3.57MB/s]"
          }
        },
        "5238eed78faa453cb12912645db0feb9": {
          "model_module": "@jupyter-widgets/base",
          "model_name": "LayoutModel",
          "model_module_version": "1.2.0",
          "state": {
            "_model_module": "@jupyter-widgets/base",
            "_model_module_version": "1.2.0",
            "_model_name": "LayoutModel",
            "_view_count": null,
            "_view_module": "@jupyter-widgets/base",
            "_view_module_version": "1.2.0",
            "_view_name": "LayoutView",
            "align_content": null,
            "align_items": null,
            "align_self": null,
            "border": null,
            "bottom": null,
            "display": null,
            "flex": null,
            "flex_flow": null,
            "grid_area": null,
            "grid_auto_columns": null,
            "grid_auto_flow": null,
            "grid_auto_rows": null,
            "grid_column": null,
            "grid_gap": null,
            "grid_row": null,
            "grid_template_areas": null,
            "grid_template_columns": null,
            "grid_template_rows": null,
            "height": null,
            "justify_content": null,
            "justify_items": null,
            "left": null,
            "margin": null,
            "max_height": null,
            "max_width": null,
            "min_height": null,
            "min_width": null,
            "object_fit": null,
            "object_position": null,
            "order": null,
            "overflow": null,
            "overflow_x": null,
            "overflow_y": null,
            "padding": null,
            "right": null,
            "top": null,
            "visibility": null,
            "width": null
          }
        },
        "18bab66a30dd45fe8ffc6162498cd5e7": {
          "model_module": "@jupyter-widgets/base",
          "model_name": "LayoutModel",
          "model_module_version": "1.2.0",
          "state": {
            "_model_module": "@jupyter-widgets/base",
            "_model_module_version": "1.2.0",
            "_model_name": "LayoutModel",
            "_view_count": null,
            "_view_module": "@jupyter-widgets/base",
            "_view_module_version": "1.2.0",
            "_view_name": "LayoutView",
            "align_content": null,
            "align_items": null,
            "align_self": null,
            "border": null,
            "bottom": null,
            "display": null,
            "flex": null,
            "flex_flow": null,
            "grid_area": null,
            "grid_auto_columns": null,
            "grid_auto_flow": null,
            "grid_auto_rows": null,
            "grid_column": null,
            "grid_gap": null,
            "grid_row": null,
            "grid_template_areas": null,
            "grid_template_columns": null,
            "grid_template_rows": null,
            "height": null,
            "justify_content": null,
            "justify_items": null,
            "left": null,
            "margin": null,
            "max_height": null,
            "max_width": null,
            "min_height": null,
            "min_width": null,
            "object_fit": null,
            "object_position": null,
            "order": null,
            "overflow": null,
            "overflow_x": null,
            "overflow_y": null,
            "padding": null,
            "right": null,
            "top": null,
            "visibility": null,
            "width": null
          }
        },
        "fd26d016013843f495e13edd84aa46b5": {
          "model_module": "@jupyter-widgets/controls",
          "model_name": "DescriptionStyleModel",
          "model_module_version": "1.5.0",
          "state": {
            "_model_module": "@jupyter-widgets/controls",
            "_model_module_version": "1.5.0",
            "_model_name": "DescriptionStyleModel",
            "_view_count": null,
            "_view_module": "@jupyter-widgets/base",
            "_view_module_version": "1.2.0",
            "_view_name": "StyleView",
            "description_width": ""
          }
        },
        "c365cc7522364cdcb1c2349f8d80561f": {
          "model_module": "@jupyter-widgets/base",
          "model_name": "LayoutModel",
          "model_module_version": "1.2.0",
          "state": {
            "_model_module": "@jupyter-widgets/base",
            "_model_module_version": "1.2.0",
            "_model_name": "LayoutModel",
            "_view_count": null,
            "_view_module": "@jupyter-widgets/base",
            "_view_module_version": "1.2.0",
            "_view_name": "LayoutView",
            "align_content": null,
            "align_items": null,
            "align_self": null,
            "border": null,
            "bottom": null,
            "display": null,
            "flex": null,
            "flex_flow": null,
            "grid_area": null,
            "grid_auto_columns": null,
            "grid_auto_flow": null,
            "grid_auto_rows": null,
            "grid_column": null,
            "grid_gap": null,
            "grid_row": null,
            "grid_template_areas": null,
            "grid_template_columns": null,
            "grid_template_rows": null,
            "height": null,
            "justify_content": null,
            "justify_items": null,
            "left": null,
            "margin": null,
            "max_height": null,
            "max_width": null,
            "min_height": null,
            "min_width": null,
            "object_fit": null,
            "object_position": null,
            "order": null,
            "overflow": null,
            "overflow_x": null,
            "overflow_y": null,
            "padding": null,
            "right": null,
            "top": null,
            "visibility": null,
            "width": null
          }
        },
        "40af702a80db4edea38c82950e8860be": {
          "model_module": "@jupyter-widgets/controls",
          "model_name": "ProgressStyleModel",
          "model_module_version": "1.5.0",
          "state": {
            "_model_module": "@jupyter-widgets/controls",
            "_model_module_version": "1.5.0",
            "_model_name": "ProgressStyleModel",
            "_view_count": null,
            "_view_module": "@jupyter-widgets/base",
            "_view_module_version": "1.2.0",
            "_view_name": "StyleView",
            "bar_color": null,
            "description_width": ""
          }
        },
        "f2c4687a98d2494685f27ee6859ffa9e": {
          "model_module": "@jupyter-widgets/base",
          "model_name": "LayoutModel",
          "model_module_version": "1.2.0",
          "state": {
            "_model_module": "@jupyter-widgets/base",
            "_model_module_version": "1.2.0",
            "_model_name": "LayoutModel",
            "_view_count": null,
            "_view_module": "@jupyter-widgets/base",
            "_view_module_version": "1.2.0",
            "_view_name": "LayoutView",
            "align_content": null,
            "align_items": null,
            "align_self": null,
            "border": null,
            "bottom": null,
            "display": null,
            "flex": null,
            "flex_flow": null,
            "grid_area": null,
            "grid_auto_columns": null,
            "grid_auto_flow": null,
            "grid_auto_rows": null,
            "grid_column": null,
            "grid_gap": null,
            "grid_row": null,
            "grid_template_areas": null,
            "grid_template_columns": null,
            "grid_template_rows": null,
            "height": null,
            "justify_content": null,
            "justify_items": null,
            "left": null,
            "margin": null,
            "max_height": null,
            "max_width": null,
            "min_height": null,
            "min_width": null,
            "object_fit": null,
            "object_position": null,
            "order": null,
            "overflow": null,
            "overflow_x": null,
            "overflow_y": null,
            "padding": null,
            "right": null,
            "top": null,
            "visibility": null,
            "width": null
          }
        },
        "8d806d8d55434547b188042b5eba49d9": {
          "model_module": "@jupyter-widgets/controls",
          "model_name": "DescriptionStyleModel",
          "model_module_version": "1.5.0",
          "state": {
            "_model_module": "@jupyter-widgets/controls",
            "_model_module_version": "1.5.0",
            "_model_name": "DescriptionStyleModel",
            "_view_count": null,
            "_view_module": "@jupyter-widgets/base",
            "_view_module_version": "1.2.0",
            "_view_name": "StyleView",
            "description_width": ""
          }
        }
      }
    }
  },
  "nbformat": 4,
  "nbformat_minor": 0
}