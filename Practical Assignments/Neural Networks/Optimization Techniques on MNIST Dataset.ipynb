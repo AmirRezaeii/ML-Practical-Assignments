{
  "cells": [
    {
      "cell_type": "markdown",
      "metadata": {
        "id": "havFsrqzlXPy"
      },
      "source": [
        "# Optimization Techniques on MNIST Dataset\n",
        "This notebook explores various optimization techniques for training neural networks on the MNIST dataset. The focus will be on different optimization strategies including Adaptive Learning Rates, SGD, Mini-Batch Gradient Descent, and Learning Rate Adjustments. Each section will provide a practical task related to these techniques."
      ]
    },
    {
      "cell_type": "code",
      "execution_count": null,
      "metadata": {
        "id": "ywjE9LpmlXP1"
      },
      "outputs": [],
      "source": [
        "import tensorflow as tf\n",
        "import numpy as np\n",
        "import matplotlib.pyplot as plt\n",
        "\n",
        "# Load Fashion MNIST dataset\n",
        "(x_train, y_train), (x_test, y_test) = tf.keras.datasets.fashion_mnist.load_data()\n",
        "\n",
        "# Normalize data\n",
        "x_train, x_test = x_train / 255.0, x_test / 255.0\n",
        "\n",
        "# One-hot encode labels\n",
        "y_train = tf.keras.utils.to_categorical(y_train, 10)\n",
        "y_test = tf.keras.utils.to_categorical(y_test, 10)\n",
        "\n",
        "# Reshape x_train and x_test\n",
        "x_train = x_train.reshape(x_train.shape[0], -1)\n",
        "x_test = x_test.reshape(x_test.shape[0], -1)"
      ]
    },
    {
      "cell_type": "markdown",
      "metadata": {
        "id": "mDobaVTt0l0t"
      },
      "source": [
        "## Adaptive Learning Rates"
      ]
    },
    {
      "cell_type": "markdown",
      "metadata": {
        "id": "4rNvoHEDlXP2"
      },
      "source": [
        "## Implementing a Simple Neural Network from Scratch"
      ]
    },
    {
      "cell_type": "markdown",
      "metadata": {
        "id": "8IMMs-s6lXP2"
      },
      "source": [
        "### Building the Network\n",
        "Define the architecture of a simple feedforward neural network with one hidden layer. You will need to manually initialize the weights and biases.\n",
        "\n",
        "**TODO:** Initialize Parameters\n",
        "Objective: Create a function to initialize weights and biases for all layers of the network.\n",
        "Instructions:\n",
        "- Initialize weights with small random values and biases with zeros.\n",
        "- Use numpy for creating arrays and operations.\n",
        "\n",
        "Hint: Use np.random.randn for weights and np.zeros for biases. Scale weights by 0.1."
      ]
    },
    {
      "cell_type": "code",
      "execution_count": null,
      "metadata": {
        "id": "HEUr0figlXP3"
      },
      "outputs": [],
      "source": [
        "def initialize_parameters(input_size, hidden_size, output_size):\n",
        "    \"\"\"\n",
        "    Initialize weights and biases for a simple feedforward neural network.\n",
        "\n",
        "    Parameters:\n",
        "    - input_size: Number of input features.\n",
        "    - hidden_size: Number of neurons in the hidden layer.\n",
        "    - output_size: Number of output classes.\n",
        "\n",
        "    Returns:\n",
        "    - parameters: A dictionary containing weights and biases.\n",
        "    \"\"\"\n",
        "    parameters = {\n",
        "        'W1': np.random.randn(input_size, hidden_size) * 0.1,\n",
        "        'b1': np.zeros((1, hidden_size)),\n",
        "        'W2': np.random.randn(hidden_size, output_size) * 0.1,\n",
        "        'b2': np.zeros((1, output_size)),\n",
        "    }\n",
        "    return parameters"
      ]
    },
    {
      "cell_type": "markdown",
      "metadata": {
        "id": "bDvfRCVq-74-"
      },
      "source": [
        "\n",
        "TODO: Define Activation Functions\n",
        "Objective: Implement commonly used activation functions.\n",
        "Instructions:\n",
        " - Define the ReLU and Sigmoid activation functions.\n",
        " - Ensure each function works with numpy arrays and supports both forward and derivative (gradient) computations.\n"
      ]
    },
    {
      "cell_type": "code",
      "execution_count": null,
      "metadata": {
        "id": "qIBwOlH6_Jg4"
      },
      "outputs": [],
      "source": [
        "def relu(x):\n",
        "    \"\"\"\n",
        "    ReLU activation function.\n",
        "\n",
        "    Parameters:\n",
        "    - x: Input numpy array.\n",
        "\n",
        "    Returns:\n",
        "    - Output after applying ReLU.\n",
        "    \"\"\"\n",
        "    return np.maximum(0, x)\n",
        "\n",
        "\n",
        "def relu_derivative(x):\n",
        "    \"\"\"\n",
        "    Derivative of ReLU activation function.\n",
        "\n",
        "    Parameters:\n",
        "    - x: Input numpy array.\n",
        "\n",
        "    Returns:\n",
        "    - Derivative of ReLU.\n",
        "    \"\"\"\n",
        "    return (x > 0).astype(float)\n",
        "\n",
        "def sigmoid(x):\n",
        "    \"\"\"\n",
        "    Sigmoid activation function.\n",
        "\n",
        "    Parameters:\n",
        "    - x: Input numpy array.\n",
        "\n",
        "    Returns:\n",
        "    - Output after applying sigmoid.\n",
        "    \"\"\"\n",
        "    return 1 / (1 + np.exp(-x))\n",
        "\n",
        "def sigmoid_derivative(x):\n",
        "    \"\"\"\n",
        "    Derivative of sigmoid activation function.\n",
        "\n",
        "    Parameters:\n",
        "    - x: Input numpy array.\n",
        "\n",
        "    Returns:\n",
        "    - Derivative of sigmoid.\n",
        "    \"\"\"\n",
        "    sig = sigmoid(x)\n",
        "    return sig * (1 - sig)"
      ]
    },
    {
      "cell_type": "markdown",
      "metadata": {
        "id": "h6HxkvToEDjr"
      },
      "source": [
        "TODO: Perform forward propagation through the network.\n",
        "\n",
        "    Parameters:\n",
        "    - X: Input data (shape: number of examples x input size).\n",
        "    - parameters: Dictionary containing weights and biases.\n",
        "\n",
        "    Returns:\n",
        "    - A2: Output of the network (after activation).\n",
        "    - cache: Dictionary containing intermediate values for backpropagation."
      ]
    },
    {
      "cell_type": "code",
      "execution_count": null,
      "metadata": {
        "id": "4ylVbZoXECpn"
      },
      "outputs": [],
      "source": [
        "def forward_propagation(X, parameters):\n",
        "    \"\"\"\n",
        "    Perform forward propagation through the network.\n",
        "\n",
        "    Parameters:\n",
        "    - X: Input data (shape: number of examples x input size).\n",
        "    - parameters: Dictionary containing weights and biases.\n",
        "\n",
        "    Returns:\n",
        "    - A2: Output of the network (after activation).\n",
        "    - cache: Dictionary containing intermediate values for backpropagation.\n",
        "    \"\"\"\n",
        "    Z1 = np.dot(X, parameters['W1']) + parameters['b1']\n",
        "    A1 = relu(Z1)\n",
        "    Z2 = np.dot(A1, parameters['W2']) + parameters['b2']\n",
        "    A2 = sigmoid(Z2)\n",
        "    cache = {'Z1': Z1, 'A1': A1, 'Z2': Z2, 'A2': A2}\n",
        "    return A2, cache"
      ]
    },
    {
      "cell_type": "markdown",
      "metadata": {
        "id": "-KtURRNUC_NP"
      },
      "source": [
        "TODO: Implement the loss function. Compute the categorical cross-entropy loss.\n",
        "\n",
        "    Parameters:\n",
        "    - y_true: True labels (one-hot encoded).\n",
        "    - y_pred: Predicted probabilities (output of the network).\n",
        "\n",
        "    Returns:\n",
        "    - loss: Computed loss."
      ]
    },
    {
      "cell_type": "code",
      "execution_count": null,
      "metadata": {
        "id": "advoE8kEC-vk"
      },
      "outputs": [],
      "source": [
        "def compute_loss(y_true, y_pred):\n",
        "    \"\"\"\n",
        "    Compute the categorical cross-entropy loss.\n",
        "\n",
        "    Parameters:\n",
        "    - y_true: True labels (one-hot encoded).\n",
        "    - y_pred: Predicted probabilities (output of the network).\n",
        "\n",
        "    Returns:\n",
        "    - loss: Computed loss.\n",
        "    \"\"\"\n",
        "    m = y_true.shape[0]\n",
        "    loss = -np.sum(y_true * np.log(y_pred + 1e-8)) / m\n",
        "    return loss"
      ]
    },
    {
      "cell_type": "markdown",
      "metadata": {
        "id": "s5V1D0jUDK3B"
      },
      "source": [
        "TODO: Implement backpropagation for the network and Perform backward propagation through the network.\n",
        "\n",
        "    Parameters:\n",
        "    - X: Input data.\n",
        "    - y_true: True labels.\n",
        "    - parameters: Dictionary containing weights and biases.\n",
        "    - cache: Intermediate values from forward propagation.\n",
        "\n",
        "    Returns:\n",
        "    - gradients: Dictionary containing gradients for weights and biases."
      ]
    },
    {
      "cell_type": "code",
      "execution_count": null,
      "metadata": {
        "id": "4CxAo9FlBG18"
      },
      "outputs": [],
      "source": [
        "def backward_propagation(X, y_true, parameters, cache):\n",
        "    \"\"\"\n",
        "    Perform backward propagation through the network.\n",
        "\n",
        "    Parameters:\n",
        "    - X: Input data.\n",
        "    - y_true: True labels.\n",
        "    - parameters: Dictionary containing weights and biases.\n",
        "    - cache: Intermediate values from forward propagation.\n",
        "\n",
        "    Returns:\n",
        "    - gradients: Dictionary containing gradients for weights and biases.\n",
        "    \"\"\"\n",
        "    m = X.shape[0]\n",
        "    A1, A2 = cache['A1'], cache['A2']\n",
        "    Z1, Z2 = cache['Z1'], cache['Z2']\n",
        "\n",
        "    dZ2 = A2 - y_true\n",
        "    dW2 = np.dot(A1.T, dZ2) / m\n",
        "    db2 = np.sum(dZ2, axis=0, keepdims=True) / m\n",
        "\n",
        "    dA1 = np.dot(dZ2, parameters['W2'].T)\n",
        "    dZ1 = dA1 * relu_derivative(Z1)\n",
        "    dW1 = np.dot(X.T, dZ1) / m\n",
        "    db1 = np.sum(dZ1, axis=0, keepdims=True) / m\n",
        "\n",
        "    gradients = {'W1': dW1, 'b1': db1, 'W2': dW2, 'b2': db2}\n",
        "    return gradients"
      ]
    },
    {
      "cell_type": "markdown",
      "metadata": {
        "id": "LG2cvi3DDe4Q"
      },
      "source": [
        "TODO: Update the parameters using gradient descent.\n",
        "\n",
        "    Parameters:\n",
        "    - parameters: Current weights and biases.\n",
        "    - gradients: Calculated gradients.\n",
        "    - learning_rate: Learning rate for updates.\n",
        "\n",
        "    Returns:\n",
        "    - parameters: Updated weights and biases."
      ]
    },
    {
      "cell_type": "code",
      "execution_count": null,
      "metadata": {
        "id": "9uMGXPGqDdk4"
      },
      "outputs": [],
      "source": [
        "def update_parameters(parameters, gradients, learning_rate=0.01):\n",
        "    \"\"\"\n",
        "    Update parameters using gradient descent.\n",
        "\n",
        "    Parameters:\n",
        "    - parameters: Current weights and biases.\n",
        "    - gradients: Calculated gradients.\n",
        "    - learning_rate: Learning rate for updates.\n",
        "\n",
        "    Returns:\n",
        "    - parameters: Updated weights and biases.\n",
        "    \"\"\"\n",
        "    parameters['W1'] -= learning_rate * gradients['W1']\n",
        "    parameters['b1'] -= learning_rate * gradients['b1']\n",
        "    parameters['W2'] -= learning_rate * gradients['W2']\n",
        "    parameters['b2'] -= learning_rate * gradients['b2']\n",
        "    return parameters"
      ]
    },
    {
      "cell_type": "markdown",
      "metadata": {
        "id": "5E4UZg1SD2bM"
      },
      "source": [
        "TODO: Train the model by changing the hidden layer size (such as [32, 64, 128]) and observe the impact on network performance during training.\n",
        "\n",
        "    Train the neural network model.\n",
        "\n",
        "    Parameters:\n",
        "    - X_train: Training data.\n",
        "    - y_train: One-hot encoded labels.\n",
        "    - hidden_size: Number of neurons in the hidden layer.\n",
        "    - epochs: Number of training epochs.\n",
        "    - learning_rate: Learning rate for optimization."
      ]
    },
    {
      "cell_type": "code",
      "execution_count": null,
      "metadata": {
        "colab": {
          "base_uri": "https://localhost:8080/"
        },
        "id": "GlsAvdUCDzSb",
        "outputId": "aa1b3cef-c9e9-4a56-8ac8-559b1a5c7c53"
      },
      "outputs": [
        {
          "output_type": "stream",
          "name": "stdout",
          "text": [
            "\n",
            "Training with hidden layer size: 32\n",
            "Epoch 0, Loss: 0.7276\n",
            "Epoch 10, Loss: 1.2612\n",
            "Epoch 20, Loss: 1.7215\n",
            "Epoch 30, Loss: 1.8874\n",
            "Epoch 40, Loss: 1.9133\n",
            "\n",
            "Training with hidden layer size: 64\n",
            "Epoch 0, Loss: 0.6585\n",
            "Epoch 10, Loss: 1.5540\n",
            "Epoch 20, Loss: 1.8890\n",
            "Epoch 30, Loss: 1.9381\n",
            "Epoch 40, Loss: 1.8956\n",
            "\n",
            "Training with hidden layer size: 128\n",
            "Epoch 0, Loss: 0.7889\n",
            "Epoch 10, Loss: 1.7994\n",
            "Epoch 20, Loss: 1.8397\n",
            "Epoch 30, Loss: 1.7469\n",
            "Epoch 40, Loss: 1.6446\n"
          ]
        }
      ],
      "source": [
        "# Training Loop\n",
        "def train_model(X_train, y_train, hidden_size, epochs=50, learning_rate=0.01):\n",
        "    \"\"\"\n",
        "    Train the neural network model.\n",
        "\n",
        "    Parameters:\n",
        "    - X_train: Training data.\n",
        "    - y_train: One-hot encoded labels.\n",
        "    - hidden_size: Number of neurons in the hidden layer.\n",
        "    - epochs: Number of training epochs.\n",
        "    - learning_rate: Learning rate for optimization.\n",
        "    \"\"\"\n",
        "    input_size = X_train.shape[1]\n",
        "    output_size = y_train.shape[1]\n",
        "    parameters = initialize_parameters(input_size, hidden_size, output_size)\n",
        "    loss_history = []\n",
        "    for epoch in range(epochs):\n",
        "        A2, cache = forward_propagation(X_train, parameters)\n",
        "        loss = compute_loss(y_train, A2)\n",
        "        gradients = backward_propagation(X_train, y_train, parameters, cache)\n",
        "        parameters = update_parameters(parameters, gradients, learning_rate)\n",
        "        loss_history.append(loss)\n",
        "        if epoch % 10 == 0:\n",
        "            print(f\"Epoch {epoch}, Loss: {loss:.4f}\")\n",
        "    return parameters, loss_history\n",
        "\n",
        "hidden_layer_sizes = [32, 64, 128]\n",
        "for hidden_size in hidden_layer_sizes:\n",
        "    print(f\"\\nTraining with hidden layer size: {hidden_size}\")\n",
        "    parameters, loss_history = train_model(x_train, y_train, hidden_size)"
      ]
    },
    {
      "cell_type": "markdown",
      "metadata": {
        "id": "YuCNlJCHKf1S"
      },
      "source": [
        "TODO: Implement Adam Optimizer\n",
        "\n",
        "1. Initialize Parameters: Create variables to store the moment estimates (first and second) for each parameter.\n",
        "\n",
        "    Parameters:\n",
        "    - parameters: Dictionary containing weights and biases.\n",
        "\n",
        "    Returns:\n",
        "    - v: First moment vector (initialized to zeros).\n",
        "    - s: Second moment vector (initialized to zeros).\n",
        "    - t: Time step (initialized to 0).\n",
        "\n",
        "2. Update Rules: Implement the update rules based on the gradients, learning rate, and moment estimates.\n"
      ]
    },
    {
      "cell_type": "code",
      "execution_count": null,
      "metadata": {
        "id": "Iqy1_rfsKP8b"
      },
      "outputs": [],
      "source": [
        "def initialize_adam(parameters):\n",
        "    \"\"\"\n",
        "    Initialize the Adam optimizer variables.\n",
        "\n",
        "    Parameters:\n",
        "    - parameters: Dictionary containing weights and biases.\n",
        "\n",
        "    Returns:\n",
        "    - v: First moment vector (initialized to zeros).\n",
        "    - s: Second moment vector (initialized to zeros).\n",
        "    - t: Time step (initialized to 0).\n",
        "    \"\"\"\n",
        "    v = {key: np.zeros_like(value) for key, value in parameters.items()}\n",
        "    s = {key: np.zeros_like(value) for key, value in parameters.items()}\n",
        "    t = 0\n",
        "    return v, s, t\n",
        "\n",
        "def update_parameters_with_adam(parameters, gradients, v, s, t, learning_rate=0.001, beta1=0.9, beta2=0.999, epsilon=1e-8):\n",
        "    \"\"\"\n",
        "    Update parameters using the Adam optimizer.\n",
        "\n",
        "    Parameters:\n",
        "    - parameters: Current weights and biases.\n",
        "    - gradients: Calculated gradients.\n",
        "    - v: First moment vector.\n",
        "    - s: Second moment vector.\n",
        "    - t: Time step.\n",
        "    - learning_rate: Learning rate for updates.\n",
        "    - beta1: Exponential decay rate for the first moment estimates.\n",
        "    - beta2: Exponential decay rate for the second moment estimates.\n",
        "    - epsilon: Small constant for numerical stability.\n",
        "\n",
        "    Returns:\n",
        "    - parameters: Updated weights and biases.\n",
        "    - v: Updated first moment vector.\n",
        "    - s: Updated second moment vector.\n",
        "    - t: Updated time step.\n",
        "    \"\"\"\n",
        "    t += 1\n",
        "    for key in parameters.keys():\n",
        "        v[key] = beta1 * v[key] + (1 - beta1) * gradients[key]\n",
        "        s[key] = beta2 * s[key] + (1 - beta2) * (gradients[key] ** 2)\n",
        "\n",
        "        v_corrected = v[key] / (1 - beta1 ** t)\n",
        "        s_corrected = s[key] / (1 - beta2 ** t)\n",
        "\n",
        "        parameters[key] -= learning_rate * v_corrected / (np.sqrt(s_corrected) + epsilon)\n",
        "    return parameters, v, s, t"
      ]
    },
    {
      "cell_type": "markdown",
      "metadata": {
        "id": "-mU6NQXdLQd_"
      },
      "source": [
        "TODO: Implement Adam optimizer into the training loop."
      ]
    },
    {
      "cell_type": "code",
      "execution_count": null,
      "metadata": {
        "colab": {
          "base_uri": "https://localhost:8080/"
        },
        "id": "NMPqxphzKSv8",
        "outputId": "eca337cb-dc7f-4dc3-9b68-1f01b2ceb69b"
      },
      "outputs": [
        {
          "output_type": "stream",
          "name": "stdout",
          "text": [
            "\n",
            "Training with hidden layer size: 32\n",
            "Epoch 0, Loss: 0.8002\n",
            "Epoch 10, Loss: 1.3409\n",
            "Epoch 20, Loss: 1.8378\n",
            "Epoch 30, Loss: 2.0219\n",
            "Epoch 40, Loss: 2.0617\n",
            "\n",
            "Training with hidden layer size: 64\n",
            "Epoch 0, Loss: 0.9844\n",
            "Epoch 10, Loss: 1.8088\n",
            "Epoch 20, Loss: 1.9919\n",
            "Epoch 30, Loss: 1.9796\n",
            "Epoch 40, Loss: 1.9185\n",
            "\n",
            "Training with hidden layer size: 128\n",
            "Epoch 0, Loss: 0.6860\n",
            "Epoch 10, Loss: 1.8556\n",
            "Epoch 20, Loss: 1.9307\n",
            "Epoch 30, Loss: 1.8265\n",
            "Epoch 40, Loss: 1.7044\n"
          ]
        }
      ],
      "source": [
        "def train_model_with_adam(X_train, y_train, hidden_size, epochs=50, learning_rate=0.001):\n",
        "    \"\"\"\n",
        "    Train the neural network model using Adam optimizer.\n",
        "\n",
        "    Parameters:\n",
        "    - X_train: Training data.\n",
        "    - y_train: One-hot encoded labels.\n",
        "    - hidden_size: Number of neurons in the hidden layer.\n",
        "    - epochs: Number of training epochs.\n",
        "    - learning_rate: Learning rate for optimization.\n",
        "    \"\"\"\n",
        "    input_size = X_train.shape[1]\n",
        "    output_size = y_train.shape[1]\n",
        "    parameters = initialize_parameters(input_size, hidden_size, output_size)\n",
        "    v, s, t = initialize_adam(parameters)\n",
        "    loss_history = []\n",
        "    for epoch in range(epochs):\n",
        "        A2, cache = forward_propagation(X_train, parameters)\n",
        "        loss = compute_loss(y_train, A2)\n",
        "        gradients = backward_propagation(X_train, y_train, parameters, cache)\n",
        "        parameters, v, s, t = update_parameters_with_adam(parameters, gradients, v, s, t, learning_rate)\n",
        "        loss_history.append(loss)\n",
        "        if epoch % 10 == 0:\n",
        "            print(f\"Epoch {epoch}, Loss: {loss}\")\n",
        "    return parameters, loss_history\n",
        "\n",
        "for hidden_size in hidden_layer_sizes:\n",
        "    print(f\"\\nTraining with hidden layer size: {hidden_size}\")\n",
        "    parameters, loss_history = train_model(x_train, y_train, hidden_size)"
      ]
    },
    {
      "cell_type": "markdown",
      "metadata": {
        "id": "fEZVkGGplXP4"
      },
      "source": [
        "### Compare Adam and RMSprop\n"
      ]
    },
    {
      "cell_type": "markdown",
      "metadata": {
        "id": "7BxQoqf8ak2k"
      },
      "source": [
        "TODO: First, implement the RMSprop optimizer. The RMSprop optimizer uses a moving average of squared gradients to normalize the gradient, which helps to stabilize the updates."
      ]
    },
    {
      "cell_type": "code",
      "execution_count": null,
      "metadata": {
        "id": "117xMpE6avQ2"
      },
      "outputs": [],
      "source": [
        "def initialize_rmsprop(parameters):\n",
        "    \"\"\"\n",
        "    Initialize the RMSprop variables.\n",
        "\n",
        "    Parameters:\n",
        "    - parameters: Dictionary containing weights and biases.\n",
        "\n",
        "    Returns:\n",
        "    - s: Second moment vector (initialized to zeros).\n",
        "    \"\"\"\n",
        "    s = {}\n",
        "    for key in parameters.keys():\n",
        "        s[key] = np.zeros_like(parameters[key])\n",
        "    return s\n",
        "\n",
        "def update_parameters_with_rmsprop(parameters, gradients, s, learning_rate=0.001, beta=0.9, epsilon=1e-8):\n",
        "    \"\"\"\n",
        "    Update parameters using the RMSprop optimizer.\n",
        "\n",
        "    Parameters:\n",
        "    - parameters: Current weights and biases.\n",
        "    - gradients: Calculated gradients.\n",
        "    - s: Second moment vector.\n",
        "    - learning_rate: Learning rate for updates.\n",
        "    - beta: Exponential decay rate for the second moment estimates.\n",
        "    - epsilon: Small constant for numerical stability.\n",
        "\n",
        "    Returns:\n",
        "    - parameters: Updated weights and biases.\n",
        "    - s: Updated second moment vector.\n",
        "    \"\"\"\n",
        "    for key in parameters.keys():\n",
        "        s[key] = beta * s[key] + (1 - beta) * np.square(gradients[key])\n",
        "        parameters[key] -= learning_rate * gradients[key] / (np.sqrt(s[key]) + epsilon)\n",
        "    return parameters, s"
      ]
    },
    {
      "cell_type": "markdown",
      "metadata": {
        "id": "GWJg1GjFayY2"
      },
      "source": [
        "TODO: Modify the training loop to allow for both optimizers and store the loss history for comparison."
      ]
    },
    {
      "cell_type": "code",
      "execution_count": null,
      "metadata": {
        "id": "iwcuRTkja5pT"
      },
      "outputs": [],
      "source": [
        "def train_model(X_train, y_train, hidden_size, epochs=50, learning_rate=0.001, optimizer='adam'):\n",
        "    \"\"\"\n",
        "    Train the neural network model using specified optimizer.\n",
        "\n",
        "    Parameters:\n",
        "    - X_train: Training data.\n",
        "    - y_train: One-hot encoded labels.\n",
        "    - hidden_size: Number of neurons in the hidden layer.\n",
        "    - epochs: Number of training epochs.\n",
        "    - learning_rate: Learning rate for optimization.\n",
        "    - optimizer: The optimizer to use ('adam' or 'rmsprop').\n",
        "\n",
        "    Returns:\n",
        "    - loss_history: List of loss values over epochs.\n",
        "    \"\"\"\n",
        "    parameters = initialize_parameters(X_train.shape[1], hidden_size, y_train.shape[1])\n",
        "    loss_history = []\n",
        "    if optimizer == 'adam':\n",
        "        v, s, t = initialize_adam(parameters)\n",
        "    elif optimizer == 'rmsprop':\n",
        "        s = initialize_rmsprop(parameters)\n",
        "    for epoch in range(epochs):\n",
        "        A2, cache = forward_propagation(X_train, parameters)\n",
        "        loss = compute_loss(y_train, A2)\n",
        "        gradients = backward_propagation(X_train, y_train, parameters, cache)\n",
        "        if optimizer == 'adam':\n",
        "            t += 1\n",
        "            parameters, v, s,_ = update_parameters_with_adam(parameters, gradients, v, s, t, learning_rate)\n",
        "        elif optimizer == 'rmsprop':\n",
        "            parameters, s = update_parameters_with_rmsprop(parameters, gradients, s, learning_rate)\n",
        "        loss_history.append(loss)\n",
        "        if epoch % 10 == 0:\n",
        "            print(f\"Epoch {epoch}, Loss: {loss:.4f}\")\n",
        "    return parameters, loss_history"
      ]
    },
    {
      "cell_type": "markdown",
      "metadata": {
        "id": "g5cPzN1ma9Xi"
      },
      "source": [
        "TODO:  Compare Both Optimizers. Create a function to train the model using both optimizers and plot the loss histories for comparison."
      ]
    },
    {
      "cell_type": "code",
      "execution_count": null,
      "metadata": {
        "id": "-z5eRURgbDIG",
        "colab": {
          "base_uri": "https://localhost:8080/",
          "height": 818
        },
        "outputId": "457a40c6-b673-44d9-e687-d02d23e685a9"
      },
      "outputs": [
        {
          "output_type": "stream",
          "name": "stdout",
          "text": [
            "\n",
            "Training with Adam optimizer...\n",
            "Epoch 0, Loss: 0.7334\n",
            "Epoch 10, Loss: 1.8893\n",
            "Epoch 20, Loss: 2.1367\n",
            "Epoch 30, Loss: 1.3925\n",
            "Epoch 40, Loss: 1.1140\n",
            "\n",
            "Training with Rmsprop optimizer...\n",
            "Epoch 0, Loss: 0.8399\n",
            "Epoch 10, Loss: 1.4601\n",
            "Epoch 20, Loss: 1.1960\n",
            "Epoch 30, Loss: 1.0485\n",
            "Epoch 40, Loss: 0.9665\n"
          ]
        },
        {
          "output_type": "display_data",
          "data": {
            "text/plain": [
              "<Figure size 1000x600 with 1 Axes>"
            ],
            "image/png": "[encoded data removed]"
          },
          "metadata": {}
        }
      ],
      "source": [
        "def compare_optimizers(X_train, y_train, hidden_size=64, epochs=50):\n",
        "    \"\"\"\n",
        "    Compare the Adam and RMSprop optimizers.\n",
        "\n",
        "    Parameters:\n",
        "    - X_train: Training data.\n",
        "    - y_train: One-hot encoded labels.\n",
        "    - hidden_size: Number of neurons in the hidden layer.\n",
        "    - epochs: Number of training epochs.\n",
        "    \"\"\"\n",
        "    optimizers = ['adam', 'rmsprop']\n",
        "    histories = {}\n",
        "    for opt in optimizers:\n",
        "        print(f\"\\nTraining with {opt.capitalize()} optimizer...\")\n",
        "        parameters, loss_history = train_model(x_train, y_train, hidden_size, epochs=epochs, optimizer=opt)\n",
        "        histories[opt] = loss_history\n",
        "    plt.figure(figsize=(10, 6))\n",
        "    for opt in optimizers:\n",
        "        plt.plot(histories[opt], label=f\"{opt.capitalize()} Loss\")\n",
        "    plt.title(\"Loss Comparison between Adam and RMSprop\")\n",
        "    plt.xlabel(\"Epochs\")\n",
        "    plt.ylabel(\"Loss\")\n",
        "    plt.legend()\n",
        "    plt.grid()\n",
        "    plt.show()\n",
        "\n",
        "compare_optimizers(x_train, y_train)"
      ]
    },
    {
      "cell_type": "markdown",
      "metadata": {
        "id": "pueHFmTUlXP5"
      },
      "source": [
        "## Stochastic Gradient Descent (SGD)"
      ]
    },
    {
      "cell_type": "markdown",
      "metadata": {
        "id": "3zrSW4LilXP5"
      },
      "source": [
        "### Impact of Different Learning Rates on SGD\n"
      ]
    },
    {
      "cell_type": "markdown",
      "metadata": {
        "id": "BU9BiBsKcWjb"
      },
      "source": [
        "Explore the impact of different learning rates on the training dynamics and performance of Stochastic Gradient Descent (SGD). This will allow us to observe how the learning rate affects convergence speed, stability, and final performance.\n",
        "\n",
        "Steps for Implementing the Experiment\n",
        "\n",
        "1. Define the SGD Optimizer: Implement a simple SGD optimizer.\n",
        "2. Modify the Training Loop: Allow for different learning rates.\n",
        "3. Train the Model: Run the training process with a set of predefined learning rates.\n",
        "4. Visualize the Results: Plot the loss curves for each learning rate to compare their effects"
      ]
    },
    {
      "cell_type": "markdown",
      "metadata": {
        "id": "vDRSuNVrcvVI"
      },
      "source": [
        "1. Implement SGD Optimizer\n"
      ]
    },
    {
      "cell_type": "code",
      "execution_count": null,
      "metadata": {
        "id": "r9UE2OHfcwCe"
      },
      "outputs": [],
      "source": [
        "def update_parameters_with_sgd(parameters, gradients, learning_rate=0.01):\n",
        "    \"\"\"\n",
        "    Update parameters using Stochastic Gradient Descent (SGD).\n",
        "\n",
        "    Parameters:\n",
        "    - parameters: Current weights and biases.\n",
        "    - gradients: Calculated gradients.\n",
        "    - learning_rate: Learning rate for updates.\n",
        "\n",
        "    Returns:\n",
        "    - parameters: Updated weights and biases.\n",
        "    \"\"\"\n",
        "    parameters['W1'] -= learning_rate * gradients['W1']\n",
        "    parameters['b1'] -= learning_rate * gradients['b1']\n",
        "    parameters['W2'] -= learning_rate * gradients['W2']\n",
        "    parameters['b2'] -= learning_rate * gradients['b2']\n",
        "    return parameters"
      ]
    },
    {
      "cell_type": "markdown",
      "metadata": {
        "id": "O4qIjyg9cyXB"
      },
      "source": [
        "2. Modify the Training Loop\n"
      ]
    },
    {
      "cell_type": "code",
      "execution_count": null,
      "metadata": {
        "id": "U1gKM56IdBH-"
      },
      "outputs": [],
      "source": [
        "def train_model_with_sgd(X_train, y_train, hidden_size, epochs=50, learning_rate=0.01):\n",
        "    \"\"\"\n",
        "    Train the neural network model using SGD optimizer.\n",
        "\n",
        "    Parameters:\n",
        "    - X_train: Training data.\n",
        "    - y_train: One-hot encoded labels.\n",
        "    - hidden_size: Number of neurons in the hidden layer.\n",
        "    - epochs: Number of training epochs.\n",
        "    - learning_rate: Learning rate for optimization.\n",
        "\n",
        "    Returns:\n",
        "    - loss_history: List of loss values over epochs.\n",
        "    \"\"\"\n",
        "    parameters = initialize_parameters(X_train.shape[1], hidden_size, y_train.shape[1])\n",
        "    loss_history = []\n",
        "    for epoch in range(epochs):\n",
        "        A2, cache = forward_propagation(X_train, parameters)\n",
        "        loss = compute_loss(y_train, A2)\n",
        "        gradients = backward_propagation(X_train, y_train, parameters, cache)\n",
        "        parameters = update_parameters_with_sgd(parameters, gradients, learning_rate)\n",
        "        loss_history.append(loss)\n",
        "        if epoch % 10 == 0:\n",
        "            print(f\"Epoch {epoch}, Loss (learning rate {learning_rate}): {loss:.4f}\")\n",
        "    return parameters, loss_history"
      ]
    },
    {
      "cell_type": "markdown",
      "metadata": {
        "id": "CeQpjFQHdD4v"
      },
      "source": [
        "3. Experiment with Different Learning Rates\n"
      ]
    },
    {
      "cell_type": "code",
      "execution_count": null,
      "metadata": {
        "colab": {
          "base_uri": "https://localhost:8080/",
          "height": 945
        },
        "id": "FvFIXxFRdGDv",
        "outputId": "980235b9-2371-42b4-b8c8-535763f9995b"
      },
      "outputs": [
        {
          "output_type": "stream",
          "name": "stdout",
          "text": [
            "\n",
            "Training with learning rate: 0.001\n",
            "Epoch 0, Loss (learning rate 0.001): 0.7973\n",
            "Epoch 10, Loss (learning rate 0.001): 0.9562\n",
            "Epoch 20, Loss (learning rate 0.001): 1.0982\n",
            "Epoch 30, Loss (learning rate 0.001): 1.2224\n",
            "Epoch 40, Loss (learning rate 0.001): 1.3297\n",
            "\n",
            "Training with learning rate: 0.01\n",
            "Epoch 0, Loss (learning rate 0.01): 0.6257\n",
            "Epoch 10, Loss (learning rate 0.01): 1.6389\n",
            "Epoch 20, Loss (learning rate 0.01): 1.7833\n",
            "Epoch 30, Loss (learning rate 0.01): 1.7314\n",
            "Epoch 40, Loss (learning rate 0.01): 1.6443\n",
            "\n",
            "Training with learning rate: 0.1\n",
            "Epoch 0, Loss (learning rate 0.1): 0.9509\n",
            "Epoch 10, Loss (learning rate 0.1): 1.3869\n",
            "Epoch 20, Loss (learning rate 0.1): 1.0647\n",
            "Epoch 30, Loss (learning rate 0.1): 0.9352\n",
            "Epoch 40, Loss (learning rate 0.1): 0.8636\n"
          ]
        },
        {
          "output_type": "display_data",
          "data": {
            "text/plain": [
              "<Figure size 800x600 with 1 Axes>"
            ],
            "image/png": "[encoded data removed]"
          },
          "metadata": {}
        }
      ],
      "source": [
        "def compare_learning_rates(X_train, y_train, hidden_size, epochs=50, learning_rates=[0.001, 0.01, 0.1]):\n",
        "    \"\"\"\n",
        "    Compare the performance of SGD with different learning rates.\n",
        "\n",
        "    Parameters:\n",
        "    - X_train: Training data.\n",
        "    - y_train: One-hot encoded labels.\n",
        "    - hidden_size: Number of neurons in the hidden layer.\n",
        "    - epochs: Number of training epochs.\n",
        "    - learning_rates: List of learning rates to test.\n",
        "    \"\"\"\n",
        "    histories = {}\n",
        "    for lr in learning_rates:\n",
        "        print(f\"\\nTraining with learning rate: {lr}\")\n",
        "        _, loss_history = train_model_with_sgd(X_train, y_train, hidden_size, epochs, learning_rate=lr)\n",
        "        histories[lr] = loss_history\n",
        "    plt.figure(figsize=(8, 6))\n",
        "    for lr in learning_rates:\n",
        "        plt.plot(histories[lr], label=f\"LR: {lr}\")\n",
        "    plt.title('Learning Rate Comparison')\n",
        "    plt.xlabel('Epochs')\n",
        "    plt.ylabel('Loss')\n",
        "    plt.legend()\n",
        "    plt.show()\n",
        "\n",
        "compare_learning_rates(x_train, y_train, 128)"
      ]
    },
    {
      "cell_type": "markdown",
      "metadata": {
        "id": "IXxuYU7llXP6"
      },
      "source": [
        "### SGD with Momentum vs. Classic SGD\n"
      ]
    },
    {
      "cell_type": "markdown",
      "metadata": {
        "id": "R8dcD51aepnC"
      },
      "source": [
        "TODO: Compare Stochastic Gradient Descent (SGD) with momentum and classic SGD, you can set up an experiment that trains the same model using both methods. This will help you observe differences in convergence speed and stability.\n",
        "\n",
        "Steps for Implementing the Comparison:\n",
        "\n",
        "1. Implement Classic SGD: Ensure you have a basic SGD implementation.(already implemented in the previous cells)\n",
        "\n",
        "2. Implement SGD with Momentum: Add a momentum version of the SGD optimizer.\n",
        "\n",
        "3. Modify the Training Loop: Allow for both optimizers in the training process.\n",
        "\n",
        "4. Train the Model: Run the training process using both optimizers.\n",
        "\n",
        "5. Visualize the Results: Plot the loss curves for each optimizer to compare their performance."
      ]
    },
    {
      "cell_type": "markdown",
      "metadata": {
        "id": "9-czqAXNe_nQ"
      },
      "source": [
        "2. Implement SGD with Momentum\n"
      ]
    },
    {
      "cell_type": "code",
      "execution_count": null,
      "metadata": {
        "id": "8uzLkhWcfB6a"
      },
      "outputs": [],
      "source": [
        "def initialize_momentum(parameters):\n",
        "    \"\"\"\n",
        "    Initialize the momentum variables.\n",
        "\n",
        "    Parameters:\n",
        "    - parameters: Dictionary containing weights and biases.\n",
        "\n",
        "    Returns:\n",
        "    - v: Momentum variable (initialized to zeros).\n",
        "    \"\"\"\n",
        "    v = {}\n",
        "    for key in parameters.keys():\n",
        "        v[key] = np.zeros_like(parameters)\n",
        "    return v\n",
        "\n",
        "def update_parameters_with_momentum(parameters, gradients, v, learning_rate=0.01, beta=0.9):\n",
        "    \"\"\"\n",
        "    Update parameters using SGD with momentum.\n",
        "\n",
        "    Parameters:\n",
        "    - parameters: Current weights and biases.\n",
        "    - gradients: Calculated gradients.\n",
        "    - v: Momentum variable.\n",
        "    - learning_rate: Learning rate for updates.\n",
        "    - beta: Exponential decay rate for momentum.\n",
        "\n",
        "    Returns:\n",
        "    - parameters: Updated weights and biases.\n",
        "    - v: Updated momentum variable.\n",
        "    \"\"\"\n",
        "    for key in parameters:\n",
        "        v[key] = beta * v[key] + (1 - beta) * gradients[key]\n",
        "        parameters[key] -= learning_rate * v[key]\n",
        "    return parameters, v"
      ]
    },
    {
      "cell_type": "markdown",
      "metadata": {
        "id": "k_DvOLijfIFK"
      },
      "source": [
        "3. Modify the Training Loop\n"
      ]
    },
    {
      "cell_type": "code",
      "execution_count": null,
      "metadata": {
        "id": "uz3jxDtCfIuA"
      },
      "outputs": [],
      "source": [
        "def train_model(X_train, y_train, hidden_size, epochs=50, learning_rate=0.01, optimizer='Classic SGD'):\n",
        "    \"\"\"\n",
        "    Train the neural network model using specified optimizer.\n",
        "\n",
        "    Parameters:\n",
        "    - X_train: Training data.\n",
        "    - y_train: One-hot encoded labels.\n",
        "    - hidden_size: Number of neurons in the hidden layer.\n",
        "    - epochs: Number of training epochs.\n",
        "    - learning_rate: Learning rate for optimization.\n",
        "    - optimizer: The optimizer to use ('sgd' or 'momentum').\n",
        "\n",
        "    Returns:\n",
        "    - loss_history: List of loss values over epochs.\n",
        "    \"\"\"\n",
        "    parameters = initialize_parameters(X_train.shape[1], hidden_size, y_train.shape[1])\n",
        "    v = initialize_momentum(parameters)\n",
        "    loss_history = []\n",
        "    for epoch in range(epochs):\n",
        "        A2, cache = forward_propagation(X_train, parameters)\n",
        "        loss = compute_loss(y_train, A2)\n",
        "        gradients = backward_propagation(X_train, y_train, parameters, cache)\n",
        "        if optimizer =='Classic SGD':\n",
        "            parameters = update_parameters_with_sgd(parameters, gradients, learning_rate)\n",
        "        elif optimizer == 'Momentum':\n",
        "            parameters, v = update_parameters_with_momentum(parameters, gradients, v, learning_rate)\n",
        "        loss_history.append(loss)\n",
        "        if epoch % 10 == 0:\n",
        "            print(f\"Epoch {epoch}, Loss ({optimizer}): {loss:.4f}\")\n",
        "    return loss_history"
      ]
    },
    {
      "cell_type": "markdown",
      "metadata": {
        "id": "wVbv6XeYfLbf"
      },
      "source": [
        "4. Train the Model with Both Optimizers\n"
      ]
    },
    {
      "cell_type": "code",
      "execution_count": null,
      "metadata": {
        "colab": {
          "base_uri": "https://localhost:8080/",
          "height": 818
        },
        "id": "0zEcNXJGfOTf",
        "outputId": "0a72a2b0-8808-4ab6-b687-d235665be53a"
      },
      "outputs": [
        {
          "output_type": "stream",
          "name": "stdout",
          "text": [
            "\n",
            "Training with Classic sgd ...\n",
            "Epoch 0, Loss (Classic SGD): 0.6256\n",
            "Epoch 10, Loss (Classic SGD): 1.3375\n",
            "Epoch 20, Loss (Classic SGD): 1.7542\n",
            "Epoch 30, Loss (Classic SGD): 1.8536\n",
            "Epoch 40, Loss (Classic SGD): 1.8373\n",
            "\n",
            "Training with Momentum ...\n",
            "Epoch 0, Loss (Momentum): 0.6963\n",
            "Epoch 10, Loss (Momentum): 1.2147\n",
            "Epoch 20, Loss (Momentum): 2.0849\n",
            "Epoch 30, Loss (Momentum): 2.5076\n",
            "Epoch 40, Loss (Momentum): 2.3708\n"
          ]
        },
        {
          "output_type": "display_data",
          "data": {
            "text/plain": [
              "<Figure size 1000x600 with 1 Axes>"
            ],
            "image/png": "[encoded data removed]"
          },
          "metadata": {}
        }
      ],
      "source": [
        "def compare_sgd_and_momentum(X_train, y_train, hidden_size, epochs=50):\n",
        "    \"\"\"\n",
        "    Compare the performance of classic SGD and SGD with momentum.\n",
        "\n",
        "    Parameters:\n",
        "    - X_train: Training data.\n",
        "    - y_train: One-hot encoded labels.\n",
        "    - hidden_size: Number of neurons in the hidden layer.\n",
        "    - epochs: Number of training epochs.\n",
        "    \"\"\"\n",
        "    optimizers = ['Classic SGD', 'Momentum']\n",
        "    histories = {}\n",
        "    for opt in optimizers:\n",
        "        print(f\"\\nTraining with {opt.capitalize()} ...\")\n",
        "        loss_history = train_model(x_train, y_train, hidden_size, epochs=epochs, optimizer=opt)\n",
        "        histories[opt] = loss_history\n",
        "    plt.figure(figsize=(10, 6))\n",
        "    for opt in optimizers:\n",
        "        plt.plot(histories[opt], label=f\"{opt.capitalize()} Loss\")\n",
        "    plt.title(\"Loss Comparison between Classic SGD and Momentum\")\n",
        "    plt.xlabel(\"Epochs\")\n",
        "    plt.ylabel(\"Loss\")\n",
        "    plt.legend()\n",
        "    plt.grid()\n",
        "    plt.show()\n",
        "\n",
        "compare_sgd_and_momentum(x_train, y_train, 64)"
      ]
    },
    {
      "cell_type": "markdown",
      "metadata": {
        "id": "OhaXIjuClXP6"
      },
      "source": [
        "## Mini-Batch Gradient Descent"
      ]
    },
    {
      "cell_type": "markdown",
      "metadata": {
        "id": "wpBVHm6elXP6"
      },
      "source": [
        "### Mini-Batch Size Optimization"
      ]
    },
    {
      "cell_type": "markdown",
      "metadata": {
        "id": "rUDwKXOAgc2h"
      },
      "source": [
        "TODO: Investigate how different mini-batch sizes affect model performance, you can set up an experiment where you train the same model using various mini-batch sizes.\n",
        "\n",
        "Steps for Implementing the Mini-Batch Size Experiment\n",
        "\n",
        "1. Modify the Training Loop: Update the training loop to use mini-batches.\n",
        "2. Train the Model: Run the training process with a set of predefined mini-batch sizes.\n",
        "3. Evaluate Performance: Track training time and accuracy for each mini-batch size.\n",
        "4. Print the training losses and accuracies for comparison."
      ]
    },
    {
      "cell_type": "markdown",
      "metadata": {
        "id": "sz2dJu_PgvJH"
      },
      "source": [
        "1. Modify the Training Loop for Mini-Batches\n"
      ]
    },
    {
      "cell_type": "code",
      "execution_count": null,
      "metadata": {
        "id": "2eBWqUKwgqqN"
      },
      "outputs": [],
      "source": [
        "def train_model_with_mini_batches(X_train, y_train, hidden_size, epochs=50, learning_rate=0.01, batch_size=32):\n",
        "    \"\"\"\n",
        "    Train the neural network model using mini-batches.\n",
        "\n",
        "    Parameters:\n",
        "    - X_train: Training data.\n",
        "    - y_train: One-hot encoded labels.\n",
        "    - hidden_size: Number of neurons in the hidden layer.\n",
        "    - epochs: Number of training epochs.\n",
        "    - learning_rate: Learning rate for optimization.\n",
        "    - batch_size: Size of mini-batches.\n",
        "\n",
        "    Returns:\n",
        "    - loss_history: List of loss values over epochs.\n",
        "    - accuracy_history: List of accuracy values over epochs.\n",
        "    \"\"\"\n",
        "    parameters = initialize_parameters(X_train.shape[1], hidden_size, y_train.shape[1])\n",
        "    loss_history = []\n",
        "    accuracy_history = []\n",
        "    num_batches = X_train.shape[0]\n",
        "    for epoch in range(epochs):\n",
        "        epoch_loss = 0\n",
        "        for i in range(num_batches):\n",
        "            batch_X = X_train[i:i+batch_size]\n",
        "            batch_y = y_train[i:i+batch_size]\n",
        "            A2, cache = forward_propagation(batch_X, parameters)\n",
        "            loss = compute_loss(batch_y, A2)\n",
        "            gradients = backward_propagation(batch_X, batch_y, parameters, cache)\n",
        "            parameters = update_parameters(parameters, gradients, learning_rate)\n",
        "            epoch_loss += loss\n",
        "        loss_history.append(epoch_loss / (num_batches // batch_size))\n",
        "        A2_full, _ = forward_propagation(X_train, parameters)\n",
        "        predictions = np.argmax(A2_full, axis=1)\n",
        "        labels = np.argmax(y_train, axis=1)\n",
        "        accuracy = np.mean(predictions == labels)\n",
        "        accuracy_history.append(accuracy)\n",
        "        if epoch % 10 == 0:\n",
        "            print(f\"Epoch {epoch}, Loss: {epoch_loss / (num_batches // batch_size):.4f}, Accuracy: {accuracy:.4f}\")\n",
        "    return parameters, loss_history"
      ]
    },
    {
      "cell_type": "markdown",
      "metadata": {
        "id": "ja1aWHjwgwMl"
      },
      "source": [
        "2. Train the Model with Different Mini-Batch Sizes\n"
      ]
    },
    {
      "cell_type": "code",
      "execution_count": 143,
      "metadata": {
        "colab": {
          "base_uri": "https://localhost:8080/"
        },
        "id": "R7vvj-y_is_k",
        "outputId": "b0d8eb29-e43d-4c42-bcdb-d9eab0191dbf"
      },
      "outputs": [
        {
          "output_type": "stream",
          "name": "stdout",
          "text": [
            "Training with mini-batch size: 16\n",
            "Epoch 0, Loss: 0.7233, Accuracy: 0.6875\n",
            "Epoch 10, Loss: 0.4548, Accuracy: 0.8750\n",
            "Epoch 20, Loss: 0.2091, Accuracy: 0.8750\n",
            "Epoch 30, Loss: 0.2622, Accuracy: 0.9375\n",
            "Epoch 40, Loss: 0.3242, Accuracy: 0.9375\n",
            "Final Loss for batch size 16: 0.3031\n",
            "Final Accuracy for batch size 16: 0.8750\n",
            "\n",
            "Training with mini-batch size: 32\n",
            "Epoch 0, Loss: 0.6352, Accuracy: 0.7188\n",
            "Epoch 10, Loss: 0.6252, Accuracy: 0.7500\n",
            "Epoch 20, Loss: 0.3829, Accuracy: 0.8750\n",
            "Epoch 30, Loss: 0.3514, Accuracy: 0.9062\n",
            "Epoch 40, Loss: 0.2668, Accuracy: 0.9062\n",
            "Final Loss for batch size 32: 0.2293\n",
            "Final Accuracy for batch size 32: 0.9375\n",
            "\n",
            "Training with mini-batch size: 64\n",
            "Epoch 0, Loss: 0.7203, Accuracy: 0.6250\n",
            "Epoch 10, Loss: 0.6136, Accuracy: 0.7500\n",
            "Epoch 20, Loss: 0.4563, Accuracy: 0.8750\n",
            "Epoch 30, Loss: 0.3877, Accuracy: 0.8750\n",
            "Epoch 40, Loss: 0.2832, Accuracy: 0.8750\n",
            "Final Loss for batch size 64: 0.2443\n",
            "Final Accuracy for batch size 64: 0.8750\n"
          ]
        }
      ],
      "source": [
        "def compare_mini_batch_sizes(X_train, y_train, hidden_size, epochs=50, batch_sizes=[16, 32, 64]):\n",
        "    \"\"\"\n",
        "    Compare the performance of different mini-batch sizes and print results.\n",
        "\n",
        "    Parameters:\n",
        "    - X_train: Training data.\n",
        "    - y_train: One-hot encoded labels.\n",
        "    - hidden_size: Number of neurons in the hidden layer.\n",
        "    - epochs: Number of training epochs.\n",
        "    - batch_sizes: List of mini-batch sizes to test.\n",
        "    \"\"\"\n",
        "    results = {}\n",
        "    for batch_size in batch_sizes:\n",
        "        print(f\"\\nTraining with batch size: {batch_size}\")\n",
        "        l, a = train_model_with_mini_batches(X_train, y_train, hidden_size, epochs, learning_rate=0.01, batch_size=batch_size)\n",
        "        print(f\"Final Loss (batch size {batch_size}): {l[-1]:.4f}\")\n",
        "        print(f\"Final Accuracy (batch size {batch_size}): {a[-1]:.4f}\")\n",
        "\n",
        "compare_mini_batch_sizes(x_train, y_train, hidden_size=64, epochs=50, batch_sizes=[16, 32, 64])"
      ]
    },
    {
      "cell_type": "markdown",
      "metadata": {
        "id": "wb3WXFgMlXP7"
      },
      "source": [
        "### Mini-Batch vs. Full-Batch Gradient Descent\n"
      ]
    },
    {
      "cell_type": "markdown",
      "metadata": {
        "id": "vVvy9f6PlPCS"
      },
      "source": [
        "TODO: Compare the efficiency and performance of mini-batch gradient descent against full-batch gradient descent.\n",
        "\n",
        "1. Implement Full-Batch Gradient Descent: Ensure you have a full-batch gradient descent implementation.\n",
        "\n",
        "2. Modify the Training Loop: Allow the training loop to handle both mini-batch and full-batch scenarios.\n",
        "\n",
        "3. Train the Model: Run the training process using both methods and track their performance.\n",
        "\n",
        "4. Print Results: Display the final loss and accuracy for both methods along with training times."
      ]
    },
    {
      "cell_type": "code",
      "execution_count": null,
      "metadata": {
        "id": "tlTYBB2tlgBG"
      },
      "outputs": [],
      "source": [
        "def train_model_full_batch(X_train, y_train, hidden_size, epochs=50, learning_rate=0.01):\n",
        "    \"\"\"\n",
        "    Train the neural network model using full-batch gradient descent.\n",
        "\n",
        "    Parameters:\n",
        "    - X_train: Training data.\n",
        "    - y_train: One-hot encoded labels.\n",
        "    - hidden_size: Number of neurons in the hidden layer.\n",
        "    - epochs: Number of training epochs.\n",
        "    - learning_rate: Learning rate for optimization.\n",
        "\n",
        "    Returns:\n",
        "    - loss_history: List of loss values over epochs.\n",
        "    - accuracy_history: List of accuracy values over epochs.\n",
        "    \"\"\"\n",
        "    parameters = initialize_parameters(X_train.shape[1], hidden_size, y_train.shape[1])\n",
        "    loss_history = []\n",
        "    accuracy_history = []\n",
        "    for epoch in range(epochs):\n",
        "        A2, cache = forward_propagation(X_train, parameters)\n",
        "        loss = compute_loss(y_train, A2)\n",
        "        loss_history.append(loss)\n",
        "        gradients = backward_propagation(X_train, y_train, parameters, cache)\n",
        "        parameters = update_parameters(parameters, gradients, learning_rate)\n",
        "        A2_full, _ = forward_propagation(X_train, parameters)\n",
        "        predictions = np.argmax(A2_full, axis=1)\n",
        "        labels = np.argmax(y_train, axis=1)\n",
        "        accuracy = np.mean(predictions == labels)\n",
        "\n",
        "        if (epoch + 1) % 10 == 0:\n",
        "            print(f\"Epoch {epoch + 1}/{epochs}, Loss: {loss:.4f}, Accuracy: {accuracy:.4f}\")\n",
        "\n",
        "    return loss_history, accuracy_history"
      ]
    },
    {
      "cell_type": "code",
      "execution_count": 144,
      "metadata": {
        "colab": {
          "base_uri": "https://localhost:8080/"
        },
        "id": "YIb4-9eGllGi",
        "outputId": "89022255-350d-4e37-e239-80f605d25f54"
      },
      "outputs": [
        {
          "output_type": "stream",
          "name": "stdout",
          "text": [
            "Training with Full-Batch Gradient Descent...\n",
            "Epoch 10/50, Loss: 1.6032, Accuracy: 0.1652\n",
            "Epoch 20/50, Loss: 1.8836, Accuracy: 0.2217\n",
            "Epoch 30/50, Loss: 1.9093, Accuracy: 0.2908\n",
            "Epoch 40/50, Loss: 1.8657, Accuracy: 0.3539\n",
            "Epoch 50/50, Loss: 1.8045, Accuracy: 0.4053\n",
            "\n",
            "Training with Mini-Batch Gradient Descent...\n",
            "Epoch 10/50, Loss: 0.4159, Accuracy: 0.8637\n",
            "Epoch 20/50, Loss: 0.3607, Accuracy: 0.8791\n",
            "Epoch 30/50, Loss: 0.3297, Accuracy: 0.8899\n",
            "Epoch 40/50, Loss: 0.3080, Accuracy: 0.8982\n",
            "Epoch 50/50, Loss: 0.2903, Accuracy: 0.8982\n",
            "\n",
            "Results:\n",
            "Mini-Batch: Final Loss = 0.2903, Final Accuracy = 0.8982, Training Time = 106.07 seconds\n",
            "Full-Batch: Final Loss = 1.8045, Final Accuracy = 0.4053, Training Time = 34.75 seconds\n"
          ]
        }
      ],
      "source": [
        "import time\n",
        "\n",
        "def compare_mini_batch_and_full_batch(X_train, y_train, hidden_size, epochs=50, batch_size=32):\n",
        "    \"\"\"\n",
        "    Compare the performance of mini-batch gradient descent against full-batch gradient descent.\n",
        "\n",
        "    Parameters:\n",
        "    - X_train: Training data.\n",
        "    - y_train: One-hot encoded labels.\n",
        "    - hidden_size: Number of neurons in the hidden layer.\n",
        "    - epochs: Number of training epochs.\n",
        "    - batch_size: Size of mini-batches for mini-batch gradient descent.\n",
        "    \"\"\"\n",
        "\n",
        "    results = {}\n",
        "\n",
        "    print(\"\\nTraining with Full-Batch Gradient Descent...\")\n",
        "    start_time = time.time()\n",
        "    loss_full, acc_full = train_model_full_batch(X_train, y_train, hidden_size, epochs, learning_rate=0.01)\n",
        "    full_time = time.time() - start_time\n",
        "    results[\"full_batch\"] = {\"loss\": loss_full, \"accuracy\": acc_full, \"time\": full_time}\n",
        "\n",
        "    print(\"\\nTraining with Mini-Batch Gradient Descent...\")\n",
        "    start_time = time.time()\n",
        "    loss_mini, acc_mini = train_model_with_mini_batches(X_train, y_train, hidden_size, epochs, learning_rate=0.01, batch_size=batch_size)\n",
        "    mini_time = time.time() - start_time\n",
        "    results[\"mini_batch\"] = {\"loss\": loss_mini, \"accuracy\": acc_mini, \"time\": mini_time}\n",
        "\n",
        "    print(\"\\nResults:\")\n",
        "    print(f\"Mini-Batch: Final Loss = {loss_mini[-1]:.4f}, Final Accuracy = {acc_mini[-1]:.4f}, Training Time = {mini_time:.2f} seconds\")\n",
        "    print(f\"Full-Batch: Final Loss = {loss_full[-1]:.4f}, Final Accuracy = {acc_full[-1]:.4f}, Training Time = {full_time:.2f} seconds\")\n",
        "\n",
        "compare_mini_batch_and_full_batch(x_train, y_train, hidden_size=64, epochs=50, batch_size=32)"
      ]
    }
  ],
  "metadata": {
    "colab": {
      "provenance": []
    },
    "kernelspec": {
      "display_name": "Python 3",
      "name": "python3"
    },
    "language_info": {
      "codemirror_mode": {
        "name": "ipython",
        "version": 3
      },
      "file_extension": ".py",
      "mimetype": "text/x-python",
      "name": "python",
      "nbconvert_exporter": "python",
      "pygments_lexer": "ipython3",
      "version": "3.10.5"
    }
  },
  "nbformat": 4,
  "nbformat_minor": 0
}